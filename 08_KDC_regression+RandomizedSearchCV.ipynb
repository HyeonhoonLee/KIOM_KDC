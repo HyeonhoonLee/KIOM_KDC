{
  "nbformat": 4,
  "nbformat_minor": 0,
  "metadata": {
    "colab": {
      "name": "08 KDC_regression+RandomizedSearchCV.ipynb",
      "provenance": [],
      "collapsed_sections": [],
      "toc_visible": true,
      "mount_file_id": "1wCn6SrZCLvtSg47hRzKdzbNYF_aB6XSV",
      "authorship_tag": "ABX9TyMZv4VJ40vqgUNB6UdCotvL",
      "include_colab_link": true
    },
    "kernelspec": {
      "name": "python3",
      "display_name": "Python 3"
    },
    "accelerator": "GPU"
  },
  "cells": [
    {
      "cell_type": "markdown",
      "metadata": {
        "id": "view-in-github",
        "colab_type": "text"
      },
      "source": [
        "<a href=\"https://colab.research.google.com/github/HyeonhoonLee/KIOM_KDC/blob/master/08_KDC_regression%2BRandomizedSearchCV.ipynb\" target=\"_parent\"><img src=\"https://colab.research.google.com/assets/colab-badge.svg\" alt=\"Open In Colab\"/></a>"
      ]
    },
    {
      "cell_type": "markdown",
      "metadata": {
        "id": "KfySr4tmy-Fp",
        "colab_type": "text"
      },
      "source": [
        "#KIOM 한의임상정보은행 data 분석하기"
      ]
    },
    {
      "cell_type": "markdown",
      "metadata": {
        "id": "xL3NjWdMzSes",
        "colab_type": "text"
      },
      "source": [
        "Classification을 수행한다."
      ]
    },
    {
      "cell_type": "markdown",
      "metadata": {
        "id": "Qa_ie4wOzWKO",
        "colab_type": "text"
      },
      "source": [
        "# 라이브러리 로드"
      ]
    },
    {
      "cell_type": "code",
      "metadata": {
        "id": "EwRzY8iYzViA",
        "colab_type": "code",
        "colab": {
          "base_uri": "https://localhost:8080/",
          "height": 73
        },
        "outputId": "07d76ceb-d55a-46b7-98fe-f189b9de37ae"
      },
      "source": [
        "# 분석에 사용할 pandas, 수치계산에 사용할 numpy, 시각화에 사용할 seaborn 을 불러옵니다.\n",
        "# 또, 구 버전의 주피터 노트북에서는 %matplotlib inline 설정을 되어야 노트북 안에서 그래프를 시각화 합니다.\n",
        "\n",
        "import pandas as pd\n",
        "import numpy as np\n",
        "import seaborn as sns\n",
        "\n",
        "import matplotlib.pyplot as plt\n",
        "\n",
        "%matplotlib inline"
      ],
      "execution_count": 1,
      "outputs": [
        {
          "output_type": "stream",
          "text": [
            "/usr/local/lib/python3.6/dist-packages/statsmodels/tools/_testing.py:19: FutureWarning: pandas.util.testing is deprecated. Use the functions in the public API at pandas.testing instead.\n",
            "  import pandas.util.testing as tm\n"
          ],
          "name": "stderr"
        }
      ]
    },
    {
      "cell_type": "markdown",
      "metadata": {
        "id": "f8637B8jz4Cf",
        "colab_type": "text"
      },
      "source": [
        "#한글 폰트 설정"
      ]
    },
    {
      "cell_type": "code",
      "metadata": {
        "id": "MuCE-WRyz3Zb",
        "colab_type": "code",
        "colab": {
          "base_uri": "https://localhost:8080/",
          "height": 71
        },
        "outputId": "217c82d9-27e1-4a43-85f8-8820abcc5e16"
      },
      "source": [
        "# Google Colab 사용 시 아래 주석을 풀고 폰트설정을 합니다.\n",
        "# 로컬 아나콘다 사용 시에는 그대로 주석처리 해놓으시면 됩니다.\n",
        "# 나눔고딕 설치\n",
        "# 이 코드를 사용시 아래에 있는 폰트를 로드할 경우 colab에서는 오류가 발생하니\n",
        "# 아래에 있는 폰트 설정은 꼭 주석처리를 해주세요. \n",
        "!apt -qq -y install fonts-nanum > /dev/null\n",
        "\n",
        "import matplotlib.font_manager as fm\n",
        "\n",
        "fontpath = '/usr/share/fonts/truetype/nanum/NanumGothic.ttf'\n",
        "font = fm.FontProperties(fname=fontpath, size=9)\n",
        "\n",
        "fm._rebuild()\n",
        "\n",
        "# Colab 의 한글 폰트 설정\n",
        "plt.rc('font', family='NanumGothic') \n",
        "# 마이너스 폰트 깨지는 문제에 대한 대처\n",
        "plt.rc(\"axes\", unicode_minus=False)"
      ],
      "execution_count": 2,
      "outputs": [
        {
          "output_type": "stream",
          "text": [
            "\n",
            "WARNING: apt does not have a stable CLI interface. Use with caution in scripts.\n",
            "\n"
          ],
          "name": "stdout"
        }
      ]
    },
    {
      "cell_type": "code",
      "metadata": {
        "id": "Y3Vgi7uv0JY8",
        "colab_type": "code",
        "colab": {}
      },
      "source": [
        "# 레티나 설정을 해주면 글씨가 좀 더 선명하게 보입니다.\n",
        "# 폰트의 주변이 흐릿하게 보이는 것을 방지합니다.\n",
        "%config InlineBackend.figure_format = 'retina'"
      ],
      "execution_count": 3,
      "outputs": []
    },
    {
      "cell_type": "markdown",
      "metadata": {
        "id": "vvJsc7_L0SmJ",
        "colab_type": "text"
      },
      "source": [
        "#데이터 불러오기"
      ]
    },
    {
      "cell_type": "markdown",
      "metadata": {
        "id": "zW1fFVyF0adL",
        "colab_type": "text"
      },
      "source": [
        "- 데이터 로드 주소: https://www.data.go.kr/data/3072201/fileData.do\n",
        "- 임상정보은행 사이트에서 상세이용방법 확인가능 (https://kdc.kiom.re.kr/html/?pmode=subpage&MMC_pid=200&spSeq=22)"
      ]
    },
    {
      "cell_type": "code",
      "metadata": {
        "id": "2vBVJzbB0R1v",
        "colab_type": "code",
        "colab": {
          "base_uri": "https://localhost:8080/",
          "height": 35
        },
        "outputId": "1efcdb3d-04bd-45e7-9819-f036f2640201"
      },
      "source": [
        "# 다운로드 받은 파일을 판다스의 read_csv 를 통해 읽어옵니다.\n",
        "# 파일을 읽어온 후 shape 로 행과 열의 수를 출력합니다.\n",
        "\n",
        "##새로만든 csv에는 인코딩을 따로 지정하지 않아도된다.\n",
        "df = pd.read_csv(\"/content/drive/My Drive/DataCollection/KIOM_KDC/data/한의임상정보은행 교육용 데이터 (2016.10.27)..csv\", encoding=\"cp949\")\n",
        "df.shape"
      ],
      "execution_count": 4,
      "outputs": [
        {
          "output_type": "execute_result",
          "data": {
            "text/plain": [
              "(500, 73)"
            ]
          },
          "metadata": {
            "tags": []
          },
          "execution_count": 4
        }
      ]
    },
    {
      "cell_type": "code",
      "metadata": {
        "id": "eoa2FXhjzx4F",
        "colab_type": "code",
        "colab": {
          "base_uri": "https://localhost:8080/",
          "height": 428
        },
        "outputId": "576dfa10-42fc-4c06-8b38-5fb692288dae"
      },
      "source": [
        "# sample, head, tail을 통해 데이터를 미리보기 합니다.\n",
        "df.head()"
      ],
      "execution_count": 5,
      "outputs": [
        {
          "output_type": "execute_result",
          "data": {
            "text/html": [
              "<div>\n",
              "<style scoped>\n",
              "    .dataframe tbody tr th:only-of-type {\n",
              "        vertical-align: middle;\n",
              "    }\n",
              "\n",
              "    .dataframe tbody tr th {\n",
              "        vertical-align: top;\n",
              "    }\n",
              "\n",
              "    .dataframe thead th {\n",
              "        text-align: right;\n",
              "    }\n",
              "</style>\n",
              "<table border=\"1\" class=\"dataframe\">\n",
              "  <thead>\n",
              "    <tr style=\"text-align: right;\">\n",
              "      <th></th>\n",
              "      <th>대상자식별코드</th>\n",
              "      <th>성별</th>\n",
              "      <th>만나이</th>\n",
              "      <th>직업분류</th>\n",
              "      <th>학력</th>\n",
              "      <th>결혼유무</th>\n",
              "      <th>음주력</th>\n",
              "      <th>흡연력</th>\n",
              "      <th>성격_대범_섬세</th>\n",
              "      <th>성격_행동빠름_행동느림</th>\n",
              "      <th>성격_적극_소극</th>\n",
              "      <th>성격_직접_간접</th>\n",
              "      <th>성격_포기빠름_포기느림</th>\n",
              "      <th>성격_외향_내성</th>\n",
              "      <th>성격_동적_정적</th>\n",
              "      <th>성격_쉽게_어렵게</th>\n",
              "      <th>성격_남성적_여성적</th>\n",
              "      <th>성격_참을성부족_잘찾음</th>\n",
              "      <th>성격_큰편_적은편</th>\n",
              "      <th>성격_잘드러냄_안드러냄</th>\n",
              "      <th>성격_잘표현_표현안하는편</th>\n",
              "      <th>성격_가끔흥분_이성적</th>\n",
              "      <th>성격_덜렁_꼼꼼</th>\n",
              "      <th>식사량</th>\n",
              "      <th>식사속도</th>\n",
              "      <th>소화여부</th>\n",
              "      <th>소화입맛</th>\n",
              "      <th>땀정도</th>\n",
              "      <th>땀기분</th>\n",
              "      <th>대변습관</th>\n",
              "      <th>대변굳기</th>\n",
              "      <th>배변시긴박감</th>\n",
              "      <th>배변후잔변감</th>\n",
              "      <th>소변야간뇨</th>\n",
              "      <th>한열민감도</th>\n",
              "      <th>한열손부위</th>\n",
              "      <th>한열발부위</th>\n",
              "      <th>한열배부위</th>\n",
              "      <th>음수정도</th>\n",
              "      <th>음수온다</th>\n",
              "      <th>한열점수</th>\n",
              "      <th>한열그룹</th>\n",
              "      <th>고혈압_진단</th>\n",
              "      <th>당뇨_진단</th>\n",
              "      <th>고지혈증_진단</th>\n",
              "      <th>일반건강</th>\n",
              "      <th>수면시간(시간)</th>\n",
              "      <th>수면시간(분)</th>\n",
              "      <th>피로정도</th>\n",
              "      <th>피로_기상시</th>\n",
              "      <th>피로_오전</th>\n",
              "      <th>피로_오후</th>\n",
              "      <th>피로_밤</th>\n",
              "      <th>피로_하루종일</th>\n",
              "      <th>한의사체질진단</th>\n",
              "      <th>키</th>\n",
              "      <th>몸무게</th>\n",
              "      <th>BMI</th>\n",
              "      <th>이마둘레</th>\n",
              "      <th>목둘레</th>\n",
              "      <th>겨드랑이둘레</th>\n",
              "      <th>가슴둘레</th>\n",
              "      <th>늑골둘레</th>\n",
              "      <th>허리둘레</th>\n",
              "      <th>장골둘레</th>\n",
              "      <th>곡골둘레</th>\n",
              "      <th>수축기혈합</th>\n",
              "      <th>이완기혈압</th>\n",
              "      <th>혈당</th>\n",
              "      <th>총콜레스테롤</th>\n",
              "      <th>중성지방</th>\n",
              "      <th>고밀도콜레스테롤</th>\n",
              "      <th>저밀도콜레스테롤</th>\n",
              "    </tr>\n",
              "  </thead>\n",
              "  <tbody>\n",
              "    <tr>\n",
              "      <th>0</th>\n",
              "      <td>KDCT00001</td>\n",
              "      <td>2</td>\n",
              "      <td>48.666</td>\n",
              "      <td>2</td>\n",
              "      <td>5</td>\n",
              "      <td>2</td>\n",
              "      <td>999</td>\n",
              "      <td>999</td>\n",
              "      <td>2</td>\n",
              "      <td>2</td>\n",
              "      <td>1</td>\n",
              "      <td>2</td>\n",
              "      <td>1</td>\n",
              "      <td>1</td>\n",
              "      <td>1</td>\n",
              "      <td>2</td>\n",
              "      <td>2</td>\n",
              "      <td>3</td>\n",
              "      <td>2</td>\n",
              "      <td>2</td>\n",
              "      <td>2</td>\n",
              "      <td>1</td>\n",
              "      <td>1</td>\n",
              "      <td>2</td>\n",
              "      <td>2</td>\n",
              "      <td>1</td>\n",
              "      <td>3</td>\n",
              "      <td>3</td>\n",
              "      <td>1</td>\n",
              "      <td>1</td>\n",
              "      <td>2</td>\n",
              "      <td>999</td>\n",
              "      <td>999</td>\n",
              "      <td>1.0</td>\n",
              "      <td>1</td>\n",
              "      <td>2</td>\n",
              "      <td>2</td>\n",
              "      <td>2</td>\n",
              "      <td>2</td>\n",
              "      <td>2</td>\n",
              "      <td>12</td>\n",
              "      <td>2</td>\n",
              "      <td>1</td>\n",
              "      <td>1</td>\n",
              "      <td>1</td>\n",
              "      <td>3</td>\n",
              "      <td>5</td>\n",
              "      <td>0</td>\n",
              "      <td>2</td>\n",
              "      <td>0</td>\n",
              "      <td>0</td>\n",
              "      <td>0</td>\n",
              "      <td>1</td>\n",
              "      <td>0</td>\n",
              "      <td>2</td>\n",
              "      <td>158.0</td>\n",
              "      <td>55.0</td>\n",
              "      <td>22.0</td>\n",
              "      <td>53.0</td>\n",
              "      <td>33.0</td>\n",
              "      <td>92.0</td>\n",
              "      <td>96.0</td>\n",
              "      <td>89.0</td>\n",
              "      <td>82.0</td>\n",
              "      <td>91.0</td>\n",
              "      <td>96.0</td>\n",
              "      <td>120</td>\n",
              "      <td>80</td>\n",
              "      <td>104</td>\n",
              "      <td>219</td>\n",
              "      <td>72</td>\n",
              "      <td>60</td>\n",
              "      <td>128</td>\n",
              "    </tr>\n",
              "    <tr>\n",
              "      <th>1</th>\n",
              "      <td>KDCT00002</td>\n",
              "      <td>2</td>\n",
              "      <td>80.773</td>\n",
              "      <td>14</td>\n",
              "      <td>3</td>\n",
              "      <td>2</td>\n",
              "      <td>999</td>\n",
              "      <td>999</td>\n",
              "      <td>1</td>\n",
              "      <td>1</td>\n",
              "      <td>1</td>\n",
              "      <td>1</td>\n",
              "      <td>1</td>\n",
              "      <td>1</td>\n",
              "      <td>1</td>\n",
              "      <td>2</td>\n",
              "      <td>1</td>\n",
              "      <td>3</td>\n",
              "      <td>1</td>\n",
              "      <td>1</td>\n",
              "      <td>1</td>\n",
              "      <td>1</td>\n",
              "      <td>3</td>\n",
              "      <td>2</td>\n",
              "      <td>2</td>\n",
              "      <td>1</td>\n",
              "      <td>3</td>\n",
              "      <td>1</td>\n",
              "      <td>2</td>\n",
              "      <td>1</td>\n",
              "      <td>2</td>\n",
              "      <td>999</td>\n",
              "      <td>999</td>\n",
              "      <td>1.0</td>\n",
              "      <td>2</td>\n",
              "      <td>2</td>\n",
              "      <td>2</td>\n",
              "      <td>2</td>\n",
              "      <td>2</td>\n",
              "      <td>3</td>\n",
              "      <td>13</td>\n",
              "      <td>3</td>\n",
              "      <td>1</td>\n",
              "      <td>1</td>\n",
              "      <td>1</td>\n",
              "      <td>3</td>\n",
              "      <td>5</td>\n",
              "      <td>0</td>\n",
              "      <td>4</td>\n",
              "      <td>0</td>\n",
              "      <td>0</td>\n",
              "      <td>1</td>\n",
              "      <td>0</td>\n",
              "      <td>0</td>\n",
              "      <td>3</td>\n",
              "      <td>155.0</td>\n",
              "      <td>63.0</td>\n",
              "      <td>26.2</td>\n",
              "      <td>59.0</td>\n",
              "      <td>35.0</td>\n",
              "      <td>96.0</td>\n",
              "      <td>101.0</td>\n",
              "      <td>93.0</td>\n",
              "      <td>92.0</td>\n",
              "      <td>96.0</td>\n",
              "      <td>99.0</td>\n",
              "      <td>124</td>\n",
              "      <td>65</td>\n",
              "      <td>110</td>\n",
              "      <td>199</td>\n",
              "      <td>97</td>\n",
              "      <td>46</td>\n",
              "      <td>114</td>\n",
              "    </tr>\n",
              "    <tr>\n",
              "      <th>2</th>\n",
              "      <td>KDCT00003</td>\n",
              "      <td>1</td>\n",
              "      <td>50.008</td>\n",
              "      <td>3</td>\n",
              "      <td>3</td>\n",
              "      <td>2</td>\n",
              "      <td>999</td>\n",
              "      <td>999</td>\n",
              "      <td>3</td>\n",
              "      <td>1</td>\n",
              "      <td>1</td>\n",
              "      <td>1</td>\n",
              "      <td>1</td>\n",
              "      <td>1</td>\n",
              "      <td>1</td>\n",
              "      <td>1</td>\n",
              "      <td>1</td>\n",
              "      <td>2</td>\n",
              "      <td>1</td>\n",
              "      <td>1</td>\n",
              "      <td>1</td>\n",
              "      <td>1</td>\n",
              "      <td>3</td>\n",
              "      <td>3</td>\n",
              "      <td>2</td>\n",
              "      <td>3</td>\n",
              "      <td>2</td>\n",
              "      <td>3</td>\n",
              "      <td>1</td>\n",
              "      <td>1</td>\n",
              "      <td>2</td>\n",
              "      <td>999</td>\n",
              "      <td>999</td>\n",
              "      <td>1.0</td>\n",
              "      <td>3</td>\n",
              "      <td>2</td>\n",
              "      <td>3</td>\n",
              "      <td>2</td>\n",
              "      <td>2</td>\n",
              "      <td>2</td>\n",
              "      <td>12</td>\n",
              "      <td>2</td>\n",
              "      <td>1</td>\n",
              "      <td>1</td>\n",
              "      <td>1</td>\n",
              "      <td>3</td>\n",
              "      <td>7</td>\n",
              "      <td>0</td>\n",
              "      <td>2</td>\n",
              "      <td>0</td>\n",
              "      <td>0</td>\n",
              "      <td>1</td>\n",
              "      <td>0</td>\n",
              "      <td>0</td>\n",
              "      <td>2</td>\n",
              "      <td>160.0</td>\n",
              "      <td>59.0</td>\n",
              "      <td>23.0</td>\n",
              "      <td>57.0</td>\n",
              "      <td>37.0</td>\n",
              "      <td>95.0</td>\n",
              "      <td>90.0</td>\n",
              "      <td>83.0</td>\n",
              "      <td>80.0</td>\n",
              "      <td>81.0</td>\n",
              "      <td>81.0</td>\n",
              "      <td>121</td>\n",
              "      <td>75</td>\n",
              "      <td>79</td>\n",
              "      <td>216</td>\n",
              "      <td>88</td>\n",
              "      <td>49</td>\n",
              "      <td>132</td>\n",
              "    </tr>\n",
              "    <tr>\n",
              "      <th>3</th>\n",
              "      <td>KDCT00004</td>\n",
              "      <td>2</td>\n",
              "      <td>50.551</td>\n",
              "      <td>14</td>\n",
              "      <td>4</td>\n",
              "      <td>2</td>\n",
              "      <td>999</td>\n",
              "      <td>999</td>\n",
              "      <td>1</td>\n",
              "      <td>1</td>\n",
              "      <td>1</td>\n",
              "      <td>1</td>\n",
              "      <td>1</td>\n",
              "      <td>1</td>\n",
              "      <td>1</td>\n",
              "      <td>2</td>\n",
              "      <td>1</td>\n",
              "      <td>1</td>\n",
              "      <td>1</td>\n",
              "      <td>2</td>\n",
              "      <td>1</td>\n",
              "      <td>1</td>\n",
              "      <td>2</td>\n",
              "      <td>999</td>\n",
              "      <td>1</td>\n",
              "      <td>3</td>\n",
              "      <td>2</td>\n",
              "      <td>2</td>\n",
              "      <td>3</td>\n",
              "      <td>2</td>\n",
              "      <td>2</td>\n",
              "      <td>999</td>\n",
              "      <td>999</td>\n",
              "      <td>1.0</td>\n",
              "      <td>2</td>\n",
              "      <td>2</td>\n",
              "      <td>2</td>\n",
              "      <td>2</td>\n",
              "      <td>1</td>\n",
              "      <td>2</td>\n",
              "      <td>15</td>\n",
              "      <td>3</td>\n",
              "      <td>1</td>\n",
              "      <td>1</td>\n",
              "      <td>1</td>\n",
              "      <td>4</td>\n",
              "      <td>7</td>\n",
              "      <td>0</td>\n",
              "      <td>4</td>\n",
              "      <td>0</td>\n",
              "      <td>0</td>\n",
              "      <td>1</td>\n",
              "      <td>0</td>\n",
              "      <td>0</td>\n",
              "      <td>2</td>\n",
              "      <td>165.0</td>\n",
              "      <td>76.0</td>\n",
              "      <td>27.9</td>\n",
              "      <td>59.0</td>\n",
              "      <td>37.0</td>\n",
              "      <td>100.0</td>\n",
              "      <td>104.0</td>\n",
              "      <td>90.0</td>\n",
              "      <td>91.0</td>\n",
              "      <td>94.0</td>\n",
              "      <td>99.0</td>\n",
              "      <td>113</td>\n",
              "      <td>81</td>\n",
              "      <td>100</td>\n",
              "      <td>218</td>\n",
              "      <td>136</td>\n",
              "      <td>44</td>\n",
              "      <td>136</td>\n",
              "    </tr>\n",
              "    <tr>\n",
              "      <th>4</th>\n",
              "      <td>KDCT00005</td>\n",
              "      <td>1</td>\n",
              "      <td>49.581</td>\n",
              "      <td>8</td>\n",
              "      <td>2</td>\n",
              "      <td>2</td>\n",
              "      <td>999</td>\n",
              "      <td>999</td>\n",
              "      <td>3</td>\n",
              "      <td>2</td>\n",
              "      <td>3</td>\n",
              "      <td>2</td>\n",
              "      <td>2</td>\n",
              "      <td>3</td>\n",
              "      <td>2</td>\n",
              "      <td>2</td>\n",
              "      <td>2</td>\n",
              "      <td>3</td>\n",
              "      <td>3</td>\n",
              "      <td>2</td>\n",
              "      <td>2</td>\n",
              "      <td>2</td>\n",
              "      <td>1</td>\n",
              "      <td>2</td>\n",
              "      <td>1</td>\n",
              "      <td>1</td>\n",
              "      <td>3</td>\n",
              "      <td>1</td>\n",
              "      <td>2</td>\n",
              "      <td>1</td>\n",
              "      <td>2</td>\n",
              "      <td>999</td>\n",
              "      <td>999</td>\n",
              "      <td>0.0</td>\n",
              "      <td>1</td>\n",
              "      <td>3</td>\n",
              "      <td>3</td>\n",
              "      <td>2</td>\n",
              "      <td>1</td>\n",
              "      <td>2</td>\n",
              "      <td>11</td>\n",
              "      <td>2</td>\n",
              "      <td>1</td>\n",
              "      <td>1</td>\n",
              "      <td>1</td>\n",
              "      <td>2</td>\n",
              "      <td>5</td>\n",
              "      <td>0</td>\n",
              "      <td>4</td>\n",
              "      <td>0</td>\n",
              "      <td>0</td>\n",
              "      <td>1</td>\n",
              "      <td>0</td>\n",
              "      <td>0</td>\n",
              "      <td>1</td>\n",
              "      <td>165.0</td>\n",
              "      <td>70.0</td>\n",
              "      <td>25.7</td>\n",
              "      <td>60.0</td>\n",
              "      <td>40.0</td>\n",
              "      <td>106.0</td>\n",
              "      <td>102.0</td>\n",
              "      <td>99.0</td>\n",
              "      <td>98.0</td>\n",
              "      <td>98.0</td>\n",
              "      <td>100.0</td>\n",
              "      <td>129</td>\n",
              "      <td>72</td>\n",
              "      <td>92</td>\n",
              "      <td>186</td>\n",
              "      <td>61</td>\n",
              "      <td>33</td>\n",
              "      <td>118</td>\n",
              "    </tr>\n",
              "  </tbody>\n",
              "</table>\n",
              "</div>"
            ],
            "text/plain": [
              "     대상자식별코드  성별     만나이  직업분류  학력  ...   혈당  총콜레스테롤  중성지방  고밀도콜레스테롤  저밀도콜레스테롤\n",
              "0  KDCT00001   2  48.666     2   5  ...  104     219    72        60       128\n",
              "1  KDCT00002   2  80.773    14   3  ...  110     199    97        46       114\n",
              "2  KDCT00003   1  50.008     3   3  ...   79     216    88        49       132\n",
              "3  KDCT00004   2  50.551    14   4  ...  100     218   136        44       136\n",
              "4  KDCT00005   1  49.581     8   2  ...   92     186    61        33       118\n",
              "\n",
              "[5 rows x 73 columns]"
            ]
          },
          "metadata": {
            "tags": []
          },
          "execution_count": 5
        }
      ]
    },
    {
      "cell_type": "code",
      "metadata": {
        "id": "dCwhTYVo8JyB",
        "colab_type": "code",
        "colab": {}
      },
      "source": [
        "# 본 실습에서는 연속형 변수 중 결측치가 얼마 없어서, 저밀도콜레스테롤을 회귀분석으로 예측해봅니다. \n",
        "## 일단, 나머지 결측치는 처리하지 않고 진행해봅니다."
      ],
      "execution_count": 6,
      "outputs": []
    },
    {
      "cell_type": "markdown",
      "metadata": {
        "id": "YhIKKM_DkYv4",
        "colab_type": "text"
      },
      "source": [
        "# 학습, 예측 데이터셋 나누기"
      ]
    },
    {
      "cell_type": "code",
      "metadata": {
        "id": "O8Y5knZHT2Ao",
        "colab_type": "code",
        "colab": {
          "base_uri": "https://localhost:8080/",
          "height": 71
        },
        "outputId": "3a3edc22-bccb-4f51-9782-fa0668dd3c73"
      },
      "source": [
        "# label 값을 기준으로 나눕니다.\n",
        "# 나누기 전에 label 값을 시각화 합니다.\n",
        "(df[\"저밀도콜레스테롤\"] < 999).value_counts()"
      ],
      "execution_count": 7,
      "outputs": [
        {
          "output_type": "execute_result",
          "data": {
            "text/plain": [
              "True     497\n",
              "False      3\n",
              "Name: 저밀도콜레스테롤, dtype: int64"
            ]
          },
          "metadata": {
            "tags": []
          },
          "execution_count": 7
        }
      ]
    },
    {
      "cell_type": "code",
      "metadata": {
        "id": "Wsf9CCg7T2Aq",
        "colab_type": "code",
        "colab": {
          "base_uri": "https://localhost:8080/",
          "height": 35
        },
        "outputId": "51b6bbea-cbfc-4eba-b559-59ba2b49afb2"
      },
      "source": [
        "# train 세트를 만듭니다.\n",
        "\n",
        "train = df[df[\"저밀도콜레스테롤\"] < 999].copy()\n",
        "train.shape"
      ],
      "execution_count": 8,
      "outputs": [
        {
          "output_type": "execute_result",
          "data": {
            "text/plain": [
              "(497, 73)"
            ]
          },
          "metadata": {
            "tags": []
          },
          "execution_count": 8
        }
      ]
    },
    {
      "cell_type": "code",
      "metadata": {
        "id": "2iAHLyAmT2At",
        "colab_type": "code",
        "colab": {
          "base_uri": "https://localhost:8080/",
          "height": 35
        },
        "outputId": "cfc006e1-1789-41e4-d5e5-3dfe0974e4e7"
      },
      "source": [
        "# test 세트를 만듭니다.\n",
        "\n",
        "test = df[df[\"저밀도콜레스테롤\"] == 999].copy()\n",
        "test.shape"
      ],
      "execution_count": 9,
      "outputs": [
        {
          "output_type": "execute_result",
          "data": {
            "text/plain": [
              "(3, 73)"
            ]
          },
          "metadata": {
            "tags": []
          },
          "execution_count": 9
        }
      ]
    },
    {
      "cell_type": "markdown",
      "metadata": {
        "id": "hNTQugQLrdRi",
        "colab_type": "text"
      },
      "source": [
        "# EDA (1단계에서는 pass)\n",
        "- 아래의 6개 코드는, 1차로 오차를 구하고난 뒤 다시 수행한 코드이다.\n",
        "- Outlier를 없애주기 위한 과정(EDA 및 feature engineering)이다."
      ]
    },
    {
      "cell_type": "code",
      "metadata": {
        "id": "1ISnfp-6T2Aw",
        "colab_type": "code",
        "colab": {
          "base_uri": "https://localhost:8080/",
          "height": 298
        },
        "outputId": "eac4484c-e1ad-4eef-fa00-b6e90ba3ec0b"
      },
      "source": [
        "# 먼저 간단한 EDA를 해준다.\n",
        "# test에 있는 값은 모두 999이므로 의미없다.\n",
        "sns.distplot(train[\"저밀도콜레스테롤\"])"
      ],
      "execution_count": 10,
      "outputs": [
        {
          "output_type": "execute_result",
          "data": {
            "text/plain": [
              "<matplotlib.axes._subplots.AxesSubplot at 0x7f1676626dd8>"
            ]
          },
          "metadata": {
            "tags": []
          },
          "execution_count": 10
        },
        {
          "output_type": "display_data",
          "data": {
            "image/png": "[encoded data removed]",
            "text/plain": [
              "<Figure size 432x288 with 1 Axes>"
            ]
          },
          "metadata": {
            "tags": [],
            "image/png": {
              "width": 383,
              "height": 263
            },
            "needs_background": "light"
          }
        }
      ]
    },
    {
      "cell_type": "code",
      "metadata": {
        "id": "FQwAA7dAT2Az",
        "colab_type": "code",
        "colab": {
          "base_uri": "https://localhost:8080/",
          "height": 297
        },
        "outputId": "14471d7b-2942-4c2c-f153-8175921674a2"
      },
      "source": [
        "# 이상치를 볼 때는 주로 boxplot을 쓴다.\n",
        "sns.boxplot(train[\"저밀도콜레스테롤\"])"
      ],
      "execution_count": 11,
      "outputs": [
        {
          "output_type": "execute_result",
          "data": {
            "text/plain": [
              "<matplotlib.axes._subplots.AxesSubplot at 0x7f16760d5198>"
            ]
          },
          "metadata": {
            "tags": []
          },
          "execution_count": 11
        },
        {
          "output_type": "display_data",
          "data": {
            "image/png": "[encoded data removed]",
            "text/plain": [
              "<Figure size 432x288 with 1 Axes>"
            ]
          },
          "metadata": {
            "tags": [],
            "image/png": {
              "width": 352,
              "height": 262
            },
            "needs_background": "light"
          }
        }
      ]
    },
    {
      "cell_type": "code",
      "metadata": {
        "id": "hRvDqnNbT2A1",
        "colab_type": "code",
        "colab": {
          "base_uri": "https://localhost:8080/",
          "height": 179
        },
        "outputId": "0e2da8fa-c19f-489f-982b-9c258908d4f0"
      },
      "source": [
        "desc = train[\"저밀도콜레스테롤\"].describe()\n",
        "desc"
      ],
      "execution_count": 12,
      "outputs": [
        {
          "output_type": "execute_result",
          "data": {
            "text/plain": [
              "count    497.000000\n",
              "mean     107.609658\n",
              "std       30.422902\n",
              "min       25.000000\n",
              "25%       86.000000\n",
              "50%      107.000000\n",
              "75%      127.000000\n",
              "max      200.000000\n",
              "Name: 저밀도콜레스테롤, dtype: float64"
            ]
          },
          "metadata": {
            "tags": []
          },
          "execution_count": 12
        }
      ]
    },
    {
      "cell_type": "code",
      "metadata": {
        "id": "xw22u3D6T2A4",
        "colab_type": "code",
        "colab": {}
      },
      "source": [
        "# Outlier의 기준값을 구해본다.\n",
        "# IQR =  3IQR - 1IQR\n",
        "# OUT > 3IQR + (IQR * 1.5)\n",
        "IQR = desc.loc[\"75%\"] - desc.loc[\"25%\"]\n",
        "OUT = desc.loc[\"75%\"] + (IQR * 1.5)"
      ],
      "execution_count": 13,
      "outputs": []
    },
    {
      "cell_type": "code",
      "metadata": {
        "id": "CkCw_ZbaT2A6",
        "colab_type": "code",
        "colab": {
          "base_uri": "https://localhost:8080/",
          "height": 35
        },
        "outputId": "67f16db0-f598-43d3-dabe-0ba66d05601d"
      },
      "source": [
        "train[train[\"저밀도콜레스테롤\"] > OUT].shape"
      ],
      "execution_count": 14,
      "outputs": [
        {
          "output_type": "execute_result",
          "data": {
            "text/plain": [
              "(2, 73)"
            ]
          },
          "metadata": {
            "tags": []
          },
          "execution_count": 14
        }
      ]
    },
    {
      "cell_type": "code",
      "metadata": {
        "id": "HlzB4RK6T2A9",
        "colab_type": "code",
        "colab": {
          "base_uri": "https://localhost:8080/",
          "height": 53
        },
        "outputId": "19982442-ddf3-4189-8f6c-b13f2b89792b"
      },
      "source": [
        "print(train.shape)\n",
        "train = train[train[\"저밀도콜레스테롤\"] < OUT]\n",
        "train.shape"
      ],
      "execution_count": 15,
      "outputs": [
        {
          "output_type": "stream",
          "text": [
            "(497, 73)\n"
          ],
          "name": "stdout"
        },
        {
          "output_type": "execute_result",
          "data": {
            "text/plain": [
              "(495, 73)"
            ]
          },
          "metadata": {
            "tags": []
          },
          "execution_count": 15
        }
      ]
    },
    {
      "cell_type": "markdown",
      "metadata": {
        "id": "clor4s-sT2A_",
        "colab_type": "text"
      },
      "source": [
        "\n",
        "# 학습, 예측에 사용할 컬럼"
      ]
    },
    {
      "cell_type": "code",
      "metadata": {
        "id": "z--XHREyT2BA",
        "colab_type": "code",
        "colab": {
          "base_uri": "https://localhost:8080/",
          "height": 1000
        },
        "outputId": "12a4dbca-f2ea-42ab-b81f-4057eaf032e9"
      },
      "source": [
        "# feature_names 라는 변수에 학습과 예측에 사용할 컬럼명을 가져옵니다.\n",
        "# train.columns.tolist()로 가져와도된다. \n",
        "# 맨 처음 컬럼인 대상자식별코드는 제외한다.\n",
        "feature_names = test.columns[1:].tolist()\n",
        "feature_names.remove(\"저밀도콜레스테롤\")\n",
        "feature_names"
      ],
      "execution_count": 16,
      "outputs": [
        {
          "output_type": "execute_result",
          "data": {
            "text/plain": [
              "['성별',\n",
              " '만나이',\n",
              " '직업분류',\n",
              " '학력',\n",
              " '결혼유무',\n",
              " '음주력',\n",
              " '흡연력',\n",
              " '성격_대범_섬세',\n",
              " '성격_행동빠름_행동느림',\n",
              " '성격_적극_소극',\n",
              " '성격_직접_간접',\n",
              " '성격_포기빠름_포기느림',\n",
              " '성격_외향_내성',\n",
              " '성격_동적_정적',\n",
              " '성격_쉽게_어렵게',\n",
              " '성격_남성적_여성적',\n",
              " '성격_참을성부족_잘찾음',\n",
              " '성격_큰편_적은편',\n",
              " '성격_잘드러냄_안드러냄',\n",
              " '성격_잘표현_표현안하는편',\n",
              " '성격_가끔흥분_이성적',\n",
              " '성격_덜렁_꼼꼼',\n",
              " '식사량',\n",
              " '식사속도',\n",
              " '소화여부',\n",
              " '소화입맛',\n",
              " '땀정도',\n",
              " '땀기분',\n",
              " '대변습관',\n",
              " '대변굳기',\n",
              " '배변시긴박감',\n",
              " '배변후잔변감',\n",
              " '소변야간뇨',\n",
              " '한열민감도',\n",
              " '한열손부위',\n",
              " '한열발부위',\n",
              " '한열배부위',\n",
              " '음수정도',\n",
              " '음수온다',\n",
              " '한열점수',\n",
              " '한열그룹',\n",
              " '고혈압_진단',\n",
              " '당뇨_진단',\n",
              " '고지혈증_진단',\n",
              " '일반건강',\n",
              " '수면시간(시간)',\n",
              " '수면시간(분)',\n",
              " '피로정도',\n",
              " '피로_기상시',\n",
              " '피로_오전',\n",
              " '피로_오후',\n",
              " '피로_밤',\n",
              " '피로_하루종일',\n",
              " '한의사체질진단',\n",
              " '키',\n",
              " '몸무게',\n",
              " 'BMI',\n",
              " '이마둘레',\n",
              " '목둘레',\n",
              " '겨드랑이둘레',\n",
              " '가슴둘레',\n",
              " '늑골둘레',\n",
              " '허리둘레',\n",
              " '장골둘레',\n",
              " '곡골둘레',\n",
              " '수축기혈합',\n",
              " '이완기혈압',\n",
              " '혈당',\n",
              " '총콜레스테롤',\n",
              " '중성지방',\n",
              " '고밀도콜레스테롤']"
            ]
          },
          "metadata": {
            "tags": []
          },
          "execution_count": 16
        }
      ]
    },
    {
      "cell_type": "markdown",
      "metadata": {
        "id": "BwFDQpx3T2BC",
        "colab_type": "text"
      },
      "source": [
        "# 정답값이자 예측해야 될 값"
      ]
    },
    {
      "cell_type": "code",
      "metadata": {
        "id": "_ZcKeRL-T2BC",
        "colab_type": "code",
        "colab": {
          "base_uri": "https://localhost:8080/",
          "height": 35
        },
        "outputId": "82a117c7-c4de-4dbe-a2ca-ed9fe5567c82"
      },
      "source": [
        "# label_name 이라는 변수에 예측할 컬럼의 이름을 담습니다.\n",
        "\n",
        "label_name = \"저밀도콜레스테롤\"\n",
        "label_name"
      ],
      "execution_count": 17,
      "outputs": [
        {
          "output_type": "execute_result",
          "data": {
            "application/vnd.google.colaboratory.intrinsic+json": {
              "type": "string"
            },
            "text/plain": [
              "'저밀도콜레스테롤'"
            ]
          },
          "metadata": {
            "tags": []
          },
          "execution_count": 17
        }
      ]
    },
    {
      "cell_type": "markdown",
      "metadata": {
        "id": "RPUMyqH_T2BF",
        "colab_type": "text"
      },
      "source": [
        "# 학습, 예측 데이터셋 만들기"
      ]
    },
    {
      "cell_type": "code",
      "metadata": {
        "id": "FDbNmVRD_eIH",
        "colab_type": "code",
        "colab": {}
      },
      "source": [
        "# \"저밀도콜레스테롤\" data가 있는지 여부에 따라 train과 test로 나뉜다."
      ],
      "execution_count": 18,
      "outputs": []
    },
    {
      "cell_type": "code",
      "metadata": {
        "id": "CAzuvQxfT2BF",
        "colab_type": "code",
        "colab": {
          "base_uri": "https://localhost:8080/",
          "height": 35
        },
        "outputId": "6ca46417-595b-4c57-cd34-d41577b46f4a"
      },
      "source": [
        "# 학습 세트 만들기 예) 시험의 기출문제\n",
        "\n",
        "X_train = train[feature_names]\n",
        "X_train.shape"
      ],
      "execution_count": 19,
      "outputs": [
        {
          "output_type": "execute_result",
          "data": {
            "text/plain": [
              "(495, 71)"
            ]
          },
          "metadata": {
            "tags": []
          },
          "execution_count": 19
        }
      ]
    },
    {
      "cell_type": "code",
      "metadata": {
        "id": "8HZarftJT2BH",
        "colab_type": "code",
        "colab": {
          "base_uri": "https://localhost:8080/",
          "height": 35
        },
        "outputId": "ed81b3c9-f2a4-4e40-c06a-76ae0cf16431"
      },
      "source": [
        "# 정답 값을 만들어 줍니다. 예) 기출문제의 정답\n",
        "y_train = train[label_name]\n",
        "y_train.shape"
      ],
      "execution_count": 20,
      "outputs": [
        {
          "output_type": "execute_result",
          "data": {
            "text/plain": [
              "(495,)"
            ]
          },
          "metadata": {
            "tags": []
          },
          "execution_count": 20
        }
      ]
    },
    {
      "cell_type": "code",
      "metadata": {
        "id": "SfW0fHFYT2BJ",
        "colab_type": "code",
        "colab": {
          "base_uri": "https://localhost:8080/",
          "height": 35
        },
        "outputId": "15ca68e9-4531-4e1c-d0a2-8ff49e37da5c"
      },
      "source": [
        "# 예측에 사용할 데이터세트를 만듭니다. 예) 실전 시험 문제\n",
        "\n",
        "X_test = test[feature_names]\n",
        "X_test.shape"
      ],
      "execution_count": 21,
      "outputs": [
        {
          "output_type": "execute_result",
          "data": {
            "text/plain": [
              "(3, 71)"
            ]
          },
          "metadata": {
            "tags": []
          },
          "execution_count": 21
        }
      ]
    },
    {
      "cell_type": "code",
      "metadata": {
        "id": "taQ2I-llT2BM",
        "colab_type": "code",
        "colab": {
          "base_uri": "https://localhost:8080/",
          "height": 35
        },
        "outputId": "a4ff7884-aff1-4c11-d053-30545b3b61c3"
      },
      "source": [
        "# 예측의 정답값 예) 실전 시험 문제의 정답\n",
        "## 결측치에 해당하므로 정답값은 모두 999다.\n",
        "y_test = test[label_name]\n",
        "y_test.shape"
      ],
      "execution_count": 22,
      "outputs": [
        {
          "output_type": "execute_result",
          "data": {
            "text/plain": [
              "(3,)"
            ]
          },
          "metadata": {
            "tags": []
          },
          "execution_count": 22
        }
      ]
    },
    {
      "cell_type": "markdown",
      "metadata": {
        "id": "hKbDpdiWT2BP",
        "colab_type": "text"
      },
      "source": [
        "# 머신러닝 알고리즘 가져오기"
      ]
    },
    {
      "cell_type": "code",
      "metadata": {
        "id": "xa2hRYCGT2BP",
        "colab_type": "code",
        "colab": {
          "base_uri": "https://localhost:8080/",
          "height": 125
        },
        "outputId": "14462e8f-a136-47f5-cf64-e994080bcbf9"
      },
      "source": [
        "from sklearn.tree import DecisionTreeRegressor\n",
        "#DecisionTreeClassifier와 hyperparameter가 같다.\n",
        "model = DecisionTreeRegressor(random_state=42)\n",
        "model"
      ],
      "execution_count": null,
      "outputs": [
        {
          "output_type": "execute_result",
          "data": {
            "text/plain": [
              "DecisionTreeRegressor(ccp_alpha=0.0, criterion='mse', max_depth=None,\n",
              "                      max_features=None, max_leaf_nodes=None,\n",
              "                      min_impurity_decrease=0.0, min_impurity_split=None,\n",
              "                      min_samples_leaf=1, min_samples_split=2,\n",
              "                      min_weight_fraction_leaf=0.0, presort='deprecated',\n",
              "                      random_state=42, splitter='best')"
            ]
          },
          "metadata": {
            "tags": []
          },
          "execution_count": 59
        }
      ]
    },
    {
      "cell_type": "markdown",
      "metadata": {
        "id": "DH-iB37Hx0nB",
        "colab_type": "text"
      },
      "source": [
        "## RandomizedSearchCV를 이용한 최적의 모델 및 파라미터 찾기"
      ]
    },
    {
      "cell_type": "code",
      "metadata": {
        "id": "hNaDjUn1xCaL",
        "colab_type": "code",
        "colab": {
          "base_uri": "https://localhost:8080/",
          "height": 413
        },
        "outputId": "2484c71f-6f50-4f8e-fcd4-ed8cc373cfd1"
      },
      "source": [
        "from sklearn.tree import DecisionTreeRegressor\n",
        "from sklearn.ensemble import RandomForestRegressor, GradientBoostingRegressor\n",
        "\n",
        "estimators = [DecisionTreeRegressor(random_state=42),\n",
        "         RandomForestRegressor(random_state=42),\n",
        "         GradientBoostingRegressor(random_state=42)\n",
        "        ]\n",
        "estimators"
      ],
      "execution_count": 25,
      "outputs": [
        {
          "output_type": "execute_result",
          "data": {
            "text/plain": [
              "[DecisionTreeRegressor(ccp_alpha=0.0, criterion='mse', max_depth=None,\n",
              "                       max_features=None, max_leaf_nodes=None,\n",
              "                       min_impurity_decrease=0.0, min_impurity_split=None,\n",
              "                       min_samples_leaf=1, min_samples_split=2,\n",
              "                       min_weight_fraction_leaf=0.0, presort='deprecated',\n",
              "                       random_state=42, splitter='best'),\n",
              " RandomForestRegressor(bootstrap=True, ccp_alpha=0.0, criterion='mse',\n",
              "                       max_depth=None, max_features='auto', max_leaf_nodes=None,\n",
              "                       max_samples=None, min_impurity_decrease=0.0,\n",
              "                       min_impurity_split=None, min_samples_leaf=1,\n",
              "                       min_samples_split=2, min_weight_fraction_leaf=0.0,\n",
              "                       n_estimators=100, n_jobs=None, oob_score=False,\n",
              "                       random_state=42, verbose=0, warm_start=False),\n",
              " GradientBoostingRegressor(alpha=0.9, ccp_alpha=0.0, criterion='friedman_mse',\n",
              "                           init=None, learning_rate=0.1, loss='ls', max_depth=3,\n",
              "                           max_features=None, max_leaf_nodes=None,\n",
              "                           min_impurity_decrease=0.0, min_impurity_split=None,\n",
              "                           min_samples_leaf=1, min_samples_split=2,\n",
              "                           min_weight_fraction_leaf=0.0, n_estimators=100,\n",
              "                           n_iter_no_change=None, presort='deprecated',\n",
              "                           random_state=42, subsample=1.0, tol=0.0001,\n",
              "                           validation_fraction=0.1, verbose=0, warm_start=False)]"
            ]
          },
          "metadata": {
            "tags": []
          },
          "execution_count": 25
        }
      ]
    },
    {
      "cell_type": "code",
      "metadata": {
        "id": "CN9qK5tCxCaP",
        "colab_type": "code",
        "colab": {}
      },
      "source": [
        "# max_depth = np.random.randint(5, 30, 10)\n",
        "# max_depth"
      ],
      "execution_count": 26,
      "outputs": []
    },
    {
      "cell_type": "code",
      "metadata": {
        "id": "Ov8TWmlbxCaV",
        "colab_type": "code",
        "colab": {}
      },
      "source": [
        "# max_features = np.random.uniform(0.3, 1.0, 10)\n",
        "# max_features"
      ],
      "execution_count": 27,
      "outputs": []
    },
    {
      "cell_type": "code",
      "metadata": {
        "id": "fmlIcRb0xCaZ",
        "colab_type": "code",
        "colab": {}
      },
      "source": [
        "# results = []\n",
        "# for estimator in estimators:\n",
        "#     result = []\n",
        "#     result.append(estimator.__class__.__name__)\n",
        "#     results.append(result)\n",
        "\n",
        "# pd.DataFrame(results)"
      ],
      "execution_count": 28,
      "outputs": []
    },
    {
      "cell_type": "code",
      "metadata": {
        "id": "Y09hCBsdzhwI",
        "colab_type": "code",
        "colab": {}
      },
      "source": [
        "##위의 3개 셀의 코드와 같이 loop문에 들어갈 것을 나눠서 실행해본 후에,\n",
        "##아래의 loop문에 넣어주는 습관이 좋을 수 있다."
      ],
      "execution_count": 29,
      "outputs": []
    },
    {
      "cell_type": "code",
      "metadata": {
        "id": "rDJJSKuqxCaj",
        "colab_type": "code",
        "colab": {
          "base_uri": "https://localhost:8080/",
          "height": 305
        },
        "outputId": "c83ef921-538c-47d0-fe41-d7c3710f1fef"
      },
      "source": [
        "from sklearn.model_selection import RandomizedSearchCV\n",
        "\n",
        "results = []\n",
        "for estimator in estimators:\n",
        "    result = []\n",
        "    #max_depth와 max_features를 random으로 생성하는 숫자의 갯수는 n_iter 값 이상이면된다.\n",
        "    #n_iter값 까지만 random으로 생성된 숫자가 이용될 것이기 때문이다.(여기서는 100으로 똑같이 맞춰줌.)\n",
        "\n",
        "    max_depth = np.random.randint(5, 30, 100)\n",
        "    max_features = np.random.uniform(0.3, 1.0, 100)\n",
        "\n",
        "    param_distributions = {\"max_depth\": max_depth, \"max_features\": max_features }\n",
        "\n",
        "    regressor = RandomizedSearchCV(estimator,\n",
        "        param_distributions,\n",
        "        n_iter=100,\n",
        "        scoring=None,\n",
        "        n_jobs=-1,\n",
        "        cv=5,\n",
        "        verbose=2, \n",
        "        random_state=42)\n",
        "\n",
        "    regressor.fit(X_train, y_train)\n",
        "    \n",
        "    result.append(estimator.__class__.__name__)\n",
        "    result.append(regressor.best_params_)\n",
        "    result.append(regressor.best_estimator_)\n",
        "    result.append(regressor.best_score_)\n",
        "    result.append(regressor.cv_results_)\n",
        "    results.append(result)"
      ],
      "execution_count": 30,
      "outputs": [
        {
          "output_type": "stream",
          "text": [
            "Fitting 5 folds for each of 100 candidates, totalling 500 fits\n"
          ],
          "name": "stdout"
        },
        {
          "output_type": "stream",
          "text": [
            "[Parallel(n_jobs=-1)]: Using backend LokyBackend with 2 concurrent workers.\n",
            "[Parallel(n_jobs=-1)]: Done 130 tasks      | elapsed:    2.8s\n",
            "[Parallel(n_jobs=-1)]: Done 500 out of 500 | elapsed:    6.3s finished\n",
            "[Parallel(n_jobs=-1)]: Using backend LokyBackend with 2 concurrent workers.\n"
          ],
          "name": "stderr"
        },
        {
          "output_type": "stream",
          "text": [
            "Fitting 5 folds for each of 100 candidates, totalling 500 fits\n"
          ],
          "name": "stdout"
        },
        {
          "output_type": "stream",
          "text": [
            "[Parallel(n_jobs=-1)]: Done  37 tasks      | elapsed:   15.4s\n",
            "[Parallel(n_jobs=-1)]: Done 158 tasks      | elapsed:  1.0min\n",
            "[Parallel(n_jobs=-1)]: Done 361 tasks      | elapsed:  2.3min\n",
            "[Parallel(n_jobs=-1)]: Done 500 out of 500 | elapsed:  3.2min finished\n"
          ],
          "name": "stderr"
        },
        {
          "output_type": "stream",
          "text": [
            "Fitting 5 folds for each of 100 candidates, totalling 500 fits\n"
          ],
          "name": "stdout"
        },
        {
          "output_type": "stream",
          "text": [
            "[Parallel(n_jobs=-1)]: Using backend LokyBackend with 2 concurrent workers.\n",
            "[Parallel(n_jobs=-1)]: Done  37 tasks      | elapsed:   16.3s\n",
            "[Parallel(n_jobs=-1)]: Done 158 tasks      | elapsed:  1.3min\n",
            "[Parallel(n_jobs=-1)]: Done 361 tasks      | elapsed:  3.0min\n",
            "[Parallel(n_jobs=-1)]: Done 500 out of 500 | elapsed:  4.0min finished\n"
          ],
          "name": "stderr"
        }
      ]
    },
    {
      "cell_type": "code",
      "metadata": {
        "id": "e2PosDK-xCao",
        "colab_type": "code",
        "colab": {
          "base_uri": "https://localhost:8080/",
          "height": 264
        },
        "outputId": "1ba9a3ac-86c7-4ca8-e73c-6a6fecc9aa25"
      },
      "source": [
        "#이 표에서의 score는 r2 score\n",
        "df_cv = pd.DataFrame(results)\n",
        "df_cv.columns = [\"model\", \"params\", \"estimator\", \"score\", \"cv_result\"]\n",
        "df_cv"
      ],
      "execution_count": 31,
      "outputs": [
        {
          "output_type": "execute_result",
          "data": {
            "text/html": [
              "<div>\n",
              "<style scoped>\n",
              "    .dataframe tbody tr th:only-of-type {\n",
              "        vertical-align: middle;\n",
              "    }\n",
              "\n",
              "    .dataframe tbody tr th {\n",
              "        vertical-align: top;\n",
              "    }\n",
              "\n",
              "    .dataframe thead th {\n",
              "        text-align: right;\n",
              "    }\n",
              "</style>\n",
              "<table border=\"1\" class=\"dataframe\">\n",
              "  <thead>\n",
              "    <tr style=\"text-align: right;\">\n",
              "      <th></th>\n",
              "      <th>model</th>\n",
              "      <th>params</th>\n",
              "      <th>estimator</th>\n",
              "      <th>score</th>\n",
              "      <th>cv_result</th>\n",
              "    </tr>\n",
              "  </thead>\n",
              "  <tbody>\n",
              "    <tr>\n",
              "      <th>0</th>\n",
              "      <td>DecisionTreeRegressor</td>\n",
              "      <td>{'max_features': 0.9298786846719516, 'max_dept...</td>\n",
              "      <td>DecisionTreeRegressor(ccp_alpha=0.0, criterion...</td>\n",
              "      <td>0.742342</td>\n",
              "      <td>{'mean_fit_time': [0.013790082931518555, 0.019...</td>\n",
              "    </tr>\n",
              "    <tr>\n",
              "      <th>1</th>\n",
              "      <td>RandomForestRegressor</td>\n",
              "      <td>{'max_features': 0.969568577195304, 'max_depth...</td>\n",
              "      <td>(DecisionTreeRegressor(ccp_alpha=0.0, criterio...</td>\n",
              "      <td>0.836036</td>\n",
              "      <td>{'mean_fit_time': [1.0653296947479247, 0.63576...</td>\n",
              "    </tr>\n",
              "    <tr>\n",
              "      <th>2</th>\n",
              "      <td>GradientBoostingRegressor</td>\n",
              "      <td>{'max_features': 0.7399959709365509, 'max_dept...</td>\n",
              "      <td>([DecisionTreeRegressor(ccp_alpha=0.0, criteri...</td>\n",
              "      <td>0.839524</td>\n",
              "      <td>{'mean_fit_time': [0.5214650630950928, 0.53803...</td>\n",
              "    </tr>\n",
              "  </tbody>\n",
              "</table>\n",
              "</div>"
            ],
            "text/plain": [
              "                       model  ...                                          cv_result\n",
              "0      DecisionTreeRegressor  ...  {'mean_fit_time': [0.013790082931518555, 0.019...\n",
              "1      RandomForestRegressor  ...  {'mean_fit_time': [1.0653296947479247, 0.63576...\n",
              "2  GradientBoostingRegressor  ...  {'mean_fit_time': [0.5214650630950928, 0.53803...\n",
              "\n",
              "[3 rows x 5 columns]"
            ]
          },
          "metadata": {
            "tags": []
          },
          "execution_count": 31
        }
      ]
    },
    {
      "cell_type": "code",
      "metadata": {
        "id": "Lmvw5MJBxCaw",
        "colab_type": "code",
        "colab": {
          "base_uri": "https://localhost:8080/",
          "height": 179
        },
        "outputId": "b16ac2ff-af1b-436f-93c5-7f32871ad2a3"
      },
      "source": [
        "# 위의 표에서 score 값을 바탕으로 best_estimator를 선택하여 인덱싱한다.\n",
        "best_estimator = df_cv.loc[2, \"estimator\"]\n",
        "best_estimator"
      ],
      "execution_count": 44,
      "outputs": [
        {
          "output_type": "execute_result",
          "data": {
            "text/plain": [
              "GradientBoostingRegressor(alpha=0.9, ccp_alpha=0.0, criterion='friedman_mse',\n",
              "                          init=None, learning_rate=0.1, loss='ls', max_depth=6,\n",
              "                          max_features=0.7399959709365509, max_leaf_nodes=None,\n",
              "                          min_impurity_decrease=0.0, min_impurity_split=None,\n",
              "                          min_samples_leaf=1, min_samples_split=2,\n",
              "                          min_weight_fraction_leaf=0.0, n_estimators=100,\n",
              "                          n_iter_no_change=None, presort='deprecated',\n",
              "                          random_state=42, subsample=1.0, tol=0.0001,\n",
              "                          validation_fraction=0.1, verbose=0, warm_start=False)"
            ]
          },
          "metadata": {
            "tags": []
          },
          "execution_count": 44
        }
      ]
    },
    {
      "cell_type": "markdown",
      "metadata": {
        "id": "OHEvCDUwT2BR",
        "colab_type": "text"
      },
      "source": [
        "# 학습(훈련)\n",
        "* 시험을 볼 때 기출문제(X_train)와 정답(y_train)을 보고 공부하는 과정과 유사합니다."
      ]
    },
    {
      "cell_type": "code",
      "metadata": {
        "scrolled": false,
        "id": "Ep5C7iNqT2BS",
        "colab_type": "code",
        "colab": {
          "base_uri": "https://localhost:8080/",
          "height": 179
        },
        "outputId": "380b6870-92a9-4bf1-9a9d-99066653c24c"
      },
      "source": [
        "best_estimator.fit(X_train, y_train)"
      ],
      "execution_count": 45,
      "outputs": [
        {
          "output_type": "execute_result",
          "data": {
            "text/plain": [
              "GradientBoostingRegressor(alpha=0.9, ccp_alpha=0.0, criterion='friedman_mse',\n",
              "                          init=None, learning_rate=0.1, loss='ls', max_depth=6,\n",
              "                          max_features=0.7399959709365509, max_leaf_nodes=None,\n",
              "                          min_impurity_decrease=0.0, min_impurity_split=None,\n",
              "                          min_samples_leaf=1, min_samples_split=2,\n",
              "                          min_weight_fraction_leaf=0.0, n_estimators=100,\n",
              "                          n_iter_no_change=None, presort='deprecated',\n",
              "                          random_state=42, subsample=1.0, tol=0.0001,\n",
              "                          validation_fraction=0.1, verbose=0, warm_start=False)"
            ]
          },
          "metadata": {
            "tags": []
          },
          "execution_count": 45
        }
      ]
    },
    {
      "cell_type": "markdown",
      "metadata": {
        "id": "nkzuELZIT2BU",
        "colab_type": "text"
      },
      "source": [
        "# cross validation 으로 학습 세트의 오차 측정하기\n",
        "- The function **cross_val_predict** has a similar interface to **cross_val_score**, but returns, for each element in the input, the prediction that was obtained for that element when it was in the test set.\n",
        "- => CV 중 test set에 속했을 때 나온 prediction값을 리턴한다는 의미.\n",
        "- https://scikit-learn.org/stable/modules/cross_validation.html"
      ]
    },
    {
      "cell_type": "code",
      "metadata": {
        "id": "jnz9fCDlT2BV",
        "colab_type": "code",
        "colab": {
          "base_uri": "https://localhost:8080/",
          "height": 107
        },
        "outputId": "df70d5ac-dc37-45b4-9aff-2e71fdaa1485"
      },
      "source": [
        "## import뒤에 cross_를 입력하면 cross_val_predict, cross_val_score, cross_validate 3가지가\n",
        "## 나오는데, 이 중 cross_val_predict를 선택하면 \"예측값\"을 반환한다.\n",
        "## cv=5이므로, 총 5번을 fit하게 된다.\n",
        "## cv값을 높여서, 즉 fit을 여러번할 수록 더 정확한 예측값을 얻을 수 있다.\n",
        "from sklearn.model_selection import cross_val_predict\n",
        "\n",
        "y_predict = cross_val_predict(best_estimator, X_train, y_train, cv=5, verbose=2, n_jobs=-1)\n",
        "y_predict[:5]"
      ],
      "execution_count": 46,
      "outputs": [
        {
          "output_type": "stream",
          "text": [
            "[Parallel(n_jobs=-1)]: Using backend LokyBackend with 2 concurrent workers.\n",
            "[Parallel(n_jobs=-1)]: Done   5 out of   5 | elapsed:    1.4s remaining:    0.0s\n",
            "[Parallel(n_jobs=-1)]: Done   5 out of   5 | elapsed:    1.4s finished\n"
          ],
          "name": "stderr"
        },
        {
          "output_type": "execute_result",
          "data": {
            "text/plain": [
              "array([123.16975992, 122.85999571, 133.18311502, 138.08472435,\n",
              "       113.14534902])"
            ]
          },
          "metadata": {
            "tags": []
          },
          "execution_count": 46
        }
      ]
    },
    {
      "cell_type": "code",
      "metadata": {
        "id": "vc4rmMp6T2BX",
        "colab_type": "code",
        "colab": {
          "base_uri": "https://localhost:8080/",
          "height": 35
        },
        "outputId": "486208ba-868d-4afe-815d-64be2b0d8283"
      },
      "source": [
        "# 정답을 정확하게 맞춘 갯수\n",
        "## 회귀에서는 맞춘 갯수가 크게 의미 있지는 않다. 범위가 넓게 때문에.\n",
        "#1 15\n",
        "#2 9\n",
        "#3 (best_estimator): 0\n",
        "(y_predict == y_train).sum()"
      ],
      "execution_count": 47,
      "outputs": [
        {
          "output_type": "execute_result",
          "data": {
            "text/plain": [
              "0"
            ]
          },
          "metadata": {
            "tags": []
          },
          "execution_count": 47
        }
      ]
    },
    {
      "cell_type": "code",
      "metadata": {
        "id": "G35INQ89T2BZ",
        "colab_type": "code",
        "colab": {
          "base_uri": "https://localhost:8080/",
          "height": 35
        },
        "outputId": "69665fca-97e1-4781-eead-b9520c7e47df"
      },
      "source": [
        "# 전체 정답 갯수.\n",
        "len(y_train)\n",
        "##1 즉 정확하게 맞출 확률은 0/495."
      ],
      "execution_count": 48,
      "outputs": [
        {
          "output_type": "execute_result",
          "data": {
            "text/plain": [
              "495"
            ]
          },
          "metadata": {
            "tags": []
          },
          "execution_count": 48
        }
      ]
    },
    {
      "cell_type": "code",
      "metadata": {
        "scrolled": false,
        "id": "WHcEoGQVT2Bb",
        "colab_type": "code",
        "colab": {
          "base_uri": "https://localhost:8080/",
          "height": 297
        },
        "outputId": "a4c4f0ca-95c9-49a2-8e20-d29ae17def34"
      },
      "source": [
        "# regplot 으로 결과 값을 비교합니다.\n",
        "\n",
        "sns.regplot(y_train, y_predict)"
      ],
      "execution_count": 49,
      "outputs": [
        {
          "output_type": "execute_result",
          "data": {
            "text/plain": [
              "<matplotlib.axes._subplots.AxesSubplot at 0x7f166dbe09e8>"
            ]
          },
          "metadata": {
            "tags": []
          },
          "execution_count": 49
        },
        {
          "output_type": "display_data",
          "data": {
            "image/png": "[encoded data removed]",
            "text/plain": [
              "<Figure size 432x288 with 1 Axes>"
            ]
          },
          "metadata": {
            "tags": [],
            "image/png": {
              "width": 374,
              "height": 262
            },
            "needs_background": "light"
          }
        }
      ]
    },
    {
      "cell_type": "code",
      "metadata": {
        "id": "yglxRTnZqO2d",
        "colab_type": "code",
        "colab": {}
      },
      "source": [
        "# (1차 진행 후)\n",
        "# 여기서 보이는 outlier들이 오버피팅이 되거나, 제대로 예측을 하는데 도움이 되지 않을 수 \n",
        "# 있기 때문에(오차를 높임), 이를 제거해주기 위해 다시 학습/예측 데이터셋 나누기로 올라간다."
      ],
      "execution_count": null,
      "outputs": []
    },
    {
      "cell_type": "markdown",
      "metadata": {
        "id": "nP7fFB6dFWut",
        "colab_type": "text"
      },
      "source": [
        "### **결정계수(R2 score)** (self로 찾아본 것)\n",
        "- 선형회귀분석(linear regression analysis)에서 회귀직선의 적합도(goodness-of-fit)를 평가하거나 종속변수에 대한 설명변수들의 설명력을 알고자 할 때 결정계수(R sqaured, coefficient of determination))를 이용합니다.\n",
        "- 예를 들어 결정계수 R2=0.45 인 경우, 소아의 인지기능(종속변수) 변동은 언어학습시간(독립변수) 변동에 의해 45% 정도 설명된다고 해석할 수 있습니다.\n",
        "- 결정계수는 피어슨 상관계수 (Pearson correlation coefficient)의 제곱과도 같습니다.위에서 언급한 것과 같이 상관계수는 -1~1 사이의 값을 갖기 때문에 결정계수는 0부터 1까지의 값을 갖게 됩니다.\n",
        "- https://mansoostat.tistory.com/76"
      ]
    },
    {
      "cell_type": "code",
      "metadata": {
        "id": "07XEp4rnT2Be",
        "colab_type": "code",
        "colab": {
          "base_uri": "https://localhost:8080/",
          "height": 35
        },
        "outputId": "e9071644-4bc5-40e6-d8e8-c76546352f0c"
      },
      "source": [
        "# r2_score 를 구합니다.\n",
        "\n",
        "from sklearn.metrics import r2_score\n",
        "\n",
        "r2_score(y_train, y_predict)\n",
        "\n",
        "# 결국 regplot으로 그린 회귀선이 60% 정도의 설명력을 가진다는 얘기."
      ],
      "execution_count": 50,
      "outputs": [
        {
          "output_type": "execute_result",
          "data": {
            "text/plain": [
              "0.8414127236535693"
            ]
          },
          "metadata": {
            "tags": []
          },
          "execution_count": 50
        }
      ]
    },
    {
      "cell_type": "code",
      "metadata": {
        "scrolled": true,
        "id": "-h4zJwqQT2Bg",
        "colab_type": "code",
        "colab": {
          "base_uri": "https://localhost:8080/",
          "height": 298
        },
        "outputId": "11041e7f-7d7d-4505-9686-8ad0fcc4896c"
      },
      "source": [
        "# distplot으로 정답값과 예측값의 분포를 그립니다.\n",
        "# displot에서 label을 그리기위해서는 histogram를 제거해줘야한다.\n",
        "\n",
        "sns.distplot(y_train, hist=False, label=\"train\")\n",
        "sns.distplot(y_predict, hist=False, label=\"predict\")"
      ],
      "execution_count": 51,
      "outputs": [
        {
          "output_type": "execute_result",
          "data": {
            "text/plain": [
              "<matplotlib.axes._subplots.AxesSubplot at 0x7f166db909b0>"
            ]
          },
          "metadata": {
            "tags": []
          },
          "execution_count": 51
        },
        {
          "output_type": "display_data",
          "data": {
            "image/png": "[encoded data removed]",
            "text/plain": [
              "<Figure size 432x288 with 1 Axes>"
            ]
          },
          "metadata": {
            "tags": [],
            "image/png": {
              "width": 383,
              "height": 263
            },
            "needs_background": "light"
          }
        }
      ]
    },
    {
      "cell_type": "markdown",
      "metadata": {
        "id": "3JKLtDjjT2Bj",
        "colab_type": "text"
      },
      "source": [
        "# 오차 구하기"
      ]
    },
    {
      "cell_type": "markdown",
      "metadata": {
        "id": "ExSE4wf6QpCX",
        "colab_type": "text"
      },
      "source": [
        "## MAE"
      ]
    },
    {
      "cell_type": "code",
      "metadata": {
        "id": "StQ4eacYT2Bj",
        "colab_type": "code",
        "colab": {
          "base_uri": "https://localhost:8080/",
          "height": 35
        },
        "outputId": "a0e3d4c5-aec3-4c99-d422-a6bd415638ce"
      },
      "source": [
        "# MAE (Mean Absolute Error)\n",
        "#1 13.66\n",
        "#2 13.39\n",
        "#3 (best_estimator) 8.77\n",
        "\n",
        "##abs()는 절댓값으로 바꿔준다.\n",
        "error = abs(y_train - y_predict)\n",
        "error.mean()"
      ],
      "execution_count": 52,
      "outputs": [
        {
          "output_type": "execute_result",
          "data": {
            "text/plain": [
              "8.773416252017272"
            ]
          },
          "metadata": {
            "tags": []
          },
          "execution_count": 52
        }
      ]
    },
    {
      "cell_type": "code",
      "metadata": {
        "id": "FOpAEB2RT2Bl",
        "colab_type": "code",
        "colab": {
          "base_uri": "https://localhost:8080/",
          "height": 298
        },
        "outputId": "45054d50-4139-4503-c3c8-665409d037c3"
      },
      "source": [
        "sns.distplot(error)\n",
        "#1 주로 오차가 작은 값에 몰려있지만, 40이상 되는 오차도 있다는 것을 확인할 수 있다.\n",
        "# 오차가 큰 값들 때문에 mean값이 편향되었을 것이라고 예상할 수 있다."
      ],
      "execution_count": 53,
      "outputs": [
        {
          "output_type": "execute_result",
          "data": {
            "text/plain": [
              "<matplotlib.axes._subplots.AxesSubplot at 0x7f166dbb25f8>"
            ]
          },
          "metadata": {
            "tags": []
          },
          "execution_count": 53
        },
        {
          "output_type": "display_data",
          "data": {
            "image/png": "[encoded data removed]",
            "text/plain": [
              "<Figure size 432x288 with 1 Axes>"
            ]
          },
          "metadata": {
            "tags": [],
            "image/png": {
              "width": 377,
              "height": 263
            },
            "needs_background": "light"
          }
        }
      ]
    },
    {
      "cell_type": "code",
      "metadata": {
        "id": "z5l5NNqxT2Bn",
        "colab_type": "code",
        "colab": {
          "base_uri": "https://localhost:8080/",
          "height": 179
        },
        "outputId": "4b971ec0-5c48-4a37-d4a5-a9c38cf40f4d"
      },
      "source": [
        "# 오차값을 분석해본다.\n",
        "error.describe()"
      ],
      "execution_count": 54,
      "outputs": [
        {
          "output_type": "execute_result",
          "data": {
            "text/plain": [
              "count    495.000000\n",
              "mean       8.773416\n",
              "std        8.053674\n",
              "min        0.028755\n",
              "25%        3.150118\n",
              "50%        6.562846\n",
              "75%       12.601963\n",
              "max       92.157577\n",
              "Name: 저밀도콜레스테롤, dtype: float64"
            ]
          },
          "metadata": {
            "tags": []
          },
          "execution_count": 54
        }
      ]
    },
    {
      "cell_type": "markdown",
      "metadata": {
        "id": "foTPzKpFQt4b",
        "colab_type": "text"
      },
      "source": [
        "## RMSE\n",
        "- 회귀의 정확도를 구할 때는 보통 RMSE 공식을 많이 사용한다.\n",
        "- 표준편차 구하는 공식과 유사하다.\n"
      ]
    },
    {
      "cell_type": "code",
      "metadata": {
        "id": "Q43Msdl8T2Bp",
        "colab_type": "code",
        "colab": {
          "base_uri": "https://localhost:8080/",
          "height": 35
        },
        "outputId": "bac46392-20a3-4435-858a-e026828a643c"
      },
      "source": [
        "# RMSE(Root Mean Square Error): 뒤(E)에서 부터 해석해보면 아래 공식을 유도할 수 있다.\n",
        "#1 19.10\n",
        "#2 18.53 (\"저밀도콜레스테롤\"의 outlier 제거)\n",
        "#3 (best_estimator) 11.90\n",
        "\n",
        "np.sqrt(((y_train - y_predict) ** 2).mean())"
      ],
      "execution_count": 55,
      "outputs": [
        {
          "output_type": "execute_result",
          "data": {
            "text/plain": [
              "11.903926394212771"
            ]
          },
          "metadata": {
            "tags": []
          },
          "execution_count": 55
        }
      ]
    },
    {
      "cell_type": "markdown",
      "metadata": {
        "id": "R-jyPRwhT2Bq",
        "colab_type": "text"
      },
      "source": [
        "# 트리 알고리즘 분석하기\n",
        "* 의사결정나무를 시각화 합니다.\n",
        "* 피처의 중요도를 구합니다."
      ]
    },
    {
      "cell_type": "code",
      "metadata": {
        "id": "sM_tLWNuT2Br",
        "colab_type": "code",
        "colab": {}
      },
      "source": [
        "# plot_tree로 시각화 하기\n",
        "\n",
        "from sklearn.tree import plot_tree\n",
        "\n",
        "plt.figure(figsize=(20, 20))\n",
        "tree = plot_tree(model, \n",
        "          feature_names=feature_names, \n",
        "          filled=True,\n",
        "          fontsize=10)"
      ],
      "execution_count": null,
      "outputs": []
    },
    {
      "cell_type": "code",
      "metadata": {
        "id": "024DVyZGlgEu",
        "colab_type": "code",
        "colab": {}
      },
      "source": [
        "#graphviz 를 통해 시각화 합니다.\n",
        "#graphviz 는 별도의 설치가 필요합니다. \n",
        "#graphviz 와 파이썬에서 graphviz 를 사용할 수 있게 해주는 도구 2가지를 설치해 주셔야 합니다.\n",
        "import graphviz\n",
        "from sklearn.tree import export_graphviz\n",
        "\n",
        "dot_tree = export_graphviz(model,\n",
        "                           feature_names = feature_names,\n",
        "                           filled=True)\n",
        "graphviz.Source(dot_tree)"
      ],
      "execution_count": null,
      "outputs": []
    },
    {
      "cell_type": "code",
      "metadata": {
        "id": "Z3zCM_BxT2Bs",
        "colab_type": "code",
        "colab": {
          "base_uri": "https://localhost:8080/",
          "height": 341
        },
        "outputId": "556475e8-92b0-4127-e50f-a7bbafd8206d"
      },
      "source": [
        "# 피처의 중요도를 추출하기\n",
        "best_estimator.feature_importances_"
      ],
      "execution_count": 73,
      "outputs": [
        {
          "output_type": "execute_result",
          "data": {
            "text/plain": [
              "array([7.33766780e-05, 8.18818752e-03, 7.79492304e-04, 6.12020101e-04,\n",
              "       1.90527319e-04, 6.12464391e-05, 5.50674035e-05, 6.91504489e-04,\n",
              "       7.81516068e-04, 2.54897920e-04, 1.28169145e-03, 1.57727292e-03,\n",
              "       3.04629449e-04, 4.73826735e-04, 8.55256584e-04, 1.06008549e-04,\n",
              "       2.55228278e-04, 7.79572891e-04, 9.89011755e-04, 5.64050090e-04,\n",
              "       1.93883320e-03, 9.31020742e-04, 8.07281713e-04, 4.72179873e-04,\n",
              "       1.03265798e-04, 1.75799873e-03, 2.01267281e-04, 6.35921501e-04,\n",
              "       8.97314738e-05, 9.11696857e-04, 3.63838931e-03, 4.68570334e-03,\n",
              "       7.24939032e-04, 2.53639533e-04, 2.24355850e-04, 1.98720289e-04,\n",
              "       6.22594234e-04, 1.51541608e-03, 8.23125944e-04, 2.71062775e-03,\n",
              "       9.84131071e-04, 5.05631700e-04, 8.37246762e-05, 4.54424994e-04,\n",
              "       7.63604190e-04, 2.17176962e-03, 4.48024166e-04, 2.33441741e-03,\n",
              "       6.24569533e-04, 8.33967992e-04, 9.17217428e-05, 7.30867380e-05,\n",
              "       5.84923119e-04, 1.14374976e-03, 3.59610262e-03, 2.02042885e-03,\n",
              "       6.35746937e-03, 1.98590665e-03, 3.37130948e-03, 4.15744414e-03,\n",
              "       3.90727123e-03, 1.80763762e-03, 5.50955906e-03, 6.22241778e-03,\n",
              "       2.59073370e-03, 1.52912087e-03, 4.73605679e-03, 2.65919707e-03,\n",
              "       8.32008228e-01, 2.62205114e-02, 3.81017654e-02])"
            ]
          },
          "metadata": {
            "tags": []
          },
          "execution_count": 73
        }
      ]
    },
    {
      "cell_type": "code",
      "metadata": {
        "id": "0EFTzBBZT2Bw",
        "colab_type": "code",
        "colab": {
          "base_uri": "https://localhost:8080/",
          "height": 881
        },
        "outputId": "39de649d-785b-418d-8587-40f94094aba6"
      },
      "source": [
        "# 피처의 중요도 시각화 하기\n",
        "plt.figure(figsize=(12,15))\n",
        "sns.barplot(x=best_estimator.feature_importances_, y=feature_names)"
      ],
      "execution_count": 74,
      "outputs": [
        {
          "output_type": "execute_result",
          "data": {
            "text/plain": [
              "<matplotlib.axes._subplots.AxesSubplot at 0x7f1697642be0>"
            ]
          },
          "metadata": {
            "tags": []
          },
          "execution_count": 74
        },
        {
          "output_type": "display_data",
          "data": {
            "image/png": "[encoded data removed]",
            "text/plain": [
              "<Figure size 864x1080 with 1 Axes>"
            ]
          },
          "metadata": {
            "tags": [],
            "image/png": {
              "width": 804,
              "height": 846
            },
            "needs_background": "light"
          }
        }
      ]
    },
    {
      "cell_type": "markdown",
      "metadata": {
        "id": "MFvN2VM-T2By",
        "colab_type": "text"
      },
      "source": [
        "# 예측\n",
        "* 실전 시험문제(X_test)라고 보면 됩니다. 우리가 정답을 직접 예측합니다.\n",
        "* 저밀도콜레스테롤이 999인 값을 예측 했기 때문에 정답을 알 수 없습니다.\n",
        "* 따라서 점수는 train set로 측정한 값을 참고합니다."
      ]
    },
    {
      "cell_type": "code",
      "metadata": {
        "id": "KdkWt2ILT2By",
        "colab_type": "code",
        "colab": {
          "base_uri": "https://localhost:8080/",
          "height": 35
        },
        "outputId": "f6c73b80-6aff-452e-8d60-6447f2dd86db"
      },
      "source": [
        "y_test = best_estimator.predict(X_test)\n",
        "y_test[:5]"
      ],
      "execution_count": 67,
      "outputs": [
        {
          "output_type": "execute_result",
          "data": {
            "text/plain": [
              "array([145.09018246, 159.59836595, 158.604238  ])"
            ]
          },
          "metadata": {
            "tags": []
          },
          "execution_count": 67
        }
      ]
    },
    {
      "cell_type": "code",
      "metadata": {
        "id": "-DaanoRKmgpo",
        "colab_type": "code",
        "colab": {}
      },
      "source": [
        "#이렇게 구한 값(y_test)을 \"저밀도콜레스테롤\"=999 에다가 전처리해서 넣어줌으로써\n",
        "#결측치 처리를 하고 다시 classification을 진행할 수 있다."
      ],
      "execution_count": 57,
      "outputs": []
    },
    {
      "cell_type": "code",
      "metadata": {
        "id": "i_8w3fqJT2B1",
        "colab_type": "code",
        "colab": {
          "base_uri": "https://localhost:8080/",
          "height": 173
        },
        "outputId": "286ae002-f009-4df7-8547-ea268425a2f1"
      },
      "source": [
        "train.groupby(\"한의사체질진단\")[\"저밀도콜레스테롤\"].describe()"
      ],
      "execution_count": 68,
      "outputs": [
        {
          "output_type": "execute_result",
          "data": {
            "text/html": [
              "<div>\n",
              "<style scoped>\n",
              "    .dataframe tbody tr th:only-of-type {\n",
              "        vertical-align: middle;\n",
              "    }\n",
              "\n",
              "    .dataframe tbody tr th {\n",
              "        vertical-align: top;\n",
              "    }\n",
              "\n",
              "    .dataframe thead th {\n",
              "        text-align: right;\n",
              "    }\n",
              "</style>\n",
              "<table border=\"1\" class=\"dataframe\">\n",
              "  <thead>\n",
              "    <tr style=\"text-align: right;\">\n",
              "      <th></th>\n",
              "      <th>count</th>\n",
              "      <th>mean</th>\n",
              "      <th>std</th>\n",
              "      <th>min</th>\n",
              "      <th>25%</th>\n",
              "      <th>50%</th>\n",
              "      <th>75%</th>\n",
              "      <th>max</th>\n",
              "    </tr>\n",
              "    <tr>\n",
              "      <th>한의사체질진단</th>\n",
              "      <th></th>\n",
              "      <th></th>\n",
              "      <th></th>\n",
              "      <th></th>\n",
              "      <th></th>\n",
              "      <th></th>\n",
              "      <th></th>\n",
              "      <th></th>\n",
              "    </tr>\n",
              "  </thead>\n",
              "  <tbody>\n",
              "    <tr>\n",
              "      <th>1</th>\n",
              "      <td>199.0</td>\n",
              "      <td>109.949749</td>\n",
              "      <td>29.790133</td>\n",
              "      <td>25.0</td>\n",
              "      <td>88.0</td>\n",
              "      <td>110.0</td>\n",
              "      <td>128.0</td>\n",
              "      <td>186.0</td>\n",
              "    </tr>\n",
              "    <tr>\n",
              "      <th>2</th>\n",
              "      <td>123.0</td>\n",
              "      <td>103.414634</td>\n",
              "      <td>29.323780</td>\n",
              "      <td>49.0</td>\n",
              "      <td>81.0</td>\n",
              "      <td>99.0</td>\n",
              "      <td>121.0</td>\n",
              "      <td>185.0</td>\n",
              "    </tr>\n",
              "    <tr>\n",
              "      <th>3</th>\n",
              "      <td>173.0</td>\n",
              "      <td>106.843931</td>\n",
              "      <td>30.345950</td>\n",
              "      <td>42.0</td>\n",
              "      <td>86.0</td>\n",
              "      <td>108.0</td>\n",
              "      <td>127.0</td>\n",
              "      <td>179.0</td>\n",
              "    </tr>\n",
              "  </tbody>\n",
              "</table>\n",
              "</div>"
            ],
            "text/plain": [
              "         count        mean        std   min   25%    50%    75%    max\n",
              "한의사체질진단                                                               \n",
              "1        199.0  109.949749  29.790133  25.0  88.0  110.0  128.0  186.0\n",
              "2        123.0  103.414634  29.323780  49.0  81.0   99.0  121.0  185.0\n",
              "3        173.0  106.843931  30.345950  42.0  86.0  108.0  127.0  179.0"
            ]
          },
          "metadata": {
            "tags": []
          },
          "execution_count": 68
        }
      ]
    },
    {
      "cell_type": "code",
      "metadata": {
        "id": "viAusjSsT2B3",
        "colab_type": "code",
        "colab": {}
      },
      "source": [
        "# y_test값을 test set에 넣어준다.\n",
        "test[\"저밀도콜레스테롤\"] = y_test"
      ],
      "execution_count": 69,
      "outputs": []
    },
    {
      "cell_type": "code",
      "metadata": {
        "id": "WBitdXQxT2B4",
        "colab_type": "code",
        "colab": {
          "base_uri": "https://localhost:8080/",
          "height": 173
        },
        "outputId": "45e52de7-1c93-4450-cf38-1177c9240add"
      },
      "source": [
        "test.groupby(\"한의사체질진단\")[\"저밀도콜레스테롤\"].describe()"
      ],
      "execution_count": 70,
      "outputs": [
        {
          "output_type": "execute_result",
          "data": {
            "text/html": [
              "<div>\n",
              "<style scoped>\n",
              "    .dataframe tbody tr th:only-of-type {\n",
              "        vertical-align: middle;\n",
              "    }\n",
              "\n",
              "    .dataframe tbody tr th {\n",
              "        vertical-align: top;\n",
              "    }\n",
              "\n",
              "    .dataframe thead th {\n",
              "        text-align: right;\n",
              "    }\n",
              "</style>\n",
              "<table border=\"1\" class=\"dataframe\">\n",
              "  <thead>\n",
              "    <tr style=\"text-align: right;\">\n",
              "      <th></th>\n",
              "      <th>count</th>\n",
              "      <th>mean</th>\n",
              "      <th>std</th>\n",
              "      <th>min</th>\n",
              "      <th>25%</th>\n",
              "      <th>50%</th>\n",
              "      <th>75%</th>\n",
              "      <th>max</th>\n",
              "    </tr>\n",
              "    <tr>\n",
              "      <th>한의사체질진단</th>\n",
              "      <th></th>\n",
              "      <th></th>\n",
              "      <th></th>\n",
              "      <th></th>\n",
              "      <th></th>\n",
              "      <th></th>\n",
              "      <th></th>\n",
              "      <th></th>\n",
              "    </tr>\n",
              "  </thead>\n",
              "  <tbody>\n",
              "    <tr>\n",
              "      <th>1</th>\n",
              "      <td>1.0</td>\n",
              "      <td>159.598366</td>\n",
              "      <td>NaN</td>\n",
              "      <td>159.598366</td>\n",
              "      <td>159.598366</td>\n",
              "      <td>159.598366</td>\n",
              "      <td>159.598366</td>\n",
              "      <td>159.598366</td>\n",
              "    </tr>\n",
              "    <tr>\n",
              "      <th>2</th>\n",
              "      <td>1.0</td>\n",
              "      <td>145.090182</td>\n",
              "      <td>NaN</td>\n",
              "      <td>145.090182</td>\n",
              "      <td>145.090182</td>\n",
              "      <td>145.090182</td>\n",
              "      <td>145.090182</td>\n",
              "      <td>145.090182</td>\n",
              "    </tr>\n",
              "    <tr>\n",
              "      <th>3</th>\n",
              "      <td>1.0</td>\n",
              "      <td>158.604238</td>\n",
              "      <td>NaN</td>\n",
              "      <td>158.604238</td>\n",
              "      <td>158.604238</td>\n",
              "      <td>158.604238</td>\n",
              "      <td>158.604238</td>\n",
              "      <td>158.604238</td>\n",
              "    </tr>\n",
              "  </tbody>\n",
              "</table>\n",
              "</div>"
            ],
            "text/plain": [
              "         count        mean  std  ...         50%         75%         max\n",
              "한의사체질진단                          ...                                    \n",
              "1          1.0  159.598366  NaN  ...  159.598366  159.598366  159.598366\n",
              "2          1.0  145.090182  NaN  ...  145.090182  145.090182  145.090182\n",
              "3          1.0  158.604238  NaN  ...  158.604238  158.604238  158.604238\n",
              "\n",
              "[3 rows x 8 columns]"
            ]
          },
          "metadata": {
            "tags": []
          },
          "execution_count": 70
        }
      ]
    },
    {
      "cell_type": "code",
      "metadata": {
        "id": "_cNUpTYRoOWt",
        "colab_type": "code",
        "colab": {}
      },
      "source": [
        "#위의 두 테이블을 비교함으로써 regression을 통해 얼마나 잘 예측했는지 살펴볼 수 있다.\n",
        "## 즉, 두 train과 test가 균질해질수록 잘 예측(여기서는 결측치 처리)한 것으로 추론할 수 있다."
      ],
      "execution_count": 61,
      "outputs": []
    },
    {
      "cell_type": "code",
      "metadata": {
        "id": "Ti4e2sDET2B6",
        "colab_type": "code",
        "colab": {
          "base_uri": "https://localhost:8080/",
          "height": 297
        },
        "outputId": "085fff22-9967-4e41-c09e-a6e7c5a92c37"
      },
      "source": [
        "# \"저밀도콜레스테롤\" 평균값을 출력\n",
        "sns.barplot(data=train, x=\"한의사체질진단\", y=\"저밀도콜레스테롤\")"
      ],
      "execution_count": 71,
      "outputs": [
        {
          "output_type": "execute_result",
          "data": {
            "text/plain": [
              "<matplotlib.axes._subplots.AxesSubplot at 0x7f166d919da0>"
            ]
          },
          "metadata": {
            "tags": []
          },
          "execution_count": 71
        },
        {
          "output_type": "display_data",
          "data": {
            "image/png": "[encoded data removed]",
            "text/plain": [
              "<Figure size 432x288 with 1 Axes>"
            ]
          },
          "metadata": {
            "tags": [],
            "image/png": {
              "width": 388,
              "height": 262
            },
            "needs_background": "light"
          }
        }
      ]
    },
    {
      "cell_type": "code",
      "metadata": {
        "id": "Mt6f3fzPT2B7",
        "colab_type": "code",
        "colab": {
          "base_uri": "https://localhost:8080/",
          "height": 297
        },
        "outputId": "7d56ef21-f3ad-4530-dd8a-0359826cc645"
      },
      "source": [
        "# 예측값\n",
        "sns.barplot(data=test, x=\"한의사체질진단\", y=\"저밀도콜레스테롤\")"
      ],
      "execution_count": 72,
      "outputs": [
        {
          "output_type": "execute_result",
          "data": {
            "text/plain": [
              "<matplotlib.axes._subplots.AxesSubplot at 0x7f166d791ba8>"
            ]
          },
          "metadata": {
            "tags": []
          },
          "execution_count": 72
        },
        {
          "output_type": "display_data",
          "data": {
            "image/png": "[encoded data removed]",
            "text/plain": [
              "<Figure size 432x288 with 1 Axes>"
            ]
          },
          "metadata": {
            "tags": [],
            "image/png": {
              "width": 388,
              "height": 262
            },
            "needs_background": "light"
          }
        }
      ]
    },
    {
      "cell_type": "code",
      "metadata": {
        "id": "zJZNwnFIT2B_",
        "colab_type": "code",
        "colab": {}
      },
      "source": [
        "#위의 두 barplot을 비교함으로써 regression을 통해 얼마나 잘 예측했는지 살펴볼 수 있다.\n",
        "## 즉, 두 train과 test가 균질해질수록 잘 예측(여기서는 결측치 처리)한 것으로 추론할 수 있다."
      ],
      "execution_count": 64,
      "outputs": []
    },
    {
      "cell_type": "code",
      "metadata": {
        "id": "8uNGjgeHT2CA",
        "colab_type": "code",
        "colab": {}
      },
      "source": [
        "#1 regression을 처음부터 끝까지 쭉 해봄: MAE 13.66 / RMSE 19.10\n",
        "#2 저밀도콜레스테롤의 outlier 제거 후 오차가 낮아짐: MAE 13.39 / RMSE 18.53\n",
        "#3 RandomizedSearchCV를 이용한 best_parameter를 이용한 후: MAE 8.77 / RMSE 11.90"
      ],
      "execution_count": 65,
      "outputs": []
    },
    {
      "cell_type": "markdown",
      "metadata": {
        "id": "JqEU9K2kxCcb",
        "colab_type": "text"
      },
      "source": [
        "## 예측값을 CSV 파일로 저장하기\n",
        "* 랜덤값을 넣어서 최적의 파라메터를 찾았기 때문에 예측이 매번 달라질 수 있다."
      ]
    },
    {
      "cell_type": "code",
      "metadata": {
        "id": "AmEhhhdtxCcb",
        "colab_type": "code",
        "colab": {
          "base_uri": "https://localhost:8080/",
          "height": 89
        },
        "outputId": "90a3c3d2-c30f-4a72-a15d-51313268d275"
      },
      "source": [
        "df.loc[df[\"저밀도콜레스테롤\"] == 999, \"저밀도콜레스테롤\"]"
      ],
      "execution_count": 75,
      "outputs": [
        {
          "output_type": "execute_result",
          "data": {
            "text/plain": [
              "69     999\n",
              "123    999\n",
              "127    999\n",
              "Name: 저밀도콜레스테롤, dtype: int64"
            ]
          },
          "metadata": {
            "tags": []
          },
          "execution_count": 75
        }
      ]
    },
    {
      "cell_type": "code",
      "metadata": {
        "id": "p5lO3SLI56Jt",
        "colab_type": "code",
        "colab": {
          "base_uri": "https://localhost:8080/",
          "height": 89
        },
        "outputId": "af31a333-5274-4849-b193-9d44d85b760a"
      },
      "source": [
        "#위의 series와 index 번호가 같음을 확인\n",
        "test[\"저밀도콜레스테롤\"]"
      ],
      "execution_count": 78,
      "outputs": [
        {
          "output_type": "execute_result",
          "data": {
            "text/plain": [
              "69     145.090182\n",
              "123    159.598366\n",
              "127    158.604238\n",
              "Name: 저밀도콜레스테롤, dtype: float64"
            ]
          },
          "metadata": {
            "tags": []
          },
          "execution_count": 78
        }
      ]
    },
    {
      "cell_type": "code",
      "metadata": {
        "id": "vWAg7Kq4xCcj",
        "colab_type": "code",
        "colab": {}
      },
      "source": [
        "df.loc[df[\"저밀도콜레스테롤\"] == 999, \"저밀도콜레스테롤\"] = test[\"저밀도콜레스테롤\"]"
      ],
      "execution_count": null,
      "outputs": []
    },
    {
      "cell_type": "code",
      "metadata": {
        "id": "Wup3MFWAxCcp",
        "colab_type": "code",
        "colab": {}
      },
      "source": [
        "#KDC의 dataframe의 경우 \"대상자식별코드\"가 따로 있기 때문에, index를 False로 해준다.\n",
        "df.to_csv(\"/content/drive/My Drive/DataCollection/KIOM_KDC/data/diabetes_fill_insulin.csv\", index=False)"
      ],
      "execution_count": 86,
      "outputs": []
    },
    {
      "cell_type": "code",
      "metadata": {
        "id": "Gtf1cNYExCcu",
        "colab_type": "code",
        "colab": {
          "base_uri": "https://localhost:8080/",
          "height": 643
        },
        "outputId": "6b494d78-99bd-45ea-8837-a27dff92141f"
      },
      "source": [
        "pd.read_csv(\"/content/drive/My Drive/DataCollection/KIOM_KDC/data/diabetes_fill_insulin.csv\")"
      ],
      "execution_count": 87,
      "outputs": [
        {
          "output_type": "execute_result",
          "data": {
            "text/html": [
              "<div>\n",
              "<style scoped>\n",
              "    .dataframe tbody tr th:only-of-type {\n",
              "        vertical-align: middle;\n",
              "    }\n",
              "\n",
              "    .dataframe tbody tr th {\n",
              "        vertical-align: top;\n",
              "    }\n",
              "\n",
              "    .dataframe thead th {\n",
              "        text-align: right;\n",
              "    }\n",
              "</style>\n",
              "<table border=\"1\" class=\"dataframe\">\n",
              "  <thead>\n",
              "    <tr style=\"text-align: right;\">\n",
              "      <th></th>\n",
              "      <th>대상자식별코드</th>\n",
              "      <th>성별</th>\n",
              "      <th>만나이</th>\n",
              "      <th>직업분류</th>\n",
              "      <th>학력</th>\n",
              "      <th>결혼유무</th>\n",
              "      <th>음주력</th>\n",
              "      <th>흡연력</th>\n",
              "      <th>성격_대범_섬세</th>\n",
              "      <th>성격_행동빠름_행동느림</th>\n",
              "      <th>성격_적극_소극</th>\n",
              "      <th>성격_직접_간접</th>\n",
              "      <th>성격_포기빠름_포기느림</th>\n",
              "      <th>성격_외향_내성</th>\n",
              "      <th>성격_동적_정적</th>\n",
              "      <th>성격_쉽게_어렵게</th>\n",
              "      <th>성격_남성적_여성적</th>\n",
              "      <th>성격_참을성부족_잘찾음</th>\n",
              "      <th>성격_큰편_적은편</th>\n",
              "      <th>성격_잘드러냄_안드러냄</th>\n",
              "      <th>성격_잘표현_표현안하는편</th>\n",
              "      <th>성격_가끔흥분_이성적</th>\n",
              "      <th>성격_덜렁_꼼꼼</th>\n",
              "      <th>식사량</th>\n",
              "      <th>식사속도</th>\n",
              "      <th>소화여부</th>\n",
              "      <th>소화입맛</th>\n",
              "      <th>땀정도</th>\n",
              "      <th>땀기분</th>\n",
              "      <th>대변습관</th>\n",
              "      <th>대변굳기</th>\n",
              "      <th>배변시긴박감</th>\n",
              "      <th>배변후잔변감</th>\n",
              "      <th>소변야간뇨</th>\n",
              "      <th>한열민감도</th>\n",
              "      <th>한열손부위</th>\n",
              "      <th>한열발부위</th>\n",
              "      <th>한열배부위</th>\n",
              "      <th>음수정도</th>\n",
              "      <th>음수온다</th>\n",
              "      <th>한열점수</th>\n",
              "      <th>한열그룹</th>\n",
              "      <th>고혈압_진단</th>\n",
              "      <th>당뇨_진단</th>\n",
              "      <th>고지혈증_진단</th>\n",
              "      <th>일반건강</th>\n",
              "      <th>수면시간(시간)</th>\n",
              "      <th>수면시간(분)</th>\n",
              "      <th>피로정도</th>\n",
              "      <th>피로_기상시</th>\n",
              "      <th>피로_오전</th>\n",
              "      <th>피로_오후</th>\n",
              "      <th>피로_밤</th>\n",
              "      <th>피로_하루종일</th>\n",
              "      <th>한의사체질진단</th>\n",
              "      <th>키</th>\n",
              "      <th>몸무게</th>\n",
              "      <th>BMI</th>\n",
              "      <th>이마둘레</th>\n",
              "      <th>목둘레</th>\n",
              "      <th>겨드랑이둘레</th>\n",
              "      <th>가슴둘레</th>\n",
              "      <th>늑골둘레</th>\n",
              "      <th>허리둘레</th>\n",
              "      <th>장골둘레</th>\n",
              "      <th>곡골둘레</th>\n",
              "      <th>수축기혈합</th>\n",
              "      <th>이완기혈압</th>\n",
              "      <th>혈당</th>\n",
              "      <th>총콜레스테롤</th>\n",
              "      <th>중성지방</th>\n",
              "      <th>고밀도콜레스테롤</th>\n",
              "      <th>저밀도콜레스테롤</th>\n",
              "    </tr>\n",
              "  </thead>\n",
              "  <tbody>\n",
              "    <tr>\n",
              "      <th>0</th>\n",
              "      <td>KDCT00001</td>\n",
              "      <td>2</td>\n",
              "      <td>48.666</td>\n",
              "      <td>2</td>\n",
              "      <td>5</td>\n",
              "      <td>2</td>\n",
              "      <td>999</td>\n",
              "      <td>999</td>\n",
              "      <td>2</td>\n",
              "      <td>2</td>\n",
              "      <td>1</td>\n",
              "      <td>2</td>\n",
              "      <td>1</td>\n",
              "      <td>1</td>\n",
              "      <td>1</td>\n",
              "      <td>2</td>\n",
              "      <td>2</td>\n",
              "      <td>3</td>\n",
              "      <td>2</td>\n",
              "      <td>2</td>\n",
              "      <td>2</td>\n",
              "      <td>1</td>\n",
              "      <td>1</td>\n",
              "      <td>2</td>\n",
              "      <td>2</td>\n",
              "      <td>1</td>\n",
              "      <td>3</td>\n",
              "      <td>3</td>\n",
              "      <td>1</td>\n",
              "      <td>1</td>\n",
              "      <td>2</td>\n",
              "      <td>999</td>\n",
              "      <td>999</td>\n",
              "      <td>1.0</td>\n",
              "      <td>1</td>\n",
              "      <td>2</td>\n",
              "      <td>2</td>\n",
              "      <td>2</td>\n",
              "      <td>2</td>\n",
              "      <td>2</td>\n",
              "      <td>12</td>\n",
              "      <td>2</td>\n",
              "      <td>1</td>\n",
              "      <td>1</td>\n",
              "      <td>1</td>\n",
              "      <td>3</td>\n",
              "      <td>5</td>\n",
              "      <td>0</td>\n",
              "      <td>2</td>\n",
              "      <td>0</td>\n",
              "      <td>0</td>\n",
              "      <td>0</td>\n",
              "      <td>1</td>\n",
              "      <td>0</td>\n",
              "      <td>2</td>\n",
              "      <td>158.0</td>\n",
              "      <td>55.0</td>\n",
              "      <td>22.0</td>\n",
              "      <td>53.0</td>\n",
              "      <td>33.0</td>\n",
              "      <td>92.0</td>\n",
              "      <td>96.0</td>\n",
              "      <td>89.0</td>\n",
              "      <td>82.0</td>\n",
              "      <td>91.0</td>\n",
              "      <td>96.0</td>\n",
              "      <td>120</td>\n",
              "      <td>80</td>\n",
              "      <td>104</td>\n",
              "      <td>219</td>\n",
              "      <td>72</td>\n",
              "      <td>60</td>\n",
              "      <td>128.0</td>\n",
              "    </tr>\n",
              "    <tr>\n",
              "      <th>1</th>\n",
              "      <td>KDCT00002</td>\n",
              "      <td>2</td>\n",
              "      <td>80.773</td>\n",
              "      <td>14</td>\n",
              "      <td>3</td>\n",
              "      <td>2</td>\n",
              "      <td>999</td>\n",
              "      <td>999</td>\n",
              "      <td>1</td>\n",
              "      <td>1</td>\n",
              "      <td>1</td>\n",
              "      <td>1</td>\n",
              "      <td>1</td>\n",
              "      <td>1</td>\n",
              "      <td>1</td>\n",
              "      <td>2</td>\n",
              "      <td>1</td>\n",
              "      <td>3</td>\n",
              "      <td>1</td>\n",
              "      <td>1</td>\n",
              "      <td>1</td>\n",
              "      <td>1</td>\n",
              "      <td>3</td>\n",
              "      <td>2</td>\n",
              "      <td>2</td>\n",
              "      <td>1</td>\n",
              "      <td>3</td>\n",
              "      <td>1</td>\n",
              "      <td>2</td>\n",
              "      <td>1</td>\n",
              "      <td>2</td>\n",
              "      <td>999</td>\n",
              "      <td>999</td>\n",
              "      <td>1.0</td>\n",
              "      <td>2</td>\n",
              "      <td>2</td>\n",
              "      <td>2</td>\n",
              "      <td>2</td>\n",
              "      <td>2</td>\n",
              "      <td>3</td>\n",
              "      <td>13</td>\n",
              "      <td>3</td>\n",
              "      <td>1</td>\n",
              "      <td>1</td>\n",
              "      <td>1</td>\n",
              "      <td>3</td>\n",
              "      <td>5</td>\n",
              "      <td>0</td>\n",
              "      <td>4</td>\n",
              "      <td>0</td>\n",
              "      <td>0</td>\n",
              "      <td>1</td>\n",
              "      <td>0</td>\n",
              "      <td>0</td>\n",
              "      <td>3</td>\n",
              "      <td>155.0</td>\n",
              "      <td>63.0</td>\n",
              "      <td>26.2</td>\n",
              "      <td>59.0</td>\n",
              "      <td>35.0</td>\n",
              "      <td>96.0</td>\n",
              "      <td>101.0</td>\n",
              "      <td>93.0</td>\n",
              "      <td>92.0</td>\n",
              "      <td>96.0</td>\n",
              "      <td>99.0</td>\n",
              "      <td>124</td>\n",
              "      <td>65</td>\n",
              "      <td>110</td>\n",
              "      <td>199</td>\n",
              "      <td>97</td>\n",
              "      <td>46</td>\n",
              "      <td>114.0</td>\n",
              "    </tr>\n",
              "    <tr>\n",
              "      <th>2</th>\n",
              "      <td>KDCT00003</td>\n",
              "      <td>1</td>\n",
              "      <td>50.008</td>\n",
              "      <td>3</td>\n",
              "      <td>3</td>\n",
              "      <td>2</td>\n",
              "      <td>999</td>\n",
              "      <td>999</td>\n",
              "      <td>3</td>\n",
              "      <td>1</td>\n",
              "      <td>1</td>\n",
              "      <td>1</td>\n",
              "      <td>1</td>\n",
              "      <td>1</td>\n",
              "      <td>1</td>\n",
              "      <td>1</td>\n",
              "      <td>1</td>\n",
              "      <td>2</td>\n",
              "      <td>1</td>\n",
              "      <td>1</td>\n",
              "      <td>1</td>\n",
              "      <td>1</td>\n",
              "      <td>3</td>\n",
              "      <td>3</td>\n",
              "      <td>2</td>\n",
              "      <td>3</td>\n",
              "      <td>2</td>\n",
              "      <td>3</td>\n",
              "      <td>1</td>\n",
              "      <td>1</td>\n",
              "      <td>2</td>\n",
              "      <td>999</td>\n",
              "      <td>999</td>\n",
              "      <td>1.0</td>\n",
              "      <td>3</td>\n",
              "      <td>2</td>\n",
              "      <td>3</td>\n",
              "      <td>2</td>\n",
              "      <td>2</td>\n",
              "      <td>2</td>\n",
              "      <td>12</td>\n",
              "      <td>2</td>\n",
              "      <td>1</td>\n",
              "      <td>1</td>\n",
              "      <td>1</td>\n",
              "      <td>3</td>\n",
              "      <td>7</td>\n",
              "      <td>0</td>\n",
              "      <td>2</td>\n",
              "      <td>0</td>\n",
              "      <td>0</td>\n",
              "      <td>1</td>\n",
              "      <td>0</td>\n",
              "      <td>0</td>\n",
              "      <td>2</td>\n",
              "      <td>160.0</td>\n",
              "      <td>59.0</td>\n",
              "      <td>23.0</td>\n",
              "      <td>57.0</td>\n",
              "      <td>37.0</td>\n",
              "      <td>95.0</td>\n",
              "      <td>90.0</td>\n",
              "      <td>83.0</td>\n",
              "      <td>80.0</td>\n",
              "      <td>81.0</td>\n",
              "      <td>81.0</td>\n",
              "      <td>121</td>\n",
              "      <td>75</td>\n",
              "      <td>79</td>\n",
              "      <td>216</td>\n",
              "      <td>88</td>\n",
              "      <td>49</td>\n",
              "      <td>132.0</td>\n",
              "    </tr>\n",
              "    <tr>\n",
              "      <th>3</th>\n",
              "      <td>KDCT00004</td>\n",
              "      <td>2</td>\n",
              "      <td>50.551</td>\n",
              "      <td>14</td>\n",
              "      <td>4</td>\n",
              "      <td>2</td>\n",
              "      <td>999</td>\n",
              "      <td>999</td>\n",
              "      <td>1</td>\n",
              "      <td>1</td>\n",
              "      <td>1</td>\n",
              "      <td>1</td>\n",
              "      <td>1</td>\n",
              "      <td>1</td>\n",
              "      <td>1</td>\n",
              "      <td>2</td>\n",
              "      <td>1</td>\n",
              "      <td>1</td>\n",
              "      <td>1</td>\n",
              "      <td>2</td>\n",
              "      <td>1</td>\n",
              "      <td>1</td>\n",
              "      <td>2</td>\n",
              "      <td>999</td>\n",
              "      <td>1</td>\n",
              "      <td>3</td>\n",
              "      <td>2</td>\n",
              "      <td>2</td>\n",
              "      <td>3</td>\n",
              "      <td>2</td>\n",
              "      <td>2</td>\n",
              "      <td>999</td>\n",
              "      <td>999</td>\n",
              "      <td>1.0</td>\n",
              "      <td>2</td>\n",
              "      <td>2</td>\n",
              "      <td>2</td>\n",
              "      <td>2</td>\n",
              "      <td>1</td>\n",
              "      <td>2</td>\n",
              "      <td>15</td>\n",
              "      <td>3</td>\n",
              "      <td>1</td>\n",
              "      <td>1</td>\n",
              "      <td>1</td>\n",
              "      <td>4</td>\n",
              "      <td>7</td>\n",
              "      <td>0</td>\n",
              "      <td>4</td>\n",
              "      <td>0</td>\n",
              "      <td>0</td>\n",
              "      <td>1</td>\n",
              "      <td>0</td>\n",
              "      <td>0</td>\n",
              "      <td>2</td>\n",
              "      <td>165.0</td>\n",
              "      <td>76.0</td>\n",
              "      <td>27.9</td>\n",
              "      <td>59.0</td>\n",
              "      <td>37.0</td>\n",
              "      <td>100.0</td>\n",
              "      <td>104.0</td>\n",
              "      <td>90.0</td>\n",
              "      <td>91.0</td>\n",
              "      <td>94.0</td>\n",
              "      <td>99.0</td>\n",
              "      <td>113</td>\n",
              "      <td>81</td>\n",
              "      <td>100</td>\n",
              "      <td>218</td>\n",
              "      <td>136</td>\n",
              "      <td>44</td>\n",
              "      <td>136.0</td>\n",
              "    </tr>\n",
              "    <tr>\n",
              "      <th>4</th>\n",
              "      <td>KDCT00005</td>\n",
              "      <td>1</td>\n",
              "      <td>49.581</td>\n",
              "      <td>8</td>\n",
              "      <td>2</td>\n",
              "      <td>2</td>\n",
              "      <td>999</td>\n",
              "      <td>999</td>\n",
              "      <td>3</td>\n",
              "      <td>2</td>\n",
              "      <td>3</td>\n",
              "      <td>2</td>\n",
              "      <td>2</td>\n",
              "      <td>3</td>\n",
              "      <td>2</td>\n",
              "      <td>2</td>\n",
              "      <td>2</td>\n",
              "      <td>3</td>\n",
              "      <td>3</td>\n",
              "      <td>2</td>\n",
              "      <td>2</td>\n",
              "      <td>2</td>\n",
              "      <td>1</td>\n",
              "      <td>2</td>\n",
              "      <td>1</td>\n",
              "      <td>1</td>\n",
              "      <td>3</td>\n",
              "      <td>1</td>\n",
              "      <td>2</td>\n",
              "      <td>1</td>\n",
              "      <td>2</td>\n",
              "      <td>999</td>\n",
              "      <td>999</td>\n",
              "      <td>0.0</td>\n",
              "      <td>1</td>\n",
              "      <td>3</td>\n",
              "      <td>3</td>\n",
              "      <td>2</td>\n",
              "      <td>1</td>\n",
              "      <td>2</td>\n",
              "      <td>11</td>\n",
              "      <td>2</td>\n",
              "      <td>1</td>\n",
              "      <td>1</td>\n",
              "      <td>1</td>\n",
              "      <td>2</td>\n",
              "      <td>5</td>\n",
              "      <td>0</td>\n",
              "      <td>4</td>\n",
              "      <td>0</td>\n",
              "      <td>0</td>\n",
              "      <td>1</td>\n",
              "      <td>0</td>\n",
              "      <td>0</td>\n",
              "      <td>1</td>\n",
              "      <td>165.0</td>\n",
              "      <td>70.0</td>\n",
              "      <td>25.7</td>\n",
              "      <td>60.0</td>\n",
              "      <td>40.0</td>\n",
              "      <td>106.0</td>\n",
              "      <td>102.0</td>\n",
              "      <td>99.0</td>\n",
              "      <td>98.0</td>\n",
              "      <td>98.0</td>\n",
              "      <td>100.0</td>\n",
              "      <td>129</td>\n",
              "      <td>72</td>\n",
              "      <td>92</td>\n",
              "      <td>186</td>\n",
              "      <td>61</td>\n",
              "      <td>33</td>\n",
              "      <td>118.0</td>\n",
              "    </tr>\n",
              "    <tr>\n",
              "      <th>...</th>\n",
              "      <td>...</td>\n",
              "      <td>...</td>\n",
              "      <td>...</td>\n",
              "      <td>...</td>\n",
              "      <td>...</td>\n",
              "      <td>...</td>\n",
              "      <td>...</td>\n",
              "      <td>...</td>\n",
              "      <td>...</td>\n",
              "      <td>...</td>\n",
              "      <td>...</td>\n",
              "      <td>...</td>\n",
              "      <td>...</td>\n",
              "      <td>...</td>\n",
              "      <td>...</td>\n",
              "      <td>...</td>\n",
              "      <td>...</td>\n",
              "      <td>...</td>\n",
              "      <td>...</td>\n",
              "      <td>...</td>\n",
              "      <td>...</td>\n",
              "      <td>...</td>\n",
              "      <td>...</td>\n",
              "      <td>...</td>\n",
              "      <td>...</td>\n",
              "      <td>...</td>\n",
              "      <td>...</td>\n",
              "      <td>...</td>\n",
              "      <td>...</td>\n",
              "      <td>...</td>\n",
              "      <td>...</td>\n",
              "      <td>...</td>\n",
              "      <td>...</td>\n",
              "      <td>...</td>\n",
              "      <td>...</td>\n",
              "      <td>...</td>\n",
              "      <td>...</td>\n",
              "      <td>...</td>\n",
              "      <td>...</td>\n",
              "      <td>...</td>\n",
              "      <td>...</td>\n",
              "      <td>...</td>\n",
              "      <td>...</td>\n",
              "      <td>...</td>\n",
              "      <td>...</td>\n",
              "      <td>...</td>\n",
              "      <td>...</td>\n",
              "      <td>...</td>\n",
              "      <td>...</td>\n",
              "      <td>...</td>\n",
              "      <td>...</td>\n",
              "      <td>...</td>\n",
              "      <td>...</td>\n",
              "      <td>...</td>\n",
              "      <td>...</td>\n",
              "      <td>...</td>\n",
              "      <td>...</td>\n",
              "      <td>...</td>\n",
              "      <td>...</td>\n",
              "      <td>...</td>\n",
              "      <td>...</td>\n",
              "      <td>...</td>\n",
              "      <td>...</td>\n",
              "      <td>...</td>\n",
              "      <td>...</td>\n",
              "      <td>...</td>\n",
              "      <td>...</td>\n",
              "      <td>...</td>\n",
              "      <td>...</td>\n",
              "      <td>...</td>\n",
              "      <td>...</td>\n",
              "      <td>...</td>\n",
              "      <td>...</td>\n",
              "    </tr>\n",
              "    <tr>\n",
              "      <th>495</th>\n",
              "      <td>KDCT00496</td>\n",
              "      <td>1</td>\n",
              "      <td>50.682</td>\n",
              "      <td>3</td>\n",
              "      <td>5</td>\n",
              "      <td>2</td>\n",
              "      <td>1</td>\n",
              "      <td>2</td>\n",
              "      <td>3</td>\n",
              "      <td>1</td>\n",
              "      <td>2</td>\n",
              "      <td>2</td>\n",
              "      <td>1</td>\n",
              "      <td>2</td>\n",
              "      <td>2</td>\n",
              "      <td>1</td>\n",
              "      <td>2</td>\n",
              "      <td>3</td>\n",
              "      <td>2</td>\n",
              "      <td>3</td>\n",
              "      <td>3</td>\n",
              "      <td>2</td>\n",
              "      <td>3</td>\n",
              "      <td>2</td>\n",
              "      <td>999</td>\n",
              "      <td>1</td>\n",
              "      <td>2</td>\n",
              "      <td>1</td>\n",
              "      <td>3</td>\n",
              "      <td>1</td>\n",
              "      <td>2</td>\n",
              "      <td>3</td>\n",
              "      <td>3</td>\n",
              "      <td>1.0</td>\n",
              "      <td>1</td>\n",
              "      <td>3</td>\n",
              "      <td>3</td>\n",
              "      <td>3</td>\n",
              "      <td>2</td>\n",
              "      <td>2</td>\n",
              "      <td>9</td>\n",
              "      <td>1</td>\n",
              "      <td>2</td>\n",
              "      <td>1</td>\n",
              "      <td>1</td>\n",
              "      <td>3</td>\n",
              "      <td>7</td>\n",
              "      <td>0</td>\n",
              "      <td>3</td>\n",
              "      <td>0</td>\n",
              "      <td>0</td>\n",
              "      <td>1</td>\n",
              "      <td>0</td>\n",
              "      <td>0</td>\n",
              "      <td>1</td>\n",
              "      <td>164.5</td>\n",
              "      <td>57.9</td>\n",
              "      <td>21.4</td>\n",
              "      <td>55.3</td>\n",
              "      <td>36.0</td>\n",
              "      <td>89.0</td>\n",
              "      <td>86.5</td>\n",
              "      <td>83.2</td>\n",
              "      <td>74.5</td>\n",
              "      <td>80.0</td>\n",
              "      <td>88.0</td>\n",
              "      <td>120</td>\n",
              "      <td>80</td>\n",
              "      <td>71</td>\n",
              "      <td>190</td>\n",
              "      <td>75</td>\n",
              "      <td>73</td>\n",
              "      <td>101.0</td>\n",
              "    </tr>\n",
              "    <tr>\n",
              "      <th>496</th>\n",
              "      <td>KDCT00497</td>\n",
              "      <td>2</td>\n",
              "      <td>42.542</td>\n",
              "      <td>3</td>\n",
              "      <td>5</td>\n",
              "      <td>2</td>\n",
              "      <td>2</td>\n",
              "      <td>3</td>\n",
              "      <td>3</td>\n",
              "      <td>1</td>\n",
              "      <td>3</td>\n",
              "      <td>3</td>\n",
              "      <td>1</td>\n",
              "      <td>3</td>\n",
              "      <td>3</td>\n",
              "      <td>2</td>\n",
              "      <td>3</td>\n",
              "      <td>3</td>\n",
              "      <td>2</td>\n",
              "      <td>3</td>\n",
              "      <td>3</td>\n",
              "      <td>2</td>\n",
              "      <td>3</td>\n",
              "      <td>2</td>\n",
              "      <td>999</td>\n",
              "      <td>3</td>\n",
              "      <td>3</td>\n",
              "      <td>3</td>\n",
              "      <td>3</td>\n",
              "      <td>2</td>\n",
              "      <td>2</td>\n",
              "      <td>3</td>\n",
              "      <td>3</td>\n",
              "      <td>1.0</td>\n",
              "      <td>3</td>\n",
              "      <td>3</td>\n",
              "      <td>3</td>\n",
              "      <td>2</td>\n",
              "      <td>3</td>\n",
              "      <td>1</td>\n",
              "      <td>8</td>\n",
              "      <td>1</td>\n",
              "      <td>1</td>\n",
              "      <td>1</td>\n",
              "      <td>1</td>\n",
              "      <td>3</td>\n",
              "      <td>6</td>\n",
              "      <td>0</td>\n",
              "      <td>3</td>\n",
              "      <td>0</td>\n",
              "      <td>0</td>\n",
              "      <td>1</td>\n",
              "      <td>0</td>\n",
              "      <td>0</td>\n",
              "      <td>2</td>\n",
              "      <td>157.2</td>\n",
              "      <td>41.9</td>\n",
              "      <td>17.0</td>\n",
              "      <td>53.5</td>\n",
              "      <td>32.0</td>\n",
              "      <td>73.5</td>\n",
              "      <td>76.0</td>\n",
              "      <td>67.0</td>\n",
              "      <td>64.5</td>\n",
              "      <td>76.0</td>\n",
              "      <td>79.0</td>\n",
              "      <td>110</td>\n",
              "      <td>70</td>\n",
              "      <td>74</td>\n",
              "      <td>246</td>\n",
              "      <td>86</td>\n",
              "      <td>104</td>\n",
              "      <td>117.0</td>\n",
              "    </tr>\n",
              "    <tr>\n",
              "      <th>497</th>\n",
              "      <td>KDCT00498</td>\n",
              "      <td>1</td>\n",
              "      <td>48.797</td>\n",
              "      <td>7</td>\n",
              "      <td>5</td>\n",
              "      <td>2</td>\n",
              "      <td>1</td>\n",
              "      <td>2</td>\n",
              "      <td>3</td>\n",
              "      <td>2</td>\n",
              "      <td>2</td>\n",
              "      <td>2</td>\n",
              "      <td>2</td>\n",
              "      <td>2</td>\n",
              "      <td>3</td>\n",
              "      <td>2</td>\n",
              "      <td>2</td>\n",
              "      <td>2</td>\n",
              "      <td>1</td>\n",
              "      <td>3</td>\n",
              "      <td>2</td>\n",
              "      <td>2</td>\n",
              "      <td>2</td>\n",
              "      <td>2</td>\n",
              "      <td>999</td>\n",
              "      <td>1</td>\n",
              "      <td>3</td>\n",
              "      <td>2</td>\n",
              "      <td>1</td>\n",
              "      <td>2</td>\n",
              "      <td>2</td>\n",
              "      <td>3</td>\n",
              "      <td>2</td>\n",
              "      <td>0.0</td>\n",
              "      <td>2</td>\n",
              "      <td>1</td>\n",
              "      <td>1</td>\n",
              "      <td>1</td>\n",
              "      <td>2</td>\n",
              "      <td>2</td>\n",
              "      <td>17</td>\n",
              "      <td>3</td>\n",
              "      <td>2</td>\n",
              "      <td>1</td>\n",
              "      <td>2</td>\n",
              "      <td>4</td>\n",
              "      <td>6</td>\n",
              "      <td>0</td>\n",
              "      <td>2</td>\n",
              "      <td>1</td>\n",
              "      <td>0</td>\n",
              "      <td>1</td>\n",
              "      <td>0</td>\n",
              "      <td>0</td>\n",
              "      <td>3</td>\n",
              "      <td>165.0</td>\n",
              "      <td>82.0</td>\n",
              "      <td>30.1</td>\n",
              "      <td>58.0</td>\n",
              "      <td>41.0</td>\n",
              "      <td>105.5</td>\n",
              "      <td>104.0</td>\n",
              "      <td>99.7</td>\n",
              "      <td>95.0</td>\n",
              "      <td>96.5</td>\n",
              "      <td>97.5</td>\n",
              "      <td>150</td>\n",
              "      <td>100</td>\n",
              "      <td>125</td>\n",
              "      <td>246</td>\n",
              "      <td>220</td>\n",
              "      <td>74</td>\n",
              "      <td>154.0</td>\n",
              "    </tr>\n",
              "    <tr>\n",
              "      <th>498</th>\n",
              "      <td>KDCT00499</td>\n",
              "      <td>1</td>\n",
              "      <td>51.263</td>\n",
              "      <td>7</td>\n",
              "      <td>4</td>\n",
              "      <td>2</td>\n",
              "      <td>1</td>\n",
              "      <td>1</td>\n",
              "      <td>3</td>\n",
              "      <td>2</td>\n",
              "      <td>1</td>\n",
              "      <td>1</td>\n",
              "      <td>1</td>\n",
              "      <td>1</td>\n",
              "      <td>1</td>\n",
              "      <td>1</td>\n",
              "      <td>1</td>\n",
              "      <td>3</td>\n",
              "      <td>2</td>\n",
              "      <td>1</td>\n",
              "      <td>2</td>\n",
              "      <td>3</td>\n",
              "      <td>3</td>\n",
              "      <td>2</td>\n",
              "      <td>999</td>\n",
              "      <td>3</td>\n",
              "      <td>2</td>\n",
              "      <td>2</td>\n",
              "      <td>1</td>\n",
              "      <td>1</td>\n",
              "      <td>2</td>\n",
              "      <td>2</td>\n",
              "      <td>3</td>\n",
              "      <td>1.0</td>\n",
              "      <td>2</td>\n",
              "      <td>3</td>\n",
              "      <td>2</td>\n",
              "      <td>2</td>\n",
              "      <td>1</td>\n",
              "      <td>2</td>\n",
              "      <td>14</td>\n",
              "      <td>3</td>\n",
              "      <td>2</td>\n",
              "      <td>1</td>\n",
              "      <td>1</td>\n",
              "      <td>2</td>\n",
              "      <td>7</td>\n",
              "      <td>0</td>\n",
              "      <td>2</td>\n",
              "      <td>0</td>\n",
              "      <td>0</td>\n",
              "      <td>1</td>\n",
              "      <td>0</td>\n",
              "      <td>0</td>\n",
              "      <td>3</td>\n",
              "      <td>171.1</td>\n",
              "      <td>68.3</td>\n",
              "      <td>23.3</td>\n",
              "      <td>54.4</td>\n",
              "      <td>38.0</td>\n",
              "      <td>97.3</td>\n",
              "      <td>94.0</td>\n",
              "      <td>87.0</td>\n",
              "      <td>86.0</td>\n",
              "      <td>89.5</td>\n",
              "      <td>91.4</td>\n",
              "      <td>110</td>\n",
              "      <td>80</td>\n",
              "      <td>85</td>\n",
              "      <td>172</td>\n",
              "      <td>127</td>\n",
              "      <td>49</td>\n",
              "      <td>109.0</td>\n",
              "    </tr>\n",
              "    <tr>\n",
              "      <th>499</th>\n",
              "      <td>KDCT00500</td>\n",
              "      <td>2</td>\n",
              "      <td>53.767</td>\n",
              "      <td>5</td>\n",
              "      <td>3</td>\n",
              "      <td>2</td>\n",
              "      <td>3</td>\n",
              "      <td>3</td>\n",
              "      <td>2</td>\n",
              "      <td>1</td>\n",
              "      <td>1</td>\n",
              "      <td>2</td>\n",
              "      <td>1</td>\n",
              "      <td>2</td>\n",
              "      <td>1</td>\n",
              "      <td>2</td>\n",
              "      <td>2</td>\n",
              "      <td>2</td>\n",
              "      <td>2</td>\n",
              "      <td>2</td>\n",
              "      <td>2</td>\n",
              "      <td>2</td>\n",
              "      <td>2</td>\n",
              "      <td>2</td>\n",
              "      <td>999</td>\n",
              "      <td>1</td>\n",
              "      <td>2</td>\n",
              "      <td>3</td>\n",
              "      <td>1</td>\n",
              "      <td>1</td>\n",
              "      <td>2</td>\n",
              "      <td>3</td>\n",
              "      <td>3</td>\n",
              "      <td>0.5</td>\n",
              "      <td>1</td>\n",
              "      <td>1</td>\n",
              "      <td>1</td>\n",
              "      <td>2</td>\n",
              "      <td>2</td>\n",
              "      <td>1</td>\n",
              "      <td>12</td>\n",
              "      <td>2</td>\n",
              "      <td>1</td>\n",
              "      <td>1</td>\n",
              "      <td>1</td>\n",
              "      <td>2</td>\n",
              "      <td>7</td>\n",
              "      <td>30</td>\n",
              "      <td>2</td>\n",
              "      <td>0</td>\n",
              "      <td>0</td>\n",
              "      <td>1</td>\n",
              "      <td>0</td>\n",
              "      <td>0</td>\n",
              "      <td>3</td>\n",
              "      <td>157.2</td>\n",
              "      <td>57.3</td>\n",
              "      <td>23.2</td>\n",
              "      <td>53.0</td>\n",
              "      <td>32.4</td>\n",
              "      <td>85.0</td>\n",
              "      <td>88.3</td>\n",
              "      <td>74.5</td>\n",
              "      <td>76.2</td>\n",
              "      <td>87.3</td>\n",
              "      <td>91.0</td>\n",
              "      <td>120</td>\n",
              "      <td>80</td>\n",
              "      <td>84</td>\n",
              "      <td>279</td>\n",
              "      <td>157</td>\n",
              "      <td>84</td>\n",
              "      <td>171.0</td>\n",
              "    </tr>\n",
              "  </tbody>\n",
              "</table>\n",
              "<p>500 rows × 73 columns</p>\n",
              "</div>"
            ],
            "text/plain": [
              "       대상자식별코드  성별     만나이  직업분류  학력  ...   혈당  총콜레스테롤  중성지방  고밀도콜레스테롤  저밀도콜레스테롤\n",
              "0    KDCT00001   2  48.666     2   5  ...  104     219    72        60     128.0\n",
              "1    KDCT00002   2  80.773    14   3  ...  110     199    97        46     114.0\n",
              "2    KDCT00003   1  50.008     3   3  ...   79     216    88        49     132.0\n",
              "3    KDCT00004   2  50.551    14   4  ...  100     218   136        44     136.0\n",
              "4    KDCT00005   1  49.581     8   2  ...   92     186    61        33     118.0\n",
              "..         ...  ..     ...   ...  ..  ...  ...     ...   ...       ...       ...\n",
              "495  KDCT00496   1  50.682     3   5  ...   71     190    75        73     101.0\n",
              "496  KDCT00497   2  42.542     3   5  ...   74     246    86       104     117.0\n",
              "497  KDCT00498   1  48.797     7   5  ...  125     246   220        74     154.0\n",
              "498  KDCT00499   1  51.263     7   4  ...   85     172   127        49     109.0\n",
              "499  KDCT00500   2  53.767     5   3  ...   84     279   157        84     171.0\n",
              "\n",
              "[500 rows x 73 columns]"
            ]
          },
          "metadata": {
            "tags": []
          },
          "execution_count": 87
        }
      ]
    },
    {
      "cell_type": "code",
      "metadata": {
        "id": "0d9Xa7pQxCc4",
        "colab_type": "code",
        "colab": {}
      },
      "source": [
        ""
      ],
      "execution_count": null,
      "outputs": []
    }
  ]
}