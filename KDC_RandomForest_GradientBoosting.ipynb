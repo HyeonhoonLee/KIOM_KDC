{
  "nbformat": 4,
  "nbformat_minor": 0,
  "metadata": {
    "colab": {
      "name": "KDC_RandomForest_GradientBoosting.ipynb",
      "provenance": [],
      "collapsed_sections": [],
      "toc_visible": true,
      "mount_file_id": "1PBSB85q6fGy5j9H5QPM2jS9hhQYlXLOF",
      "authorship_tag": "ABX9TyNDTUD7u3roYTE0UNMecWpQ",
      "include_colab_link": true
    },
    "kernelspec": {
      "name": "python3",
      "display_name": "Python 3"
    },
    "accelerator": "GPU"
  },
  "cells": [
    {
      "cell_type": "markdown",
      "metadata": {
        "id": "view-in-github",
        "colab_type": "text"
      },
      "source": [
        "<a href=\"https://colab.research.google.com/github/HyeonhoonLee/KIOM_KDC/blob/master/KDC_RandomForest_GradientBoosting.ipynb\" target=\"_parent\"><img src=\"https://colab.research.google.com/assets/colab-badge.svg\" alt=\"Open In Colab\"/></a>"
      ]
    },
    {
      "cell_type": "markdown",
      "metadata": {
        "id": "KfySr4tmy-Fp",
        "colab_type": "text"
      },
      "source": [
        "#KIOM 한의임상정보은행 data 분석하기"
      ]
    },
    {
      "cell_type": "markdown",
      "metadata": {
        "id": "xL3NjWdMzSes",
        "colab_type": "text"
      },
      "source": [
        "일단 데이터를 추출해서 상관분석을 전부 돌려보자."
      ]
    },
    {
      "cell_type": "markdown",
      "metadata": {
        "id": "Qa_ie4wOzWKO",
        "colab_type": "text"
      },
      "source": [
        "# 라이브러리 로드"
      ]
    },
    {
      "cell_type": "code",
      "metadata": {
        "id": "EwRzY8iYzViA",
        "colab_type": "code",
        "colab": {
          "base_uri": "https://localhost:8080/",
          "height": 71
        },
        "outputId": "bfb6f318-fd58-4c15-ba0e-9b41f248eddf"
      },
      "source": [
        "# 분석에 사용할 pandas, 수치계산에 사용할 numpy, 시각화에 사용할 seaborn 을 불러옵니다.\n",
        "# 또, 구 버전의 주피터 노트북에서는 %matplotlib inline 설정을 되어야 노트북 안에서 그래프를 시각화 합니다.\n",
        "\n",
        "import pandas as pd\n",
        "import numpy as np\n",
        "import seaborn as sns\n",
        "import matplotlib.pyplot as plt\n",
        "\n",
        "%matplotlib inline"
      ],
      "execution_count": 1,
      "outputs": [
        {
          "output_type": "stream",
          "text": [
            "/usr/local/lib/python3.6/dist-packages/statsmodels/tools/_testing.py:19: FutureWarning: pandas.util.testing is deprecated. Use the functions in the public API at pandas.testing instead.\n",
            "  import pandas.util.testing as tm\n"
          ],
          "name": "stderr"
        }
      ]
    },
    {
      "cell_type": "markdown",
      "metadata": {
        "id": "f8637B8jz4Cf",
        "colab_type": "text"
      },
      "source": [
        "#한글 폰트 설정"
      ]
    },
    {
      "cell_type": "code",
      "metadata": {
        "id": "MuCE-WRyz3Zb",
        "colab_type": "code",
        "colab": {
          "base_uri": "https://localhost:8080/",
          "height": 68
        },
        "outputId": "1a63b43a-b784-453a-965d-67bbdab6d520"
      },
      "source": [
        "# Google Colab 사용 시 아래 주석을 풀고 폰트설정을 합니다.\n",
        "# 로컬 아나콘다 사용 시에는 그대로 주석처리 해놓으시면 됩니다.\n",
        "# 나눔고딕 설치\n",
        "# 이 코드를 사용시 아래에 있는 폰트를 로드할 경우 colab에서는 오류가 발생하니\n",
        "# 아래에 있는 폰트 설정은 꼭 주석처리를 해주세요. \n",
        "!apt -qq -y install fonts-nanum > /dev/null\n",
        "\n",
        "import matplotlib.font_manager as fm\n",
        "\n",
        "fontpath = '/usr/share/fonts/truetype/nanum/NanumGothic.ttf'\n",
        "font = fm.FontProperties(fname=fontpath, size=9)\n",
        "\n",
        "fm._rebuild()\n",
        "\n",
        "# Colab 의 한글 폰트 설정\n",
        "plt.rc('font', family='NanumGothic') \n",
        "# 마이너스 폰트 깨지는 문제에 대한 대처\n",
        "plt.rc(\"axes\", unicode_minus=False)"
      ],
      "execution_count": 2,
      "outputs": [
        {
          "output_type": "stream",
          "text": [
            "\n",
            "WARNING: apt does not have a stable CLI interface. Use with caution in scripts.\n",
            "\n"
          ],
          "name": "stdout"
        }
      ]
    },
    {
      "cell_type": "code",
      "metadata": {
        "id": "Y3Vgi7uv0JY8",
        "colab_type": "code",
        "colab": {}
      },
      "source": [
        "# 레티나 설정을 해주면 글씨가 좀 더 선명하게 보입니다.\n",
        "# 폰트의 주변이 흐릿하게 보이는 것을 방지합니다.\n",
        "%config InlineBackend.figure_format = 'retina'"
      ],
      "execution_count": 3,
      "outputs": []
    },
    {
      "cell_type": "markdown",
      "metadata": {
        "id": "vvJsc7_L0SmJ",
        "colab_type": "text"
      },
      "source": [
        "#데이터 불러오기"
      ]
    },
    {
      "cell_type": "markdown",
      "metadata": {
        "id": "zW1fFVyF0adL",
        "colab_type": "text"
      },
      "source": [
        "- 데이터 로드 주소: https://www.data.go.kr/data/3072201/fileData.do\n",
        "- 임상정보은행 사이트에서 상세이용방법 확인가능 (https://kdc.kiom.re.kr/html/?pmode=subpage&MMC_pid=200&spSeq=22)"
      ]
    },
    {
      "cell_type": "code",
      "metadata": {
        "id": "2vBVJzbB0R1v",
        "colab_type": "code",
        "colab": {
          "base_uri": "https://localhost:8080/",
          "height": 34
        },
        "outputId": "ac7e7a7c-3279-4943-9499-394b61df10d6"
      },
      "source": [
        "# 다운로드 받은 파일을 판다스의 read_csv 를 통해 읽어옵니다.\n",
        "# 파일을 읽어온 후 shape 로 행과 열의 수를 출력합니다.\n",
        "\n",
        "##새로만든 csv에는 인코딩을 따로 지정하지 않아도된다.\n",
        "df = pd.read_csv(\"/content/drive/My Drive/DataCollection/KIOM_KDC/data/KDC_feature.csv\")\n",
        "df.shape"
      ],
      "execution_count": 4,
      "outputs": [
        {
          "output_type": "execute_result",
          "data": {
            "text/plain": [
              "(500, 82)"
            ]
          },
          "metadata": {
            "tags": []
          },
          "execution_count": 4
        }
      ]
    },
    {
      "cell_type": "code",
      "metadata": {
        "id": "eoa2FXhjzx4F",
        "colab_type": "code",
        "colab": {
          "base_uri": "https://localhost:8080/",
          "height": 457
        },
        "outputId": "1edde6a9-8542-4e5b-81e2-b6b7980fab78"
      },
      "source": [
        "# sample, head, tail을 통해 데이터를 미리보기 합니다.\n",
        "df.head()"
      ],
      "execution_count": 5,
      "outputs": [
        {
          "output_type": "execute_result",
          "data": {
            "text/html": [
              "<div>\n",
              "<style scoped>\n",
              "    .dataframe tbody tr th:only-of-type {\n",
              "        vertical-align: middle;\n",
              "    }\n",
              "\n",
              "    .dataframe tbody tr th {\n",
              "        vertical-align: top;\n",
              "    }\n",
              "\n",
              "    .dataframe thead th {\n",
              "        text-align: right;\n",
              "    }\n",
              "</style>\n",
              "<table border=\"1\" class=\"dataframe\">\n",
              "  <thead>\n",
              "    <tr style=\"text-align: right;\">\n",
              "      <th></th>\n",
              "      <th>대상자식별코드</th>\n",
              "      <th>성별</th>\n",
              "      <th>만나이</th>\n",
              "      <th>직업분류</th>\n",
              "      <th>학력</th>\n",
              "      <th>결혼유무</th>\n",
              "      <th>성격_대범_섬세</th>\n",
              "      <th>성격_행동빠름_행동느림</th>\n",
              "      <th>성격_적극_소극</th>\n",
              "      <th>성격_직접_간접</th>\n",
              "      <th>성격_포기빠름_포기느림</th>\n",
              "      <th>성격_외향_내성</th>\n",
              "      <th>성격_동적_정적</th>\n",
              "      <th>성격_쉽게_어렵게</th>\n",
              "      <th>성격_남성적_여성적</th>\n",
              "      <th>성격_참을성부족_잘찾음</th>\n",
              "      <th>성격_큰편_적은편</th>\n",
              "      <th>성격_잘드러냄_안드러냄</th>\n",
              "      <th>성격_잘표현_표현안하는편</th>\n",
              "      <th>성격_가끔흥분_이성적</th>\n",
              "      <th>성격_덜렁_꼼꼼</th>\n",
              "      <th>식사량</th>\n",
              "      <th>식사속도</th>\n",
              "      <th>소화여부</th>\n",
              "      <th>소화입맛</th>\n",
              "      <th>땀정도</th>\n",
              "      <th>땀기분</th>\n",
              "      <th>대변습관</th>\n",
              "      <th>대변굳기</th>\n",
              "      <th>배변시긴박감</th>\n",
              "      <th>배변후잔변감</th>\n",
              "      <th>소변야간뇨</th>\n",
              "      <th>한열민감도</th>\n",
              "      <th>한열손부위</th>\n",
              "      <th>한열발부위</th>\n",
              "      <th>한열배부위</th>\n",
              "      <th>음수정도</th>\n",
              "      <th>음수온다</th>\n",
              "      <th>한열점수</th>\n",
              "      <th>한열그룹</th>\n",
              "      <th>...</th>\n",
              "      <th>고지혈증_진단</th>\n",
              "      <th>일반건강</th>\n",
              "      <th>수면시간(시간)</th>\n",
              "      <th>수면시간(분)</th>\n",
              "      <th>피로정도</th>\n",
              "      <th>피로_기상시</th>\n",
              "      <th>피로_오전</th>\n",
              "      <th>피로_오후</th>\n",
              "      <th>피로_밤</th>\n",
              "      <th>피로_하루종일</th>\n",
              "      <th>한의사체질진단</th>\n",
              "      <th>키</th>\n",
              "      <th>몸무게</th>\n",
              "      <th>BMI</th>\n",
              "      <th>이마둘레</th>\n",
              "      <th>목둘레</th>\n",
              "      <th>겨드랑이둘레</th>\n",
              "      <th>가슴둘레</th>\n",
              "      <th>늑골둘레</th>\n",
              "      <th>허리둘레</th>\n",
              "      <th>장골둘레</th>\n",
              "      <th>곡골둘레</th>\n",
              "      <th>수축기혈합</th>\n",
              "      <th>이완기혈압</th>\n",
              "      <th>혈당</th>\n",
              "      <th>총콜레스테롤</th>\n",
              "      <th>중성지방</th>\n",
              "      <th>고밀도콜레스테롤</th>\n",
              "      <th>저밀도콜레스테롤</th>\n",
              "      <th>수면시간(시간)_부족</th>\n",
              "      <th>늑골둘레_low</th>\n",
              "      <th>늑골둘레_middle</th>\n",
              "      <th>늑골둘레_high</th>\n",
              "      <th>혈당_nan</th>\n",
              "      <th>총콜레스테롤_nan</th>\n",
              "      <th>중성지방_nan</th>\n",
              "      <th>고밀도콜레스테롤_nan</th>\n",
              "      <th>저밀도콜레스테롤_nan</th>\n",
              "      <th>혈당_log</th>\n",
              "      <th>중성지방_log</th>\n",
              "    </tr>\n",
              "  </thead>\n",
              "  <tbody>\n",
              "    <tr>\n",
              "      <th>0</th>\n",
              "      <td>KDCT00001</td>\n",
              "      <td>2</td>\n",
              "      <td>0.036746</td>\n",
              "      <td>2</td>\n",
              "      <td>5</td>\n",
              "      <td>2</td>\n",
              "      <td>2</td>\n",
              "      <td>2</td>\n",
              "      <td>1</td>\n",
              "      <td>2</td>\n",
              "      <td>1</td>\n",
              "      <td>1</td>\n",
              "      <td>1.0</td>\n",
              "      <td>2.0</td>\n",
              "      <td>2</td>\n",
              "      <td>3</td>\n",
              "      <td>2</td>\n",
              "      <td>2</td>\n",
              "      <td>2</td>\n",
              "      <td>1</td>\n",
              "      <td>1</td>\n",
              "      <td>2.000000</td>\n",
              "      <td>2.0</td>\n",
              "      <td>1</td>\n",
              "      <td>3</td>\n",
              "      <td>3</td>\n",
              "      <td>1.0</td>\n",
              "      <td>1</td>\n",
              "      <td>2</td>\n",
              "      <td>2.490637</td>\n",
              "      <td>2.314607</td>\n",
              "      <td>1.0</td>\n",
              "      <td>1</td>\n",
              "      <td>2</td>\n",
              "      <td>2</td>\n",
              "      <td>2</td>\n",
              "      <td>2.0</td>\n",
              "      <td>2</td>\n",
              "      <td>12.0</td>\n",
              "      <td>2.0</td>\n",
              "      <td>...</td>\n",
              "      <td>1</td>\n",
              "      <td>3.0</td>\n",
              "      <td>5</td>\n",
              "      <td>0</td>\n",
              "      <td>2</td>\n",
              "      <td>0</td>\n",
              "      <td>0</td>\n",
              "      <td>0</td>\n",
              "      <td>1</td>\n",
              "      <td>0</td>\n",
              "      <td>2</td>\n",
              "      <td>-0.372588</td>\n",
              "      <td>-0.551481</td>\n",
              "      <td>-0.421862</td>\n",
              "      <td>-1.411128</td>\n",
              "      <td>-0.532671</td>\n",
              "      <td>0.266128</td>\n",
              "      <td>0.606435</td>\n",
              "      <td>89.0</td>\n",
              "      <td>-0.140773</td>\n",
              "      <td>0.167260</td>\n",
              "      <td>0.414628</td>\n",
              "      <td>0.017181</td>\n",
              "      <td>0.342702</td>\n",
              "      <td>0.220807</td>\n",
              "      <td>0.964152</td>\n",
              "      <td>-0.652711</td>\n",
              "      <td>0.941597</td>\n",
              "      <td>0.672927</td>\n",
              "      <td>1.542199</td>\n",
              "      <td>-0.376235</td>\n",
              "      <td>-1.040833</td>\n",
              "      <td>1.344987</td>\n",
              "      <td>0.219656</td>\n",
              "      <td>0.963293</td>\n",
              "      <td>-0.652738</td>\n",
              "      <td>0.937537</td>\n",
              "      <td>0.671852</td>\n",
              "      <td>4.653960</td>\n",
              "      <td>4.290459</td>\n",
              "    </tr>\n",
              "    <tr>\n",
              "      <th>1</th>\n",
              "      <td>KDCT00002</td>\n",
              "      <td>2</td>\n",
              "      <td>2.013834</td>\n",
              "      <td>14</td>\n",
              "      <td>3</td>\n",
              "      <td>2</td>\n",
              "      <td>1</td>\n",
              "      <td>1</td>\n",
              "      <td>1</td>\n",
              "      <td>1</td>\n",
              "      <td>1</td>\n",
              "      <td>1</td>\n",
              "      <td>1.0</td>\n",
              "      <td>2.0</td>\n",
              "      <td>1</td>\n",
              "      <td>3</td>\n",
              "      <td>1</td>\n",
              "      <td>1</td>\n",
              "      <td>1</td>\n",
              "      <td>1</td>\n",
              "      <td>3</td>\n",
              "      <td>2.000000</td>\n",
              "      <td>2.0</td>\n",
              "      <td>1</td>\n",
              "      <td>3</td>\n",
              "      <td>1</td>\n",
              "      <td>2.0</td>\n",
              "      <td>1</td>\n",
              "      <td>2</td>\n",
              "      <td>2.490637</td>\n",
              "      <td>2.314607</td>\n",
              "      <td>1.0</td>\n",
              "      <td>2</td>\n",
              "      <td>2</td>\n",
              "      <td>2</td>\n",
              "      <td>2</td>\n",
              "      <td>2.0</td>\n",
              "      <td>3</td>\n",
              "      <td>13.0</td>\n",
              "      <td>3.0</td>\n",
              "      <td>...</td>\n",
              "      <td>1</td>\n",
              "      <td>3.0</td>\n",
              "      <td>5</td>\n",
              "      <td>0</td>\n",
              "      <td>4</td>\n",
              "      <td>0</td>\n",
              "      <td>0</td>\n",
              "      <td>1</td>\n",
              "      <td>0</td>\n",
              "      <td>0</td>\n",
              "      <td>3</td>\n",
              "      <td>-0.748940</td>\n",
              "      <td>0.221659</td>\n",
              "      <td>0.869741</td>\n",
              "      <td>1.713833</td>\n",
              "      <td>0.077630</td>\n",
              "      <td>0.774588</td>\n",
              "      <td>1.211515</td>\n",
              "      <td>93.0</td>\n",
              "      <td>0.909300</td>\n",
              "      <td>0.814851</td>\n",
              "      <td>0.871402</td>\n",
              "      <td>0.267996</td>\n",
              "      <td>-1.005102</td>\n",
              "      <td>0.453146</td>\n",
              "      <td>0.376917</td>\n",
              "      <td>-0.343301</td>\n",
              "      <td>-0.196630</td>\n",
              "      <td>0.210896</td>\n",
              "      <td>1.542199</td>\n",
              "      <td>-0.376235</td>\n",
              "      <td>-1.040833</td>\n",
              "      <td>1.344987</td>\n",
              "      <td>0.451957</td>\n",
              "      <td>0.376095</td>\n",
              "      <td>-0.343379</td>\n",
              "      <td>-0.199521</td>\n",
              "      <td>0.209862</td>\n",
              "      <td>4.709530</td>\n",
              "      <td>4.584967</td>\n",
              "    </tr>\n",
              "    <tr>\n",
              "      <th>2</th>\n",
              "      <td>KDCT00003</td>\n",
              "      <td>1</td>\n",
              "      <td>0.119384</td>\n",
              "      <td>3</td>\n",
              "      <td>3</td>\n",
              "      <td>2</td>\n",
              "      <td>3</td>\n",
              "      <td>1</td>\n",
              "      <td>1</td>\n",
              "      <td>1</td>\n",
              "      <td>1</td>\n",
              "      <td>1</td>\n",
              "      <td>1.0</td>\n",
              "      <td>1.0</td>\n",
              "      <td>1</td>\n",
              "      <td>2</td>\n",
              "      <td>1</td>\n",
              "      <td>1</td>\n",
              "      <td>1</td>\n",
              "      <td>1</td>\n",
              "      <td>3</td>\n",
              "      <td>3.000000</td>\n",
              "      <td>2.0</td>\n",
              "      <td>3</td>\n",
              "      <td>2</td>\n",
              "      <td>3</td>\n",
              "      <td>1.0</td>\n",
              "      <td>1</td>\n",
              "      <td>2</td>\n",
              "      <td>2.490637</td>\n",
              "      <td>2.314607</td>\n",
              "      <td>1.0</td>\n",
              "      <td>3</td>\n",
              "      <td>2</td>\n",
              "      <td>3</td>\n",
              "      <td>2</td>\n",
              "      <td>2.0</td>\n",
              "      <td>2</td>\n",
              "      <td>12.0</td>\n",
              "      <td>2.0</td>\n",
              "      <td>...</td>\n",
              "      <td>1</td>\n",
              "      <td>3.0</td>\n",
              "      <td>7</td>\n",
              "      <td>0</td>\n",
              "      <td>2</td>\n",
              "      <td>0</td>\n",
              "      <td>0</td>\n",
              "      <td>1</td>\n",
              "      <td>0</td>\n",
              "      <td>0</td>\n",
              "      <td>2</td>\n",
              "      <td>-0.121687</td>\n",
              "      <td>-0.164911</td>\n",
              "      <td>-0.114338</td>\n",
              "      <td>0.672179</td>\n",
              "      <td>0.687931</td>\n",
              "      <td>0.647473</td>\n",
              "      <td>-0.119661</td>\n",
              "      <td>83.0</td>\n",
              "      <td>-0.350787</td>\n",
              "      <td>-1.127923</td>\n",
              "      <td>-1.869239</td>\n",
              "      <td>0.079885</td>\n",
              "      <td>-0.106566</td>\n",
              "      <td>-0.747269</td>\n",
              "      <td>0.876066</td>\n",
              "      <td>-0.454689</td>\n",
              "      <td>0.047276</td>\n",
              "      <td>0.804936</td>\n",
              "      <td>-0.648425</td>\n",
              "      <td>-0.376235</td>\n",
              "      <td>0.960769</td>\n",
              "      <td>-0.743502</td>\n",
              "      <td>-0.748265</td>\n",
              "      <td>0.875213</td>\n",
              "      <td>-0.454748</td>\n",
              "      <td>0.044134</td>\n",
              "      <td>0.803849</td>\n",
              "      <td>4.382027</td>\n",
              "      <td>4.488636</td>\n",
              "    </tr>\n",
              "    <tr>\n",
              "      <th>3</th>\n",
              "      <td>KDCT00004</td>\n",
              "      <td>2</td>\n",
              "      <td>0.152821</td>\n",
              "      <td>14</td>\n",
              "      <td>4</td>\n",
              "      <td>2</td>\n",
              "      <td>1</td>\n",
              "      <td>1</td>\n",
              "      <td>1</td>\n",
              "      <td>1</td>\n",
              "      <td>1</td>\n",
              "      <td>1</td>\n",
              "      <td>1.0</td>\n",
              "      <td>2.0</td>\n",
              "      <td>1</td>\n",
              "      <td>1</td>\n",
              "      <td>1</td>\n",
              "      <td>2</td>\n",
              "      <td>1</td>\n",
              "      <td>1</td>\n",
              "      <td>2</td>\n",
              "      <td>2.078385</td>\n",
              "      <td>1.0</td>\n",
              "      <td>3</td>\n",
              "      <td>2</td>\n",
              "      <td>2</td>\n",
              "      <td>3.0</td>\n",
              "      <td>2</td>\n",
              "      <td>2</td>\n",
              "      <td>2.490637</td>\n",
              "      <td>2.314607</td>\n",
              "      <td>1.0</td>\n",
              "      <td>2</td>\n",
              "      <td>2</td>\n",
              "      <td>2</td>\n",
              "      <td>2</td>\n",
              "      <td>1.0</td>\n",
              "      <td>2</td>\n",
              "      <td>15.0</td>\n",
              "      <td>3.0</td>\n",
              "      <td>...</td>\n",
              "      <td>1</td>\n",
              "      <td>4.0</td>\n",
              "      <td>7</td>\n",
              "      <td>0</td>\n",
              "      <td>4</td>\n",
              "      <td>0</td>\n",
              "      <td>0</td>\n",
              "      <td>1</td>\n",
              "      <td>0</td>\n",
              "      <td>0</td>\n",
              "      <td>2</td>\n",
              "      <td>0.505566</td>\n",
              "      <td>1.478013</td>\n",
              "      <td>1.392533</td>\n",
              "      <td>1.713833</td>\n",
              "      <td>0.687931</td>\n",
              "      <td>1.283048</td>\n",
              "      <td>1.574564</td>\n",
              "      <td>90.0</td>\n",
              "      <td>0.804292</td>\n",
              "      <td>0.555815</td>\n",
              "      <td>0.871402</td>\n",
              "      <td>-0.421745</td>\n",
              "      <td>0.432555</td>\n",
              "      <td>0.065915</td>\n",
              "      <td>0.934790</td>\n",
              "      <td>0.139377</td>\n",
              "      <td>-0.359233</td>\n",
              "      <td>0.936945</td>\n",
              "      <td>-0.648425</td>\n",
              "      <td>-0.376235</td>\n",
              "      <td>-1.040833</td>\n",
              "      <td>1.344987</td>\n",
              "      <td>0.064789</td>\n",
              "      <td>0.933933</td>\n",
              "      <td>0.139222</td>\n",
              "      <td>-0.361958</td>\n",
              "      <td>0.935846</td>\n",
              "      <td>4.615121</td>\n",
              "      <td>4.919981</td>\n",
              "    </tr>\n",
              "    <tr>\n",
              "      <th>4</th>\n",
              "      <td>KDCT00005</td>\n",
              "      <td>1</td>\n",
              "      <td>0.093090</td>\n",
              "      <td>8</td>\n",
              "      <td>2</td>\n",
              "      <td>2</td>\n",
              "      <td>3</td>\n",
              "      <td>2</td>\n",
              "      <td>3</td>\n",
              "      <td>2</td>\n",
              "      <td>2</td>\n",
              "      <td>3</td>\n",
              "      <td>2.0</td>\n",
              "      <td>2.0</td>\n",
              "      <td>2</td>\n",
              "      <td>3</td>\n",
              "      <td>3</td>\n",
              "      <td>2</td>\n",
              "      <td>2</td>\n",
              "      <td>2</td>\n",
              "      <td>1</td>\n",
              "      <td>2.000000</td>\n",
              "      <td>1.0</td>\n",
              "      <td>1</td>\n",
              "      <td>3</td>\n",
              "      <td>1</td>\n",
              "      <td>2.0</td>\n",
              "      <td>1</td>\n",
              "      <td>2</td>\n",
              "      <td>2.490637</td>\n",
              "      <td>2.314607</td>\n",
              "      <td>0.0</td>\n",
              "      <td>1</td>\n",
              "      <td>3</td>\n",
              "      <td>3</td>\n",
              "      <td>2</td>\n",
              "      <td>1.0</td>\n",
              "      <td>2</td>\n",
              "      <td>11.0</td>\n",
              "      <td>2.0</td>\n",
              "      <td>...</td>\n",
              "      <td>1</td>\n",
              "      <td>2.0</td>\n",
              "      <td>5</td>\n",
              "      <td>0</td>\n",
              "      <td>4</td>\n",
              "      <td>0</td>\n",
              "      <td>0</td>\n",
              "      <td>1</td>\n",
              "      <td>0</td>\n",
              "      <td>0</td>\n",
              "      <td>1</td>\n",
              "      <td>0.505566</td>\n",
              "      <td>0.898158</td>\n",
              "      <td>0.715979</td>\n",
              "      <td>2.234660</td>\n",
              "      <td>1.603383</td>\n",
              "      <td>2.045738</td>\n",
              "      <td>1.332531</td>\n",
              "      <td>99.0</td>\n",
              "      <td>1.539343</td>\n",
              "      <td>1.073888</td>\n",
              "      <td>1.023660</td>\n",
              "      <td>0.581515</td>\n",
              "      <td>-0.376127</td>\n",
              "      <td>-0.243870</td>\n",
              "      <td>-0.004785</td>\n",
              "      <td>-0.788851</td>\n",
              "      <td>-1.253554</td>\n",
              "      <td>0.342905</td>\n",
              "      <td>1.542199</td>\n",
              "      <td>-0.376235</td>\n",
              "      <td>-1.040833</td>\n",
              "      <td>1.344987</td>\n",
              "      <td>-0.244946</td>\n",
              "      <td>-0.005584</td>\n",
              "      <td>-0.788856</td>\n",
              "      <td>-1.255361</td>\n",
              "      <td>0.341859</td>\n",
              "      <td>4.532599</td>\n",
              "      <td>4.127134</td>\n",
              "    </tr>\n",
              "  </tbody>\n",
              "</table>\n",
              "<p>5 rows × 82 columns</p>\n",
              "</div>"
            ],
            "text/plain": [
              "     대상자식별코드  성별       만나이  ...  저밀도콜레스테롤_nan    혈당_log  중성지방_log\n",
              "0  KDCT00001   2  0.036746  ...      0.671852  4.653960  4.290459\n",
              "1  KDCT00002   2  2.013834  ...      0.209862  4.709530  4.584967\n",
              "2  KDCT00003   1  0.119384  ...      0.803849  4.382027  4.488636\n",
              "3  KDCT00004   2  0.152821  ...      0.935846  4.615121  4.919981\n",
              "4  KDCT00005   1  0.093090  ...      0.341859  4.532599  4.127134\n",
              "\n",
              "[5 rows x 82 columns]"
            ]
          },
          "metadata": {
            "tags": []
          },
          "execution_count": 5
        }
      ]
    },
    {
      "cell_type": "markdown",
      "metadata": {
        "id": "MriYZbDiN63v",
        "colab_type": "text"
      },
      "source": [
        "# 학습과 예측에 사용할 데이터셋 만들기"
      ]
    },
    {
      "cell_type": "code",
      "metadata": {
        "id": "wPzxcRfLN63v",
        "colab_type": "code",
        "colab": {
          "base_uri": "https://localhost:8080/",
          "height": 255
        },
        "outputId": "ed4f3a97-6eb4-47e5-cc04-9fbd89f1d34f"
      },
      "source": [
        "df.columns"
      ],
      "execution_count": 6,
      "outputs": [
        {
          "output_type": "execute_result",
          "data": {
            "text/plain": [
              "Index(['대상자식별코드', '성별', '만나이', '직업분류', '학력', '결혼유무', '성격_대범_섬세',\n",
              "       '성격_행동빠름_행동느림', '성격_적극_소극', '성격_직접_간접', '성격_포기빠름_포기느림', '성격_외향_내성',\n",
              "       '성격_동적_정적', '성격_쉽게_어렵게', '성격_남성적_여성적', '성격_참을성부족_잘찾음', '성격_큰편_적은편',\n",
              "       '성격_잘드러냄_안드러냄', '성격_잘표현_표현안하는편', '성격_가끔흥분_이성적', '성격_덜렁_꼼꼼', '식사량',\n",
              "       '식사속도', '소화여부', '소화입맛', '땀정도', '땀기분', '대변습관', '대변굳기', '배변시긴박감',\n",
              "       '배변후잔변감', '소변야간뇨', '한열민감도', '한열손부위', '한열발부위', '한열배부위', '음수정도', '음수온다',\n",
              "       '한열점수', '한열그룹', '고혈압_진단', '당뇨_진단', '고지혈증_진단', '일반건강', '수면시간(시간)',\n",
              "       '수면시간(분)', '피로정도', '피로_기상시', '피로_오전', '피로_오후', '피로_밤', '피로_하루종일',\n",
              "       '한의사체질진단', '키', '몸무게', 'BMI', '이마둘레', '목둘레', '겨드랑이둘레', '가슴둘레', '늑골둘레',\n",
              "       '허리둘레', '장골둘레', '곡골둘레', '수축기혈합', '이완기혈압', '혈당', '총콜레스테롤', '중성지방',\n",
              "       '고밀도콜레스테롤', '저밀도콜레스테롤', '수면시간(시간)_부족', '늑골둘레_low', '늑골둘레_middle',\n",
              "       '늑골둘레_high', '혈당_nan', '총콜레스테롤_nan', '중성지방_nan', '고밀도콜레스테롤_nan',\n",
              "       '저밀도콜레스테롤_nan', '혈당_log', '중성지방_log'],\n",
              "      dtype='object')"
            ]
          },
          "metadata": {
            "tags": []
          },
          "execution_count": 6
        }
      ]
    },
    {
      "cell_type": "code",
      "metadata": {
        "id": "8Jj7o62GN63z",
        "colab_type": "code",
        "colab": {
          "base_uri": "https://localhost:8080/",
          "height": 34
        },
        "outputId": "7d4ed5d3-e9b0-4a74-8e4a-5cf650e6d33c"
      },
      "source": [
        "# 이 중 feature engineeringd에서 score가 괜찮았던 것만 고른다.\n",
        "# 즉, train에 사용할 column명만 가져온다.\n",
        "X = df[['성별', '만나이', '직업분류', '학력', '결혼유무', '성격_대범_섬세',\n",
        "       '성격_행동빠름_행동느림', '성격_적극_소극', '성격_직접_간접', '성격_포기빠름_포기느림', '성격_외향_내성',\n",
        "       '성격_동적_정적', '성격_쉽게_어렵게', '성격_남성적_여성적', '성격_참을성부족_잘찾음', '성격_큰편_적은편',\n",
        "       '성격_잘드러냄_안드러냄', '성격_잘표현_표현안하는편', '성격_가끔흥분_이성적', '성격_덜렁_꼼꼼', '식사량',\n",
        "       '식사속도', '소화여부', '소화입맛', '땀정도', '땀기분', '대변습관', '대변굳기', '배변시긴박감',\n",
        "       '배변후잔변감', '소변야간뇨', '한열민감도', '한열손부위', '한열발부위', '한열배부위', '음수정도', '음수온다',\n",
        "       '한열점수', '한열그룹', '고혈압_진단', '당뇨_진단', '고지혈증_진단', '일반건강', '피로정도', '피로_기상시', \n",
        "       '피로_오전', '피로_오후', '피로_밤', '피로_하루종일','키', '몸무게', 'BMI', '이마둘레', '목둘레', '겨드랑이둘레', \n",
        "       '가슴둘레','허리둘레', '장골둘레', '곡골둘레', '수축기혈합', '이완기혈압', '수면시간(시간)_부족', '늑골둘레_low', \n",
        "       '늑골둘레_middle', '늑골둘레_high', '총콜레스테롤_nan', '중성지방_nan', '고밀도콜레스테롤_nan',\n",
        "       '저밀도콜레스테롤_nan', '혈당_log', '중성지방_log']]\n",
        "X.shape"
      ],
      "execution_count": 7,
      "outputs": [
        {
          "output_type": "execute_result",
          "data": {
            "text/plain": [
              "(500, 71)"
            ]
          },
          "metadata": {
            "tags": []
          },
          "execution_count": 7
        }
      ]
    },
    {
      "cell_type": "code",
      "metadata": {
        "id": "yoQdQKAAN631",
        "colab_type": "code",
        "colab": {
          "base_uri": "https://localhost:8080/",
          "height": 34
        },
        "outputId": "57556542-d15c-4ab7-df23-7fb9b5ff59c2"
      },
      "source": [
        "y = df['한의사체질진단']\n",
        "y.shape"
      ],
      "execution_count": 8,
      "outputs": [
        {
          "output_type": "execute_result",
          "data": {
            "text/plain": [
              "(500,)"
            ]
          },
          "metadata": {
            "tags": []
          },
          "execution_count": 8
        }
      ]
    },
    {
      "cell_type": "code",
      "metadata": {
        "id": "WVwLkhx1N634",
        "colab_type": "code",
        "colab": {}
      },
      "source": [
        "# 사이킷런에서 제공하는 model_selection 의 train_test_split 으로 만듭니다.\n",
        "\n",
        "from sklearn.model_selection import train_test_split\n",
        "\n",
        "X_train, X_test, y_train, y_test = train_test_split(\n",
        "    X, y, test_size=0.2, random_state=42)"
      ],
      "execution_count": 9,
      "outputs": []
    },
    {
      "cell_type": "code",
      "metadata": {
        "id": "pXC-_Ho8N638",
        "colab_type": "code",
        "colab": {
          "base_uri": "https://localhost:8080/",
          "height": 34
        },
        "outputId": "39e84640-9a79-4070-ad22-a175b42d8165"
      },
      "source": [
        "# train 세트의 문제와 정답의 데이터 수를 확인해 주세요.\n",
        "\n",
        "X_train.shape, y_train.shape"
      ],
      "execution_count": 10,
      "outputs": [
        {
          "output_type": "execute_result",
          "data": {
            "text/plain": [
              "((400, 71), (400,))"
            ]
          },
          "metadata": {
            "tags": []
          },
          "execution_count": 10
        }
      ]
    },
    {
      "cell_type": "code",
      "metadata": {
        "id": "xddTenOpN63_",
        "colab_type": "code",
        "colab": {
          "base_uri": "https://localhost:8080/",
          "height": 34
        },
        "outputId": "fce57e67-391e-4de6-9ccd-983c7dd58f2a"
      },
      "source": [
        "# test 세트의 문제와 정답의 데이터 수를 확인해 주세요.\n",
        "\n",
        "X_test.shape, y_test.shape"
      ],
      "execution_count": 11,
      "outputs": [
        {
          "output_type": "execute_result",
          "data": {
            "text/plain": [
              "((100, 71), (100,))"
            ]
          },
          "metadata": {
            "tags": []
          },
          "execution_count": 11
        }
      ]
    },
    {
      "cell_type": "markdown",
      "metadata": {
        "id": "zcn42TdJ2BDT",
        "colab_type": "text"
      },
      "source": [
        "# 머신러닝 알고리즘 사용하기\n",
        "* [결정 트리 - 위키백과, 우리 모두의 백과사전](https://ko.wikipedia.org/wiki/%EA%B2%B0%EC%A0%95_%ED%8A%B8%EB%A6%AC)\n",
        "* [결정 트리 학습법 - 위키백과, 우리 모두의 백과사전](https://ko.wikipedia.org/wiki/%EA%B2%B0%EC%A0%95_%ED%8A%B8%EB%A6%AC_%ED%95%99%EC%8A%B5%EB%B2%95)\n",
        "* [랜덤 포레스트 - 위키백과, 우리 모두의 백과사전](https://ko.wikipedia.org/wiki/%EB%9E%9C%EB%8D%A4_%ED%8F%AC%EB%A0%88%EC%8A%A4%ED%8A%B8)\n",
        "* [배깅 - 위키백과, 우리 모두의 백과사전](https://ko.wikipedia.org/wiki/%EB%B0%B0%EA%B9%85)\n",
        "<img src=\"https://upload.wikimedia.org/wikipedia/commons/8/83/0_jW2hAGmYEFH0RP9W.png\">\n",
        "\n",
        "이미지 출처 : https://upload.wikimedia.org/wikipedia/commons/8/83/0_jW2hAGmYEFH0RP9W.png"
      ]
    },
    {
      "cell_type": "markdown",
      "metadata": {
        "id": "FKKtlGVV2BDT",
        "colab_type": "text"
      },
      "source": [
        "###  Single tree"
      ]
    },
    {
      "cell_type": "code",
      "metadata": {
        "id": "MxNdFoD-2BDU",
        "colab_type": "code",
        "colab": {
          "base_uri": "https://localhost:8080/",
          "height": 119
        },
        "outputId": "9118edc9-3320-47fc-fbfa-630a13eed7d4"
      },
      "source": [
        "# Single tree의 장점은 시각화가 용이하다는 것이다. 우리가 직접 그림을 보고 대입해서 분류를 할 수 있다.\n",
        "# 특히, Feature engineering과정에서 필요하므로, single tree를 먼저하고 random forest로 넘어가는 게 좋다.\n",
        "# from sklearn.tree import DecisionTreeClassifier\n",
        "\n",
        "# model = DecisionTreeClassifier(random_state=42)\n",
        "# model"
      ],
      "execution_count": 35,
      "outputs": [
        {
          "output_type": "execute_result",
          "data": {
            "text/plain": [
              "DecisionTreeClassifier(ccp_alpha=0.0, class_weight=None, criterion='gini',\n",
              "                       max_depth=None, max_features=None, max_leaf_nodes=None,\n",
              "                       min_impurity_decrease=0.0, min_impurity_split=None,\n",
              "                       min_samples_leaf=1, min_samples_split=2,\n",
              "                       min_weight_fraction_leaf=0.0, presort='deprecated',\n",
              "                       random_state=42, splitter='best')"
            ]
          },
          "metadata": {
            "tags": []
          },
          "execution_count": 35
        }
      ]
    },
    {
      "cell_type": "markdown",
      "metadata": {
        "id": "kIrjtaJa2BDW",
        "colab_type": "text"
      },
      "source": [
        "### Bagging\n",
        "* Bagging은 Bootstrap aggregating의 준말. 초기 앙상블 방법(한 개 이상의 결정 트리.\n",
        "* 위의 그림과 같이 Super Population에서 sampling하는 과정을 bootstrapping이라고 한다.\n",
        "* 반복적으로 데이터를 교체하는 과정에 따라, 훈련 데이터를 재샘플링하고, 다시 다수의 의사결정트리를 생성해서 학습하므로 overfitting을 줄일 수 있다. "
      ]
    },
    {
      "cell_type": "code",
      "metadata": {
        "id": "DlCveHkm2BDX",
        "colab_type": "code",
        "colab": {
          "base_uri": "https://localhost:8080/",
          "height": 153
        },
        "outputId": "1fef464d-4bf2-475b-8b74-e91183043bd3"
      },
      "source": [
        "# from sklearn.ensemble import RandomForestClassifier\n",
        "\n",
        "# model = RandomForestClassifier(n_estimators=100, random_state=42)\n",
        "# model\n",
        "# #n_estimators는 만드는 tree의 갯수. 현재 버전에서는 기본값이 100개."
      ],
      "execution_count": 39,
      "outputs": [
        {
          "output_type": "execute_result",
          "data": {
            "text/plain": [
              "RandomForestClassifier(bootstrap=True, ccp_alpha=0.0, class_weight=None,\n",
              "                       criterion='gini', max_depth=None, max_features='auto',\n",
              "                       max_leaf_nodes=None, max_samples=None,\n",
              "                       min_impurity_decrease=0.0, min_impurity_split=None,\n",
              "                       min_samples_leaf=1, min_samples_split=2,\n",
              "                       min_weight_fraction_leaf=0.0, n_estimators=100,\n",
              "                       n_jobs=None, oob_score=False, random_state=42, verbose=0,\n",
              "                       warm_start=False)"
            ]
          },
          "metadata": {
            "tags": []
          },
          "execution_count": 39
        }
      ]
    },
    {
      "cell_type": "markdown",
      "metadata": {
        "id": "opieD4oR2BDb",
        "colab_type": "text"
      },
      "source": [
        "### Boosting \n",
        "* https://quantdare.com/what-is-the-difference-between-bagging-and-boosting/\n"
      ]
    },
    {
      "cell_type": "code",
      "metadata": {
        "id": "TaCK8mhI2BDb",
        "colab_type": "code",
        "colab": {
          "base_uri": "https://localhost:8080/",
          "height": 187
        },
        "outputId": "bfdeb1e2-3ee1-4b90-bd15-bd0c06470fd3"
      },
      "source": [
        "# data에 weight를 줘서 sequential하게 Tree를 만든다.\n",
        "\n",
        "from sklearn.ensemble import GradientBoostingClassifier\n",
        "\n",
        "model = GradientBoostingClassifier(random_state=42)\n",
        "model"
      ],
      "execution_count": 47,
      "outputs": [
        {
          "output_type": "execute_result",
          "data": {
            "text/plain": [
              "GradientBoostingClassifier(ccp_alpha=0.0, criterion='friedman_mse', init=None,\n",
              "                           learning_rate=0.1, loss='deviance', max_depth=3,\n",
              "                           max_features=None, max_leaf_nodes=None,\n",
              "                           min_impurity_decrease=0.0, min_impurity_split=None,\n",
              "                           min_samples_leaf=1, min_samples_split=2,\n",
              "                           min_weight_fraction_leaf=0.0, n_estimators=100,\n",
              "                           n_iter_no_change=None, presort='deprecated',\n",
              "                           random_state=42, subsample=1.0, tol=0.0001,\n",
              "                           validation_fraction=0.1, verbose=0,\n",
              "                           warm_start=False)"
            ]
          },
          "metadata": {
            "tags": []
          },
          "execution_count": 47
        }
      ]
    },
    {
      "cell_type": "markdown",
      "metadata": {
        "id": "LavbzbqBN64t",
        "colab_type": "text"
      },
      "source": [
        "# 학습과 예측하기"
      ]
    },
    {
      "cell_type": "code",
      "metadata": {
        "id": "fViiyWkuN64u",
        "colab_type": "code",
        "colab": {
          "base_uri": "https://localhost:8080/",
          "height": 187
        },
        "outputId": "61d54bfa-43b8-4c4f-90ad-eb9080c6b47b"
      },
      "source": [
        "# 학습을 시킵니다.\n",
        "model.fit(X_train, y_train)"
      ],
      "execution_count": 48,
      "outputs": [
        {
          "output_type": "execute_result",
          "data": {
            "text/plain": [
              "GradientBoostingClassifier(ccp_alpha=0.0, criterion='friedman_mse', init=None,\n",
              "                           learning_rate=0.1, loss='deviance', max_depth=3,\n",
              "                           max_features=None, max_leaf_nodes=None,\n",
              "                           min_impurity_decrease=0.0, min_impurity_split=None,\n",
              "                           min_samples_leaf=1, min_samples_split=2,\n",
              "                           min_weight_fraction_leaf=0.0, n_estimators=100,\n",
              "                           n_iter_no_change=None, presort='deprecated',\n",
              "                           random_state=42, subsample=1.0, tol=0.0001,\n",
              "                           validation_fraction=0.1, verbose=0,\n",
              "                           warm_start=False)"
            ]
          },
          "metadata": {
            "tags": []
          },
          "execution_count": 48
        }
      ]
    },
    {
      "cell_type": "code",
      "metadata": {
        "id": "DhQ4NpZ19Jgj",
        "colab_type": "code",
        "colab": {
          "base_uri": "https://localhost:8080/",
          "height": 323
        },
        "outputId": "fa01ef72-9c27-4235-d21f-04f60ca01426"
      },
      "source": [
        "# Random Forest 모델의 중요도를 살펴봅니다.\n",
        "model.feature_importances_"
      ],
      "execution_count": 49,
      "outputs": [
        {
          "output_type": "execute_result",
          "data": {
            "text/plain": [
              "array([2.79661497e-03, 4.13015833e-02, 3.76485925e-03, 1.48826584e-02,\n",
              "       3.20042990e-03, 2.05986006e-02, 2.23030554e-02, 3.05589777e-02,\n",
              "       1.63192987e-03, 4.94119120e-03, 2.92629905e-03, 1.37267780e-02,\n",
              "       4.33956038e-03, 5.34476720e-04, 3.67753973e-03, 2.13073587e-03,\n",
              "       1.29303328e-03, 6.14398313e-03, 7.50932924e-03, 5.89269441e-04,\n",
              "       4.39861390e-03, 1.22283381e-02, 3.79204209e-03, 2.29683821e-02,\n",
              "       1.86847019e-02, 3.81305581e-03, 2.58432143e-03, 4.92208807e-03,\n",
              "       4.97006306e-03, 4.91911004e-03, 3.35783846e-03, 4.19936781e-03,\n",
              "       1.41247680e-02, 3.19113304e-03, 3.61407197e-03, 1.57259205e-03,\n",
              "       7.83232324e-03, 3.96068506e-02, 4.58004367e-03, 1.39336628e-04,\n",
              "       0.00000000e+00, 2.02217572e-03, 3.09219164e-03, 1.93600919e-03,\n",
              "       7.56681454e-06, 7.06809211e-03, 8.57046807e-04, 1.53782828e-07,\n",
              "       5.25291818e-03, 4.57456127e-02, 3.22872517e-02, 9.77596138e-02,\n",
              "       1.72542730e-02, 3.98417127e-02, 2.01098714e-02, 1.07400967e-01,\n",
              "       2.47634361e-02, 2.74810890e-02, 4.36028491e-02, 3.82035280e-02,\n",
              "       1.65007921e-02, 3.94618964e-09, 0.00000000e+00, 1.21605717e-03,\n",
              "       1.11893554e-04, 1.92262104e-02, 1.61144648e-02, 1.76747557e-02,\n",
              "       1.66760738e-02, 3.45121324e-02, 8.93131024e-03])"
            ]
          },
          "metadata": {
            "tags": []
          },
          "execution_count": 49
        }
      ]
    },
    {
      "cell_type": "code",
      "metadata": {
        "id": "AmKFzjZw9bVo",
        "colab_type": "code",
        "colab": {}
      },
      "source": [
        "feature_names = X_train.columns.tolist()"
      ],
      "execution_count": 50,
      "outputs": []
    },
    {
      "cell_type": "code",
      "metadata": {
        "id": "VVAwK1pY9UYv",
        "colab_type": "code",
        "colab": {
          "base_uri": "https://localhost:8080/",
          "height": 880
        },
        "outputId": "2b6162a0-acfc-4005-d647-75e4bf31ebad"
      },
      "source": [
        "# 중요도를 시각화합니다.\n",
        "plt.figure(figsize=(15,15))\n",
        "sns.barplot(x=model.feature_importances_, y=feature_names)"
      ],
      "execution_count": 51,
      "outputs": [
        {
          "output_type": "execute_result",
          "data": {
            "text/plain": [
              "<matplotlib.axes._subplots.AxesSubplot at 0x7fd1fac4ea90>"
            ]
          },
          "metadata": {
            "tags": []
          },
          "execution_count": 51
        },
        {
          "output_type": "display_data",
          "data": {
            "image/png": "[encoded data removed]",
            "text/plain": [
              "<Figure size 1080x1080 with 1 Axes>"
            ]
          },
          "metadata": {
            "tags": [],
            "image/png": {
              "width": 972,
              "height": 846
            },
            "needs_background": "light"
          }
        }
      ]
    },
    {
      "cell_type": "code",
      "metadata": {
        "id": "OXchyL5vN64y",
        "colab_type": "code",
        "colab": {}
      },
      "source": [
        "# #Random Forest는 시각화해줄 수 없다.\n",
        "\n",
        "# from sklearn.tree import plot_tree\n",
        "\n",
        "# plt.figure(figsize=(15, 15))\n",
        "# tree = plot_tree(model, feature_names=feature_names, fontsize=10, filled=True)"
      ],
      "execution_count": 52,
      "outputs": []
    },
    {
      "cell_type": "code",
      "metadata": {
        "id": "9wytI6ZsYeLH",
        "colab_type": "code",
        "colab": {}
      },
      "source": [
        "# #graphviz 를 통해 시각화 합니다.\n",
        "# #graphviz 는 별도의 설치가 필요합니다. \n",
        "# #graphviz 와 파이썬에서 graphviz 를 사용할 수 있게 해주는 도구 2가지를 설치해 주셔야 합니다.\n",
        "# import graphviz\n",
        "# from sklearn.tree import export_graphviz\n",
        "\n",
        "# dot_tree = export_graphviz(model,\n",
        "#                            feature_names = feature_names,\n",
        "#                            filled=True)\n",
        "# graphviz.Source(dot_tree)"
      ],
      "execution_count": 53,
      "outputs": []
    },
    {
      "cell_type": "code",
      "metadata": {
        "id": "wgDfqfAuN640",
        "colab_type": "code",
        "colab": {
          "base_uri": "https://localhost:8080/",
          "height": 102
        },
        "outputId": "9b09ac32-97b4-4142-c055-9b93d20beb70"
      },
      "source": [
        " # 예측을 하고 결과를 y_predict에 담습니다.\n",
        "y_predict = model.predict(X_test)\n",
        "y_predict"
      ],
      "execution_count": 54,
      "outputs": [
        {
          "output_type": "execute_result",
          "data": {
            "text/plain": [
              "array([2, 1, 3, 1, 1, 3, 3, 1, 1, 3, 2, 1, 1, 1, 1, 1, 3, 1, 3, 2, 3, 1,\n",
              "       1, 2, 1, 1, 1, 1, 2, 2, 3, 3, 3, 1, 3, 3, 1, 1, 1, 1, 3, 3, 1, 1,\n",
              "       1, 3, 3, 2, 2, 1, 3, 3, 3, 1, 1, 3, 1, 3, 2, 1, 3, 3, 3, 1, 1, 1,\n",
              "       2, 1, 1, 2, 3, 3, 3, 2, 3, 3, 3, 1, 1, 3, 1, 3, 1, 1, 3, 3, 2, 3,\n",
              "       1, 1, 1, 1, 3, 1, 1, 1, 1, 2, 3, 3])"
            ]
          },
          "metadata": {
            "tags": []
          },
          "execution_count": 54
        }
      ]
    },
    {
      "cell_type": "markdown",
      "metadata": {
        "id": "p0T0zWzwN642",
        "colab_type": "text"
      },
      "source": [
        "# 정확도(Accuracy) 측정하기"
      ]
    },
    {
      "cell_type": "code",
      "metadata": {
        "id": "_UPd_fmJ2BDq",
        "colab_type": "code",
        "colab": {
          "base_uri": "https://localhost:8080/",
          "height": 34
        },
        "outputId": "e4308d25-06ad-4c10-ea1b-3f84964e15a2"
      },
      "source": [
        "# 다르게 예측한 갯수를 구해서 diff_count 에 할당해 줍니다.\n",
        "# DT : 51\n",
        "# RF : 49\n",
        "# GB : 53\n",
        "(y_predict != y_test).sum()"
      ],
      "execution_count": 55,
      "outputs": [
        {
          "output_type": "execute_result",
          "data": {
            "text/plain": [
              "53"
            ]
          },
          "metadata": {
            "tags": []
          },
          "execution_count": 55
        }
      ]
    },
    {
      "cell_type": "code",
      "metadata": {
        "id": "sfLpm2N1OHaI",
        "colab_type": "code",
        "colab": {
          "base_uri": "https://localhost:8080/",
          "height": 34
        },
        "outputId": "e9675309-b447-4038-a98a-f55bbb8698e1"
      },
      "source": [
        "# 예측의 정확도를 구해봅니다.\n",
        "y_predict_list = y_predict.tolist()\n",
        "y_test_list = y_test.tolist()\n",
        "acc = 0\n",
        "for i in range(len(y_predict_list)):\n",
        "  if y_predict_list[i] == y_test_list[i]:\n",
        "    acc += 1\n",
        "print(\"정확도 : \", acc/len(y_predict_list))"
      ],
      "execution_count": 56,
      "outputs": [
        {
          "output_type": "stream",
          "text": [
            "정확도 :  0.47\n"
          ],
          "name": "stdout"
        }
      ]
    },
    {
      "cell_type": "code",
      "metadata": {
        "id": "dvhrmbgNpdoI",
        "colab_type": "code",
        "colab": {
          "base_uri": "https://localhost:8080/",
          "height": 34
        },
        "outputId": "8d197946-5d2a-44ba-86df-acd9d7cb2b79"
      },
      "source": [
        "# 위에서 처럼 직접 구할 수도 있지만 미리 구현된 알고리즘을 가져와 사용합니다.\n",
        "\n",
        "from sklearn.metrics import accuracy_score\n",
        "\n",
        "accuracy_score(y_test, y_predict) * 100"
      ],
      "execution_count": 57,
      "outputs": [
        {
          "output_type": "execute_result",
          "data": {
            "text/plain": [
              "47.0"
            ]
          },
          "metadata": {
            "tags": []
          },
          "execution_count": 57
        }
      ]
    },
    {
      "cell_type": "code",
      "metadata": {
        "scrolled": true,
        "id": "BVmMg2uapdoJ",
        "colab_type": "code",
        "colab": {
          "base_uri": "https://localhost:8080/",
          "height": 34
        },
        "outputId": "0e0e62cb-1468-45cc-d661-4a764b6ea76a"
      },
      "source": [
        "# model 의 score 로 점수를 계산합니다.\n",
        "model.score(X_test, y_test) * 100"
      ],
      "execution_count": 58,
      "outputs": [
        {
          "output_type": "execute_result",
          "data": {
            "text/plain": [
              "47.0"
            ]
          },
          "metadata": {
            "tags": []
          },
          "execution_count": 58
        }
      ]
    },
    {
      "cell_type": "code",
      "metadata": {
        "id": "FKt5-2QrQxyC",
        "colab_type": "code",
        "colab": {}
      },
      "source": [
        "#1 single tree: acc 49%  \n",
        "#2 Random Forest: acc 51%\n",
        "#3 Gradient boosting: acc 47%"
      ],
      "execution_count": 59,
      "outputs": []
    }
  ]
}