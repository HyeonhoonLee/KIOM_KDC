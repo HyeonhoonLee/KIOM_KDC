{
  "nbformat": 4,
  "nbformat_minor": 0,
  "metadata": {
    "colab": {
      "name": "06 KDC_RandomSearchCV_for_models_parameters.ipynb",
      "provenance": [],
      "collapsed_sections": [],
      "toc_visible": true,
      "mount_file_id": "1jZ1OdkrFNV9h79NKUUdx38yWux0Cmfe7",
      "authorship_tag": "ABX9TyOqFajkQOZsnXRh/wRikLDV",
      "include_colab_link": true
    },
    "kernelspec": {
      "name": "python3",
      "display_name": "Python 3"
    }
  },
  "cells": [
    {
      "cell_type": "markdown",
      "metadata": {
        "id": "view-in-github",
        "colab_type": "text"
      },
      "source": [
        "<a href=\"https://colab.research.google.com/github/HyeonhoonLee/KIOM_KDC/blob/master/06_KDC_RandomSearchCV_for_models_parameters.ipynb\" target=\"_parent\"><img src=\"https://colab.research.google.com/assets/colab-badge.svg\" alt=\"Open In Colab\"/></a>"
      ]
    },
    {
      "cell_type": "markdown",
      "metadata": {
        "id": "KfySr4tmy-Fp",
        "colab_type": "text"
      },
      "source": [
        "#KIOM 한의임상정보은행 data 분석하기"
      ]
    },
    {
      "cell_type": "markdown",
      "metadata": {
        "id": "xL3NjWdMzSes",
        "colab_type": "text"
      },
      "source": [
        "일단 데이터를 추출해서 상관분석을 전부 돌려보자."
      ]
    },
    {
      "cell_type": "markdown",
      "metadata": {
        "id": "Qa_ie4wOzWKO",
        "colab_type": "text"
      },
      "source": [
        "# 라이브러리 로드"
      ]
    },
    {
      "cell_type": "code",
      "metadata": {
        "id": "EwRzY8iYzViA",
        "colab_type": "code",
        "colab": {
          "base_uri": "https://localhost:8080/",
          "height": 71
        },
        "outputId": "e06e17eb-4a2a-4bca-afca-30f0ad8397de"
      },
      "source": [
        "# 분석에 사용할 pandas, 수치계산에 사용할 numpy, 시각화에 사용할 seaborn 을 불러옵니다.\n",
        "# 또, 구 버전의 주피터 노트북에서는 %matplotlib inline 설정을 되어야 노트북 안에서 그래프를 시각화 합니다.\n",
        "\n",
        "import pandas as pd\n",
        "import numpy as np\n",
        "import seaborn as sns\n",
        "import matplotlib.pyplot as plt\n",
        "\n",
        "%matplotlib inline"
      ],
      "execution_count": 1,
      "outputs": [
        {
          "output_type": "stream",
          "text": [
            "/usr/local/lib/python3.6/dist-packages/statsmodels/tools/_testing.py:19: FutureWarning: pandas.util.testing is deprecated. Use the functions in the public API at pandas.testing instead.\n",
            "  import pandas.util.testing as tm\n"
          ],
          "name": "stderr"
        }
      ]
    },
    {
      "cell_type": "markdown",
      "metadata": {
        "id": "f8637B8jz4Cf",
        "colab_type": "text"
      },
      "source": [
        "#한글 폰트 설정"
      ]
    },
    {
      "cell_type": "code",
      "metadata": {
        "id": "MuCE-WRyz3Zb",
        "colab_type": "code",
        "colab": {
          "base_uri": "https://localhost:8080/",
          "height": 68
        },
        "outputId": "1d6908a2-e7da-452c-9bd3-35a99c4fa909"
      },
      "source": [
        "# Google Colab 사용 시 아래 주석을 풀고 폰트설정을 합니다.\n",
        "# 로컬 아나콘다 사용 시에는 그대로 주석처리 해놓으시면 됩니다.\n",
        "# 나눔고딕 설치\n",
        "# 이 코드를 사용시 아래에 있는 폰트를 로드할 경우 colab에서는 오류가 발생하니\n",
        "# 아래에 있는 폰트 설정은 꼭 주석처리를 해주세요. \n",
        "!apt -qq -y install fonts-nanum > /dev/null\n",
        "\n",
        "import matplotlib.font_manager as fm\n",
        "\n",
        "fontpath = '/usr/share/fonts/truetype/nanum/NanumGothic.ttf'\n",
        "font = fm.FontProperties(fname=fontpath, size=9)\n",
        "\n",
        "fm._rebuild()\n",
        "\n",
        "# Colab 의 한글 폰트 설정\n",
        "plt.rc('font', family='NanumGothic') \n",
        "# 마이너스 폰트 깨지는 문제에 대한 대처\n",
        "plt.rc(\"axes\", unicode_minus=False)"
      ],
      "execution_count": 2,
      "outputs": [
        {
          "output_type": "stream",
          "text": [
            "\n",
            "WARNING: apt does not have a stable CLI interface. Use with caution in scripts.\n",
            "\n"
          ],
          "name": "stdout"
        }
      ]
    },
    {
      "cell_type": "code",
      "metadata": {
        "id": "Y3Vgi7uv0JY8",
        "colab_type": "code",
        "colab": {}
      },
      "source": [
        "# 레티나 설정을 해주면 글씨가 좀 더 선명하게 보입니다.\n",
        "# 폰트의 주변이 흐릿하게 보이는 것을 방지합니다.\n",
        "%config InlineBackend.figure_format = 'retina'"
      ],
      "execution_count": 3,
      "outputs": []
    },
    {
      "cell_type": "markdown",
      "metadata": {
        "id": "vvJsc7_L0SmJ",
        "colab_type": "text"
      },
      "source": [
        "#데이터 불러오기"
      ]
    },
    {
      "cell_type": "markdown",
      "metadata": {
        "id": "zW1fFVyF0adL",
        "colab_type": "text"
      },
      "source": [
        "- 데이터 로드 주소: https://www.data.go.kr/data/3072201/fileData.do\n",
        "- 임상정보은행 사이트에서 상세이용방법 확인가능 (https://kdc.kiom.re.kr/html/?pmode=subpage&MMC_pid=200&spSeq=22)"
      ]
    },
    {
      "cell_type": "code",
      "metadata": {
        "id": "2vBVJzbB0R1v",
        "colab_type": "code",
        "colab": {
          "base_uri": "https://localhost:8080/",
          "height": 34
        },
        "outputId": "0a7ecd3e-31bf-4564-ba31-db5174450817"
      },
      "source": [
        "# 다운로드 받은 파일을 판다스의 read_csv 를 통해 읽어옵니다.\n",
        "# 파일을 읽어온 후 shape 로 행과 열의 수를 출력합니다.\n",
        "\n",
        "##새로만든 csv에는 인코딩을 따로 지정하지 않아도된다.\n",
        "df = pd.read_csv(\"/content/drive/My Drive/DataCollection/KIOM_KDC/data/KDC_feature.csv\")\n",
        "df.shape"
      ],
      "execution_count": 2,
      "outputs": [
        {
          "output_type": "execute_result",
          "data": {
            "text/plain": [
              "(500, 82)"
            ]
          },
          "metadata": {
            "tags": []
          },
          "execution_count": 2
        }
      ]
    },
    {
      "cell_type": "code",
      "metadata": {
        "id": "eoa2FXhjzx4F",
        "colab_type": "code",
        "colab": {
          "base_uri": "https://localhost:8080/",
          "height": 457
        },
        "outputId": "95deb6fa-21ee-49f2-d970-b62d311c5ec0"
      },
      "source": [
        "# sample, head, tail을 통해 데이터를 미리보기 합니다.\n",
        "df.head()"
      ],
      "execution_count": 3,
      "outputs": [
        {
          "output_type": "execute_result",
          "data": {
            "text/html": [
              "<div>\n",
              "<style scoped>\n",
              "    .dataframe tbody tr th:only-of-type {\n",
              "        vertical-align: middle;\n",
              "    }\n",
              "\n",
              "    .dataframe tbody tr th {\n",
              "        vertical-align: top;\n",
              "    }\n",
              "\n",
              "    .dataframe thead th {\n",
              "        text-align: right;\n",
              "    }\n",
              "</style>\n",
              "<table border=\"1\" class=\"dataframe\">\n",
              "  <thead>\n",
              "    <tr style=\"text-align: right;\">\n",
              "      <th></th>\n",
              "      <th>대상자식별코드</th>\n",
              "      <th>성별</th>\n",
              "      <th>만나이</th>\n",
              "      <th>직업분류</th>\n",
              "      <th>학력</th>\n",
              "      <th>결혼유무</th>\n",
              "      <th>성격_대범_섬세</th>\n",
              "      <th>성격_행동빠름_행동느림</th>\n",
              "      <th>성격_적극_소극</th>\n",
              "      <th>성격_직접_간접</th>\n",
              "      <th>성격_포기빠름_포기느림</th>\n",
              "      <th>성격_외향_내성</th>\n",
              "      <th>성격_동적_정적</th>\n",
              "      <th>성격_쉽게_어렵게</th>\n",
              "      <th>성격_남성적_여성적</th>\n",
              "      <th>성격_참을성부족_잘찾음</th>\n",
              "      <th>성격_큰편_적은편</th>\n",
              "      <th>성격_잘드러냄_안드러냄</th>\n",
              "      <th>성격_잘표현_표현안하는편</th>\n",
              "      <th>성격_가끔흥분_이성적</th>\n",
              "      <th>성격_덜렁_꼼꼼</th>\n",
              "      <th>식사량</th>\n",
              "      <th>식사속도</th>\n",
              "      <th>소화여부</th>\n",
              "      <th>소화입맛</th>\n",
              "      <th>땀정도</th>\n",
              "      <th>땀기분</th>\n",
              "      <th>대변습관</th>\n",
              "      <th>대변굳기</th>\n",
              "      <th>배변시긴박감</th>\n",
              "      <th>배변후잔변감</th>\n",
              "      <th>소변야간뇨</th>\n",
              "      <th>한열민감도</th>\n",
              "      <th>한열손부위</th>\n",
              "      <th>한열발부위</th>\n",
              "      <th>한열배부위</th>\n",
              "      <th>음수정도</th>\n",
              "      <th>음수온다</th>\n",
              "      <th>한열점수</th>\n",
              "      <th>한열그룹</th>\n",
              "      <th>...</th>\n",
              "      <th>고지혈증_진단</th>\n",
              "      <th>일반건강</th>\n",
              "      <th>수면시간(시간)</th>\n",
              "      <th>수면시간(분)</th>\n",
              "      <th>피로정도</th>\n",
              "      <th>피로_기상시</th>\n",
              "      <th>피로_오전</th>\n",
              "      <th>피로_오후</th>\n",
              "      <th>피로_밤</th>\n",
              "      <th>피로_하루종일</th>\n",
              "      <th>한의사체질진단</th>\n",
              "      <th>키</th>\n",
              "      <th>몸무게</th>\n",
              "      <th>BMI</th>\n",
              "      <th>이마둘레</th>\n",
              "      <th>목둘레</th>\n",
              "      <th>겨드랑이둘레</th>\n",
              "      <th>가슴둘레</th>\n",
              "      <th>늑골둘레</th>\n",
              "      <th>허리둘레</th>\n",
              "      <th>장골둘레</th>\n",
              "      <th>곡골둘레</th>\n",
              "      <th>수축기혈합</th>\n",
              "      <th>이완기혈압</th>\n",
              "      <th>혈당</th>\n",
              "      <th>총콜레스테롤</th>\n",
              "      <th>중성지방</th>\n",
              "      <th>고밀도콜레스테롤</th>\n",
              "      <th>저밀도콜레스테롤</th>\n",
              "      <th>수면시간(시간)_부족</th>\n",
              "      <th>늑골둘레_low</th>\n",
              "      <th>늑골둘레_middle</th>\n",
              "      <th>늑골둘레_high</th>\n",
              "      <th>혈당_nan</th>\n",
              "      <th>총콜레스테롤_nan</th>\n",
              "      <th>중성지방_nan</th>\n",
              "      <th>고밀도콜레스테롤_nan</th>\n",
              "      <th>저밀도콜레스테롤_nan</th>\n",
              "      <th>혈당_log</th>\n",
              "      <th>중성지방_log</th>\n",
              "    </tr>\n",
              "  </thead>\n",
              "  <tbody>\n",
              "    <tr>\n",
              "      <th>0</th>\n",
              "      <td>KDCT00001</td>\n",
              "      <td>2</td>\n",
              "      <td>0.036746</td>\n",
              "      <td>2</td>\n",
              "      <td>5</td>\n",
              "      <td>2</td>\n",
              "      <td>2</td>\n",
              "      <td>2</td>\n",
              "      <td>1</td>\n",
              "      <td>2</td>\n",
              "      <td>1</td>\n",
              "      <td>1</td>\n",
              "      <td>1.0</td>\n",
              "      <td>2.0</td>\n",
              "      <td>2</td>\n",
              "      <td>3</td>\n",
              "      <td>2</td>\n",
              "      <td>2</td>\n",
              "      <td>2</td>\n",
              "      <td>1</td>\n",
              "      <td>1</td>\n",
              "      <td>2.000000</td>\n",
              "      <td>2.0</td>\n",
              "      <td>1</td>\n",
              "      <td>3</td>\n",
              "      <td>3</td>\n",
              "      <td>1.0</td>\n",
              "      <td>1</td>\n",
              "      <td>2</td>\n",
              "      <td>2.490637</td>\n",
              "      <td>2.314607</td>\n",
              "      <td>1.0</td>\n",
              "      <td>1</td>\n",
              "      <td>2</td>\n",
              "      <td>2</td>\n",
              "      <td>2</td>\n",
              "      <td>2.0</td>\n",
              "      <td>2</td>\n",
              "      <td>12.0</td>\n",
              "      <td>2.0</td>\n",
              "      <td>...</td>\n",
              "      <td>1</td>\n",
              "      <td>3.0</td>\n",
              "      <td>5</td>\n",
              "      <td>0</td>\n",
              "      <td>2</td>\n",
              "      <td>0</td>\n",
              "      <td>0</td>\n",
              "      <td>0</td>\n",
              "      <td>1</td>\n",
              "      <td>0</td>\n",
              "      <td>2</td>\n",
              "      <td>-0.372588</td>\n",
              "      <td>-0.551481</td>\n",
              "      <td>-0.421862</td>\n",
              "      <td>-1.411128</td>\n",
              "      <td>-0.532671</td>\n",
              "      <td>0.266128</td>\n",
              "      <td>0.606435</td>\n",
              "      <td>89.0</td>\n",
              "      <td>-0.140773</td>\n",
              "      <td>0.167260</td>\n",
              "      <td>0.414628</td>\n",
              "      <td>0.017181</td>\n",
              "      <td>0.342702</td>\n",
              "      <td>0.220807</td>\n",
              "      <td>0.964152</td>\n",
              "      <td>-0.652711</td>\n",
              "      <td>0.941597</td>\n",
              "      <td>0.672927</td>\n",
              "      <td>1.542199</td>\n",
              "      <td>-0.376235</td>\n",
              "      <td>-1.040833</td>\n",
              "      <td>1.344987</td>\n",
              "      <td>0.219656</td>\n",
              "      <td>0.963293</td>\n",
              "      <td>-0.652738</td>\n",
              "      <td>0.937537</td>\n",
              "      <td>0.671852</td>\n",
              "      <td>4.653960</td>\n",
              "      <td>4.290459</td>\n",
              "    </tr>\n",
              "    <tr>\n",
              "      <th>1</th>\n",
              "      <td>KDCT00002</td>\n",
              "      <td>2</td>\n",
              "      <td>2.013834</td>\n",
              "      <td>14</td>\n",
              "      <td>3</td>\n",
              "      <td>2</td>\n",
              "      <td>1</td>\n",
              "      <td>1</td>\n",
              "      <td>1</td>\n",
              "      <td>1</td>\n",
              "      <td>1</td>\n",
              "      <td>1</td>\n",
              "      <td>1.0</td>\n",
              "      <td>2.0</td>\n",
              "      <td>1</td>\n",
              "      <td>3</td>\n",
              "      <td>1</td>\n",
              "      <td>1</td>\n",
              "      <td>1</td>\n",
              "      <td>1</td>\n",
              "      <td>3</td>\n",
              "      <td>2.000000</td>\n",
              "      <td>2.0</td>\n",
              "      <td>1</td>\n",
              "      <td>3</td>\n",
              "      <td>1</td>\n",
              "      <td>2.0</td>\n",
              "      <td>1</td>\n",
              "      <td>2</td>\n",
              "      <td>2.490637</td>\n",
              "      <td>2.314607</td>\n",
              "      <td>1.0</td>\n",
              "      <td>2</td>\n",
              "      <td>2</td>\n",
              "      <td>2</td>\n",
              "      <td>2</td>\n",
              "      <td>2.0</td>\n",
              "      <td>3</td>\n",
              "      <td>13.0</td>\n",
              "      <td>3.0</td>\n",
              "      <td>...</td>\n",
              "      <td>1</td>\n",
              "      <td>3.0</td>\n",
              "      <td>5</td>\n",
              "      <td>0</td>\n",
              "      <td>4</td>\n",
              "      <td>0</td>\n",
              "      <td>0</td>\n",
              "      <td>1</td>\n",
              "      <td>0</td>\n",
              "      <td>0</td>\n",
              "      <td>3</td>\n",
              "      <td>-0.748940</td>\n",
              "      <td>0.221659</td>\n",
              "      <td>0.869741</td>\n",
              "      <td>1.713833</td>\n",
              "      <td>0.077630</td>\n",
              "      <td>0.774588</td>\n",
              "      <td>1.211515</td>\n",
              "      <td>93.0</td>\n",
              "      <td>0.909300</td>\n",
              "      <td>0.814851</td>\n",
              "      <td>0.871402</td>\n",
              "      <td>0.267996</td>\n",
              "      <td>-1.005102</td>\n",
              "      <td>0.453146</td>\n",
              "      <td>0.376917</td>\n",
              "      <td>-0.343301</td>\n",
              "      <td>-0.196630</td>\n",
              "      <td>0.210896</td>\n",
              "      <td>1.542199</td>\n",
              "      <td>-0.376235</td>\n",
              "      <td>-1.040833</td>\n",
              "      <td>1.344987</td>\n",
              "      <td>0.451957</td>\n",
              "      <td>0.376095</td>\n",
              "      <td>-0.343379</td>\n",
              "      <td>-0.199521</td>\n",
              "      <td>0.209862</td>\n",
              "      <td>4.709530</td>\n",
              "      <td>4.584967</td>\n",
              "    </tr>\n",
              "    <tr>\n",
              "      <th>2</th>\n",
              "      <td>KDCT00003</td>\n",
              "      <td>1</td>\n",
              "      <td>0.119384</td>\n",
              "      <td>3</td>\n",
              "      <td>3</td>\n",
              "      <td>2</td>\n",
              "      <td>3</td>\n",
              "      <td>1</td>\n",
              "      <td>1</td>\n",
              "      <td>1</td>\n",
              "      <td>1</td>\n",
              "      <td>1</td>\n",
              "      <td>1.0</td>\n",
              "      <td>1.0</td>\n",
              "      <td>1</td>\n",
              "      <td>2</td>\n",
              "      <td>1</td>\n",
              "      <td>1</td>\n",
              "      <td>1</td>\n",
              "      <td>1</td>\n",
              "      <td>3</td>\n",
              "      <td>3.000000</td>\n",
              "      <td>2.0</td>\n",
              "      <td>3</td>\n",
              "      <td>2</td>\n",
              "      <td>3</td>\n",
              "      <td>1.0</td>\n",
              "      <td>1</td>\n",
              "      <td>2</td>\n",
              "      <td>2.490637</td>\n",
              "      <td>2.314607</td>\n",
              "      <td>1.0</td>\n",
              "      <td>3</td>\n",
              "      <td>2</td>\n",
              "      <td>3</td>\n",
              "      <td>2</td>\n",
              "      <td>2.0</td>\n",
              "      <td>2</td>\n",
              "      <td>12.0</td>\n",
              "      <td>2.0</td>\n",
              "      <td>...</td>\n",
              "      <td>1</td>\n",
              "      <td>3.0</td>\n",
              "      <td>7</td>\n",
              "      <td>0</td>\n",
              "      <td>2</td>\n",
              "      <td>0</td>\n",
              "      <td>0</td>\n",
              "      <td>1</td>\n",
              "      <td>0</td>\n",
              "      <td>0</td>\n",
              "      <td>2</td>\n",
              "      <td>-0.121687</td>\n",
              "      <td>-0.164911</td>\n",
              "      <td>-0.114338</td>\n",
              "      <td>0.672179</td>\n",
              "      <td>0.687931</td>\n",
              "      <td>0.647473</td>\n",
              "      <td>-0.119661</td>\n",
              "      <td>83.0</td>\n",
              "      <td>-0.350787</td>\n",
              "      <td>-1.127923</td>\n",
              "      <td>-1.869239</td>\n",
              "      <td>0.079885</td>\n",
              "      <td>-0.106566</td>\n",
              "      <td>-0.747269</td>\n",
              "      <td>0.876066</td>\n",
              "      <td>-0.454689</td>\n",
              "      <td>0.047276</td>\n",
              "      <td>0.804936</td>\n",
              "      <td>-0.648425</td>\n",
              "      <td>-0.376235</td>\n",
              "      <td>0.960769</td>\n",
              "      <td>-0.743502</td>\n",
              "      <td>-0.748265</td>\n",
              "      <td>0.875213</td>\n",
              "      <td>-0.454748</td>\n",
              "      <td>0.044134</td>\n",
              "      <td>0.803849</td>\n",
              "      <td>4.382027</td>\n",
              "      <td>4.488636</td>\n",
              "    </tr>\n",
              "    <tr>\n",
              "      <th>3</th>\n",
              "      <td>KDCT00004</td>\n",
              "      <td>2</td>\n",
              "      <td>0.152821</td>\n",
              "      <td>14</td>\n",
              "      <td>4</td>\n",
              "      <td>2</td>\n",
              "      <td>1</td>\n",
              "      <td>1</td>\n",
              "      <td>1</td>\n",
              "      <td>1</td>\n",
              "      <td>1</td>\n",
              "      <td>1</td>\n",
              "      <td>1.0</td>\n",
              "      <td>2.0</td>\n",
              "      <td>1</td>\n",
              "      <td>1</td>\n",
              "      <td>1</td>\n",
              "      <td>2</td>\n",
              "      <td>1</td>\n",
              "      <td>1</td>\n",
              "      <td>2</td>\n",
              "      <td>2.078385</td>\n",
              "      <td>1.0</td>\n",
              "      <td>3</td>\n",
              "      <td>2</td>\n",
              "      <td>2</td>\n",
              "      <td>3.0</td>\n",
              "      <td>2</td>\n",
              "      <td>2</td>\n",
              "      <td>2.490637</td>\n",
              "      <td>2.314607</td>\n",
              "      <td>1.0</td>\n",
              "      <td>2</td>\n",
              "      <td>2</td>\n",
              "      <td>2</td>\n",
              "      <td>2</td>\n",
              "      <td>1.0</td>\n",
              "      <td>2</td>\n",
              "      <td>15.0</td>\n",
              "      <td>3.0</td>\n",
              "      <td>...</td>\n",
              "      <td>1</td>\n",
              "      <td>4.0</td>\n",
              "      <td>7</td>\n",
              "      <td>0</td>\n",
              "      <td>4</td>\n",
              "      <td>0</td>\n",
              "      <td>0</td>\n",
              "      <td>1</td>\n",
              "      <td>0</td>\n",
              "      <td>0</td>\n",
              "      <td>2</td>\n",
              "      <td>0.505566</td>\n",
              "      <td>1.478013</td>\n",
              "      <td>1.392533</td>\n",
              "      <td>1.713833</td>\n",
              "      <td>0.687931</td>\n",
              "      <td>1.283048</td>\n",
              "      <td>1.574564</td>\n",
              "      <td>90.0</td>\n",
              "      <td>0.804292</td>\n",
              "      <td>0.555815</td>\n",
              "      <td>0.871402</td>\n",
              "      <td>-0.421745</td>\n",
              "      <td>0.432555</td>\n",
              "      <td>0.065915</td>\n",
              "      <td>0.934790</td>\n",
              "      <td>0.139377</td>\n",
              "      <td>-0.359233</td>\n",
              "      <td>0.936945</td>\n",
              "      <td>-0.648425</td>\n",
              "      <td>-0.376235</td>\n",
              "      <td>-1.040833</td>\n",
              "      <td>1.344987</td>\n",
              "      <td>0.064789</td>\n",
              "      <td>0.933933</td>\n",
              "      <td>0.139222</td>\n",
              "      <td>-0.361958</td>\n",
              "      <td>0.935846</td>\n",
              "      <td>4.615121</td>\n",
              "      <td>4.919981</td>\n",
              "    </tr>\n",
              "    <tr>\n",
              "      <th>4</th>\n",
              "      <td>KDCT00005</td>\n",
              "      <td>1</td>\n",
              "      <td>0.093090</td>\n",
              "      <td>8</td>\n",
              "      <td>2</td>\n",
              "      <td>2</td>\n",
              "      <td>3</td>\n",
              "      <td>2</td>\n",
              "      <td>3</td>\n",
              "      <td>2</td>\n",
              "      <td>2</td>\n",
              "      <td>3</td>\n",
              "      <td>2.0</td>\n",
              "      <td>2.0</td>\n",
              "      <td>2</td>\n",
              "      <td>3</td>\n",
              "      <td>3</td>\n",
              "      <td>2</td>\n",
              "      <td>2</td>\n",
              "      <td>2</td>\n",
              "      <td>1</td>\n",
              "      <td>2.000000</td>\n",
              "      <td>1.0</td>\n",
              "      <td>1</td>\n",
              "      <td>3</td>\n",
              "      <td>1</td>\n",
              "      <td>2.0</td>\n",
              "      <td>1</td>\n",
              "      <td>2</td>\n",
              "      <td>2.490637</td>\n",
              "      <td>2.314607</td>\n",
              "      <td>0.0</td>\n",
              "      <td>1</td>\n",
              "      <td>3</td>\n",
              "      <td>3</td>\n",
              "      <td>2</td>\n",
              "      <td>1.0</td>\n",
              "      <td>2</td>\n",
              "      <td>11.0</td>\n",
              "      <td>2.0</td>\n",
              "      <td>...</td>\n",
              "      <td>1</td>\n",
              "      <td>2.0</td>\n",
              "      <td>5</td>\n",
              "      <td>0</td>\n",
              "      <td>4</td>\n",
              "      <td>0</td>\n",
              "      <td>0</td>\n",
              "      <td>1</td>\n",
              "      <td>0</td>\n",
              "      <td>0</td>\n",
              "      <td>1</td>\n",
              "      <td>0.505566</td>\n",
              "      <td>0.898158</td>\n",
              "      <td>0.715979</td>\n",
              "      <td>2.234660</td>\n",
              "      <td>1.603383</td>\n",
              "      <td>2.045738</td>\n",
              "      <td>1.332531</td>\n",
              "      <td>99.0</td>\n",
              "      <td>1.539343</td>\n",
              "      <td>1.073888</td>\n",
              "      <td>1.023660</td>\n",
              "      <td>0.581515</td>\n",
              "      <td>-0.376127</td>\n",
              "      <td>-0.243870</td>\n",
              "      <td>-0.004785</td>\n",
              "      <td>-0.788851</td>\n",
              "      <td>-1.253554</td>\n",
              "      <td>0.342905</td>\n",
              "      <td>1.542199</td>\n",
              "      <td>-0.376235</td>\n",
              "      <td>-1.040833</td>\n",
              "      <td>1.344987</td>\n",
              "      <td>-0.244946</td>\n",
              "      <td>-0.005584</td>\n",
              "      <td>-0.788856</td>\n",
              "      <td>-1.255361</td>\n",
              "      <td>0.341859</td>\n",
              "      <td>4.532599</td>\n",
              "      <td>4.127134</td>\n",
              "    </tr>\n",
              "  </tbody>\n",
              "</table>\n",
              "<p>5 rows × 82 columns</p>\n",
              "</div>"
            ],
            "text/plain": [
              "     대상자식별코드  성별       만나이  ...  저밀도콜레스테롤_nan    혈당_log  중성지방_log\n",
              "0  KDCT00001   2  0.036746  ...      0.671852  4.653960  4.290459\n",
              "1  KDCT00002   2  2.013834  ...      0.209862  4.709530  4.584967\n",
              "2  KDCT00003   1  0.119384  ...      0.803849  4.382027  4.488636\n",
              "3  KDCT00004   2  0.152821  ...      0.935846  4.615121  4.919981\n",
              "4  KDCT00005   1  0.093090  ...      0.341859  4.532599  4.127134\n",
              "\n",
              "[5 rows x 82 columns]"
            ]
          },
          "metadata": {
            "tags": []
          },
          "execution_count": 3
        }
      ]
    },
    {
      "cell_type": "markdown",
      "metadata": {
        "id": "MriYZbDiN63v",
        "colab_type": "text"
      },
      "source": [
        "# 학습과 예측에 사용할 데이터셋 만들기"
      ]
    },
    {
      "cell_type": "code",
      "metadata": {
        "id": "wPzxcRfLN63v",
        "colab_type": "code",
        "colab": {
          "base_uri": "https://localhost:8080/",
          "height": 255
        },
        "outputId": "bcc5936e-d730-43a9-ce20-19ad843a6b2c"
      },
      "source": [
        "df.columns"
      ],
      "execution_count": 4,
      "outputs": [
        {
          "output_type": "execute_result",
          "data": {
            "text/plain": [
              "Index(['대상자식별코드', '성별', '만나이', '직업분류', '학력', '결혼유무', '성격_대범_섬세',\n",
              "       '성격_행동빠름_행동느림', '성격_적극_소극', '성격_직접_간접', '성격_포기빠름_포기느림', '성격_외향_내성',\n",
              "       '성격_동적_정적', '성격_쉽게_어렵게', '성격_남성적_여성적', '성격_참을성부족_잘찾음', '성격_큰편_적은편',\n",
              "       '성격_잘드러냄_안드러냄', '성격_잘표현_표현안하는편', '성격_가끔흥분_이성적', '성격_덜렁_꼼꼼', '식사량',\n",
              "       '식사속도', '소화여부', '소화입맛', '땀정도', '땀기분', '대변습관', '대변굳기', '배변시긴박감',\n",
              "       '배변후잔변감', '소변야간뇨', '한열민감도', '한열손부위', '한열발부위', '한열배부위', '음수정도', '음수온다',\n",
              "       '한열점수', '한열그룹', '고혈압_진단', '당뇨_진단', '고지혈증_진단', '일반건강', '수면시간(시간)',\n",
              "       '수면시간(분)', '피로정도', '피로_기상시', '피로_오전', '피로_오후', '피로_밤', '피로_하루종일',\n",
              "       '한의사체질진단', '키', '몸무게', 'BMI', '이마둘레', '목둘레', '겨드랑이둘레', '가슴둘레', '늑골둘레',\n",
              "       '허리둘레', '장골둘레', '곡골둘레', '수축기혈합', '이완기혈압', '혈당', '총콜레스테롤', '중성지방',\n",
              "       '고밀도콜레스테롤', '저밀도콜레스테롤', '수면시간(시간)_부족', '늑골둘레_low', '늑골둘레_middle',\n",
              "       '늑골둘레_high', '혈당_nan', '총콜레스테롤_nan', '중성지방_nan', '고밀도콜레스테롤_nan',\n",
              "       '저밀도콜레스테롤_nan', '혈당_log', '중성지방_log'],\n",
              "      dtype='object')"
            ]
          },
          "metadata": {
            "tags": []
          },
          "execution_count": 4
        }
      ]
    },
    {
      "cell_type": "code",
      "metadata": {
        "id": "8Jj7o62GN63z",
        "colab_type": "code",
        "colab": {
          "base_uri": "https://localhost:8080/",
          "height": 34
        },
        "outputId": "5f1b2673-1773-4aab-bc02-f03931a3fac6"
      },
      "source": [
        "# 이 중 feature engineeringd에서 score가 괜찮았던 것만 고른다.\n",
        "# 즉, train에 사용할 column명만 가져온다.\n",
        "X = df[['성별', '만나이', '직업분류', '학력', '결혼유무', '성격_대범_섬세',\n",
        "       '성격_행동빠름_행동느림', '성격_적극_소극', '성격_직접_간접', '성격_포기빠름_포기느림', '성격_외향_내성',\n",
        "       '성격_동적_정적', '성격_쉽게_어렵게', '성격_남성적_여성적', '성격_참을성부족_잘찾음', '성격_큰편_적은편',\n",
        "       '성격_잘드러냄_안드러냄', '성격_잘표현_표현안하는편', '성격_가끔흥분_이성적', '성격_덜렁_꼼꼼', '식사량',\n",
        "       '식사속도', '소화여부', '소화입맛', '땀정도', '땀기분', '대변습관', '대변굳기', '배변시긴박감',\n",
        "       '배변후잔변감', '소변야간뇨', '한열민감도', '한열손부위', '한열발부위', '한열배부위', '음수정도', '음수온다',\n",
        "       '한열점수', '한열그룹', '고혈압_진단', '당뇨_진단', '고지혈증_진단', '일반건강', '피로정도', '피로_기상시', \n",
        "       '피로_오전', '피로_오후', '피로_밤', '피로_하루종일','키', '몸무게', 'BMI', '이마둘레', '목둘레', '겨드랑이둘레', \n",
        "       '가슴둘레','허리둘레', '장골둘레', '곡골둘레', '수축기혈합', '이완기혈압', '수면시간(시간)_부족', '늑골둘레_low', \n",
        "       '늑골둘레_middle', '늑골둘레_high', '총콜레스테롤_nan', '중성지방_nan', '고밀도콜레스테롤_nan',\n",
        "       '저밀도콜레스테롤_nan', '혈당_log', '중성지방_log']]\n",
        "X.shape"
      ],
      "execution_count": 5,
      "outputs": [
        {
          "output_type": "execute_result",
          "data": {
            "text/plain": [
              "(500, 71)"
            ]
          },
          "metadata": {
            "tags": []
          },
          "execution_count": 5
        }
      ]
    },
    {
      "cell_type": "code",
      "metadata": {
        "id": "yoQdQKAAN631",
        "colab_type": "code",
        "colab": {
          "base_uri": "https://localhost:8080/",
          "height": 34
        },
        "outputId": "f74c145f-0988-4793-fc1a-04c4906c0b4c"
      },
      "source": [
        "y = df['한의사체질진단']\n",
        "y.shape"
      ],
      "execution_count": 6,
      "outputs": [
        {
          "output_type": "execute_result",
          "data": {
            "text/plain": [
              "(500,)"
            ]
          },
          "metadata": {
            "tags": []
          },
          "execution_count": 6
        }
      ]
    },
    {
      "cell_type": "code",
      "metadata": {
        "id": "WVwLkhx1N634",
        "colab_type": "code",
        "colab": {}
      },
      "source": [
        "# 사이킷런에서 제공하는 model_selection 의 train_test_split 으로 만듭니다.\n",
        "\n",
        "from sklearn.model_selection import train_test_split\n",
        "\n",
        "X_train, X_test, y_train, y_test = train_test_split(\n",
        "    X, y, test_size=0.2, random_state=42)"
      ],
      "execution_count": 7,
      "outputs": []
    },
    {
      "cell_type": "code",
      "metadata": {
        "id": "pXC-_Ho8N638",
        "colab_type": "code",
        "colab": {
          "base_uri": "https://localhost:8080/",
          "height": 34
        },
        "outputId": "d79714fc-c461-46d1-bcde-50055227f797"
      },
      "source": [
        "# train 세트의 문제와 정답의 데이터 수를 확인해 주세요.\n",
        "\n",
        "X_train.shape, y_train.shape"
      ],
      "execution_count": 8,
      "outputs": [
        {
          "output_type": "execute_result",
          "data": {
            "text/plain": [
              "((400, 71), (400,))"
            ]
          },
          "metadata": {
            "tags": []
          },
          "execution_count": 8
        }
      ]
    },
    {
      "cell_type": "code",
      "metadata": {
        "id": "xddTenOpN63_",
        "colab_type": "code",
        "colab": {
          "base_uri": "https://localhost:8080/",
          "height": 34
        },
        "outputId": "91d3d03d-9b58-44a0-f8b7-704095451a2a"
      },
      "source": [
        "# test 세트의 문제와 정답의 데이터 수를 확인해 주세요.\n",
        "\n",
        "X_test.shape, y_test.shape"
      ],
      "execution_count": 9,
      "outputs": [
        {
          "output_type": "execute_result",
          "data": {
            "text/plain": [
              "((100, 71), (100,))"
            ]
          },
          "metadata": {
            "tags": []
          },
          "execution_count": 9
        }
      ]
    },
    {
      "cell_type": "markdown",
      "metadata": {
        "id": "0n4DA8O3BI8U",
        "colab_type": "text"
      },
      "source": [
        "# 여러 개의 알고리즘을 사용해서 비교하기"
      ]
    },
    {
      "cell_type": "code",
      "metadata": {
        "id": "21BAJx2lBI8V",
        "colab_type": "code",
        "colab": {
          "base_uri": "https://localhost:8080/",
          "height": 425
        },
        "outputId": "d7ef36e1-da58-4e60-9d28-ec7771f7bf3c"
      },
      "source": [
        "from sklearn.tree import DecisionTreeClassifier\n",
        "from sklearn.ensemble import RandomForestClassifier, GradientBoostingClassifier\n",
        "\n",
        "estimators = [DecisionTreeClassifier(random_state=42),\n",
        "             RandomForestClassifier(random_state=42),\n",
        "             GradientBoostingClassifier(random_state=42)\n",
        "            ]\n",
        "estimators"
      ],
      "execution_count": 10,
      "outputs": [
        {
          "output_type": "execute_result",
          "data": {
            "text/plain": [
              "[DecisionTreeClassifier(ccp_alpha=0.0, class_weight=None, criterion='gini',\n",
              "                        max_depth=None, max_features=None, max_leaf_nodes=None,\n",
              "                        min_impurity_decrease=0.0, min_impurity_split=None,\n",
              "                        min_samples_leaf=1, min_samples_split=2,\n",
              "                        min_weight_fraction_leaf=0.0, presort='deprecated',\n",
              "                        random_state=42, splitter='best'),\n",
              " RandomForestClassifier(bootstrap=True, ccp_alpha=0.0, class_weight=None,\n",
              "                        criterion='gini', max_depth=None, max_features='auto',\n",
              "                        max_leaf_nodes=None, max_samples=None,\n",
              "                        min_impurity_decrease=0.0, min_impurity_split=None,\n",
              "                        min_samples_leaf=1, min_samples_split=2,\n",
              "                        min_weight_fraction_leaf=0.0, n_estimators=100,\n",
              "                        n_jobs=None, oob_score=False, random_state=42, verbose=0,\n",
              "                        warm_start=False),\n",
              " GradientBoostingClassifier(ccp_alpha=0.0, criterion='friedman_mse', init=None,\n",
              "                            learning_rate=0.1, loss='deviance', max_depth=3,\n",
              "                            max_features=None, max_leaf_nodes=None,\n",
              "                            min_impurity_decrease=0.0, min_impurity_split=None,\n",
              "                            min_samples_leaf=1, min_samples_split=2,\n",
              "                            min_weight_fraction_leaf=0.0, n_estimators=100,\n",
              "                            n_iter_no_change=None, presort='deprecated',\n",
              "                            random_state=42, subsample=1.0, tol=0.0001,\n",
              "                            validation_fraction=0.1, verbose=0,\n",
              "                            warm_start=False)]"
            ]
          },
          "metadata": {
            "tags": []
          },
          "execution_count": 10
        }
      ]
    },
    {
      "cell_type": "code",
      "metadata": {
        "id": "lK06VxYRBI8X",
        "colab_type": "code",
        "colab": {},
        "outputId": "e0b6e69d-a19d-45ad-c077-6d88f073417d"
      },
      "source": [
        "# max_depth = np.random.randint(2, 20, 10)\n",
        "# max_depth"
      ],
      "execution_count": null,
      "outputs": [
        {
          "output_type": "execute_result",
          "data": {
            "text/plain": [
              "array([ 9, 14, 10, 15, 12, 13, 19, 14, 14, 10])"
            ]
          },
          "metadata": {
            "tags": []
          },
          "execution_count": 11
        }
      ]
    },
    {
      "cell_type": "code",
      "metadata": {
        "id": "celYix5CBI8Z",
        "colab_type": "code",
        "colab": {},
        "outputId": "570df0c5-5656-4930-ca02-0c74bd188513"
      },
      "source": [
        "# max_features = np.random.uniform(0.3, 1.0, 10)\n",
        "# max_features"
      ],
      "execution_count": null,
      "outputs": [
        {
          "output_type": "execute_result",
          "data": {
            "text/plain": [
              "array([0.48973513, 0.5069293 , 0.64662576, 0.49227339, 0.59475933,\n",
              "       0.67377037, 0.32271838, 0.68039516, 0.89152585, 0.44009743])"
            ]
          },
          "metadata": {
            "tags": []
          },
          "execution_count": 12
        }
      ]
    },
    {
      "cell_type": "code",
      "metadata": {
        "id": "2eJFeiffBI8c",
        "colab_type": "code",
        "colab": {},
        "outputId": "b09039bb-8990-48a1-96be-556076b49e3b"
      },
      "source": [
        "# results = []\n",
        "# for estimator in estimators:\n",
        "#     result = []\n",
        "#     result.append(estimator.__class__.__name__)\n",
        "#     results.append(result)\n",
        "# results"
      ],
      "execution_count": null,
      "outputs": [
        {
          "output_type": "execute_result",
          "data": {
            "text/plain": [
              "[['DecisionTreeClassifier'],\n",
              " ['RandomForestClassifier'],\n",
              " ['GradientBoostingClassifier']]"
            ]
          },
          "metadata": {
            "tags": []
          },
          "execution_count": 13
        }
      ]
    },
    {
      "cell_type": "code",
      "metadata": {
        "id": "9HMd6e53BI8e",
        "colab_type": "code",
        "colab": {}
      },
      "source": [
        "# param_distributions[\"n_estimators\"] = np.random.randint(100, 1000, 10)\n",
        "# param_distributions"
      ],
      "execution_count": null,
      "outputs": []
    },
    {
      "cell_type": "code",
      "metadata": {
        "id": "lOgLwKywBI8i",
        "colab_type": "code",
        "colab": {
          "base_uri": "https://localhost:8080/",
          "height": 289
        },
        "outputId": "8c64394a-de3b-47e3-8999-970cda69e0a3"
      },
      "source": [
        "from sklearn.model_selection import RandomizedSearchCV\n",
        "\n",
        "## 이 셀 안에서 매번 다른 랜덤 값을 생성하기 위해, 위에서 작성한 코드를 여기다가 copy/paste함.\n",
        "max_depth = np.random.randint(2, 20, 10)\n",
        "max_features = np.random.uniform(0.3, 1.0, 10)\n",
        "\n",
        "param_distributions = {\"max_depth\": max_depth, \n",
        "                       \"max_features\": max_features}\n",
        "\n",
        "results = []\n",
        "for estimator in estimators:\n",
        "    result = []\n",
        "    if estimator.__class__.__name__ != 'DecisionTreeClassifier':\n",
        "      #n_estimators값(만드는 tree의 갯수)은 많으면 많을수록 좋다.\n",
        "        param_distributions[\"n_estimators\"] = np.random.randint(100, 200, 10)\n",
        "    \n",
        "    # trainset을 5번(cv값) 나눠서 총 100번(n_iter값) 돌려서, 최종적으로 500번 fit한다.\n",
        "    # n_iter와 n_jobs는 더 늘어날 수록 좋다.    \n",
        "    clf = RandomizedSearchCV(estimator, \n",
        "                       param_distributions, \n",
        "                       n_iter=100,\n",
        "                       scoring=\"accuracy\",\n",
        "                       n_jobs=-1,\n",
        "                       cv=5, \n",
        "                       verbose=2\n",
        "                      )\n",
        "\n",
        "    clf.fit(X_train, y_train)\n",
        "    #class name을 불러온다.\n",
        "    result.append(estimator.__class__.__name__)\n",
        "    #각 clf model별 best parameter\n",
        "    result.append(clf.best_params_)\n",
        "    #각 clf model별 best score\n",
        "    result.append(clf.best_score_)\n",
        "    #본 예제에서는 y_test의 값을 알기 때문에 score도 반복문에 넣어준다.\n",
        "    result.append(clf.score(X_test, y_test))\n",
        "    #각 clf.model별 cv 결과값\n",
        "    result.append(clf.cv_results_)\n",
        "    #각 모델들(리스트 형태)을 다시 results라는 이름의 리스트형태로 만들어준다.\n",
        "    results.append(result)"
      ],
      "execution_count": 11,
      "outputs": [
        {
          "output_type": "stream",
          "text": [
            "Fitting 5 folds for each of 100 candidates, totalling 500 fits\n"
          ],
          "name": "stdout"
        },
        {
          "output_type": "stream",
          "text": [
            "[Parallel(n_jobs=-1)]: Using backend LokyBackend with 2 concurrent workers.\n",
            "[Parallel(n_jobs=-1)]: Done 186 tasks      | elapsed:    2.8s\n",
            "[Parallel(n_jobs=-1)]: Done 500 out of 500 | elapsed:    4.6s finished\n",
            "[Parallel(n_jobs=-1)]: Using backend LokyBackend with 2 concurrent workers.\n"
          ],
          "name": "stderr"
        },
        {
          "output_type": "stream",
          "text": [
            "Fitting 5 folds for each of 100 candidates, totalling 500 fits\n"
          ],
          "name": "stdout"
        },
        {
          "output_type": "stream",
          "text": [
            "[Parallel(n_jobs=-1)]: Done  37 tasks      | elapsed:   13.7s\n",
            "[Parallel(n_jobs=-1)]: Done 158 tasks      | elapsed:   58.2s\n",
            "[Parallel(n_jobs=-1)]: Done 361 tasks      | elapsed:  2.3min\n",
            "[Parallel(n_jobs=-1)]: Done 500 out of 500 | elapsed:  3.3min finished\n"
          ],
          "name": "stderr"
        },
        {
          "output_type": "stream",
          "text": [
            "Fitting 5 folds for each of 100 candidates, totalling 500 fits\n"
          ],
          "name": "stdout"
        },
        {
          "output_type": "stream",
          "text": [
            "[Parallel(n_jobs=-1)]: Using backend LokyBackend with 2 concurrent workers.\n",
            "[Parallel(n_jobs=-1)]: Done  37 tasks      | elapsed:   38.8s\n",
            "[Parallel(n_jobs=-1)]: Done 158 tasks      | elapsed:  2.5min\n",
            "[Parallel(n_jobs=-1)]: Done 361 tasks      | elapsed:  5.6min\n",
            "[Parallel(n_jobs=-1)]: Done 500 out of 500 | elapsed:  7.8min finished\n"
          ],
          "name": "stderr"
        }
      ]
    },
    {
      "cell_type": "code",
      "metadata": {
        "id": "WJf17_SNBI8k",
        "colab_type": "code",
        "colab": {
          "base_uri": "https://localhost:8080/",
          "height": 176
        },
        "outputId": "916609b2-52b5-4973-c001-2ea5f3e56c94"
      },
      "source": [
        " df = pd.DataFrame(results, \n",
        "             columns=[\"estimator\", \"best_params\", \"train_score\", \"test_score\", \"cv_result\"])\n",
        "df\n",
        "# 아래의 best_params의 결과를 보고, 위의 np.random 범위를 수정해주면 더 좋은 parameter를 찾는 구간을 만들어 줄 수 있다."
      ],
      "execution_count": 12,
      "outputs": [
        {
          "output_type": "execute_result",
          "data": {
            "text/html": [
              "<div>\n",
              "<style scoped>\n",
              "    .dataframe tbody tr th:only-of-type {\n",
              "        vertical-align: middle;\n",
              "    }\n",
              "\n",
              "    .dataframe tbody tr th {\n",
              "        vertical-align: top;\n",
              "    }\n",
              "\n",
              "    .dataframe thead th {\n",
              "        text-align: right;\n",
              "    }\n",
              "</style>\n",
              "<table border=\"1\" class=\"dataframe\">\n",
              "  <thead>\n",
              "    <tr style=\"text-align: right;\">\n",
              "      <th></th>\n",
              "      <th>estimator</th>\n",
              "      <th>best_params</th>\n",
              "      <th>train_score</th>\n",
              "      <th>test_score</th>\n",
              "      <th>cv_result</th>\n",
              "    </tr>\n",
              "  </thead>\n",
              "  <tbody>\n",
              "    <tr>\n",
              "      <th>0</th>\n",
              "      <td>DecisionTreeClassifier</td>\n",
              "      <td>{'max_features': 0.31200985034133977, 'max_dep...</td>\n",
              "      <td>0.5375</td>\n",
              "      <td>0.50</td>\n",
              "      <td>{'mean_fit_time': [0.013177061080932617, 0.015...</td>\n",
              "    </tr>\n",
              "    <tr>\n",
              "      <th>1</th>\n",
              "      <td>RandomForestClassifier</td>\n",
              "      <td>{'n_estimators': 127, 'max_features': 0.312009...</td>\n",
              "      <td>0.5775</td>\n",
              "      <td>0.49</td>\n",
              "      <td>{'mean_fit_time': [0.8440663814544678, 0.63274...</td>\n",
              "    </tr>\n",
              "    <tr>\n",
              "      <th>2</th>\n",
              "      <td>GradientBoostingClassifier</td>\n",
              "      <td>{'n_estimators': 117, 'max_features': 0.453515...</td>\n",
              "      <td>0.5875</td>\n",
              "      <td>0.49</td>\n",
              "      <td>{'mean_fit_time': [1.8735479831695556, 1.93896...</td>\n",
              "    </tr>\n",
              "  </tbody>\n",
              "</table>\n",
              "</div>"
            ],
            "text/plain": [
              "                    estimator  ...                                          cv_result\n",
              "0      DecisionTreeClassifier  ...  {'mean_fit_time': [0.013177061080932617, 0.015...\n",
              "1      RandomForestClassifier  ...  {'mean_fit_time': [0.8440663814544678, 0.63274...\n",
              "2  GradientBoostingClassifier  ...  {'mean_fit_time': [1.8735479831695556, 1.93896...\n",
              "\n",
              "[3 rows x 5 columns]"
            ]
          },
          "metadata": {
            "tags": []
          },
          "execution_count": 12
        }
      ]
    },
    {
      "cell_type": "code",
      "metadata": {
        "id": "nQzMiRLNBI8m",
        "colab_type": "code",
        "colab": {
          "base_uri": "https://localhost:8080/",
          "height": 779
        },
        "outputId": "59c297da-9a46-4ca0-9ab5-b932f37af883"
      },
      "source": [
        "# 모델에 각각 접근하여 상위에 있는 모델 순서대로 보거나 정확한 parameter 설정 수치를 볼 수 있습니다.\n",
        "# test_score가 가장 높았던 DecisionTreeClassifier의 parameter 설정 수치를 봅니다.\n",
        "pd.DataFrame(df.loc[0, \"cv_result\"]).sort_values(by=\"rank_test_score\")"
      ],
      "execution_count": 14,
      "outputs": [
        {
          "output_type": "execute_result",
          "data": {
            "text/html": [
              "<div>\n",
              "<style scoped>\n",
              "    .dataframe tbody tr th:only-of-type {\n",
              "        vertical-align: middle;\n",
              "    }\n",
              "\n",
              "    .dataframe tbody tr th {\n",
              "        vertical-align: top;\n",
              "    }\n",
              "\n",
              "    .dataframe thead th {\n",
              "        text-align: right;\n",
              "    }\n",
              "</style>\n",
              "<table border=\"1\" class=\"dataframe\">\n",
              "  <thead>\n",
              "    <tr style=\"text-align: right;\">\n",
              "      <th></th>\n",
              "      <th>mean_fit_time</th>\n",
              "      <th>std_fit_time</th>\n",
              "      <th>mean_score_time</th>\n",
              "      <th>std_score_time</th>\n",
              "      <th>param_max_features</th>\n",
              "      <th>param_max_depth</th>\n",
              "      <th>params</th>\n",
              "      <th>split0_test_score</th>\n",
              "      <th>split1_test_score</th>\n",
              "      <th>split2_test_score</th>\n",
              "      <th>split3_test_score</th>\n",
              "      <th>split4_test_score</th>\n",
              "      <th>mean_test_score</th>\n",
              "      <th>std_test_score</th>\n",
              "      <th>rank_test_score</th>\n",
              "    </tr>\n",
              "  </thead>\n",
              "  <tbody>\n",
              "    <tr>\n",
              "      <th>35</th>\n",
              "      <td>0.005111</td>\n",
              "      <td>0.000183</td>\n",
              "      <td>0.001627</td>\n",
              "      <td>0.000034</td>\n",
              "      <td>0.31201</td>\n",
              "      <td>3</td>\n",
              "      <td>{'max_features': 0.31200985034133977, 'max_dep...</td>\n",
              "      <td>0.6000</td>\n",
              "      <td>0.4375</td>\n",
              "      <td>0.5375</td>\n",
              "      <td>0.5625</td>\n",
              "      <td>0.5500</td>\n",
              "      <td>0.5375</td>\n",
              "      <td>0.054199</td>\n",
              "      <td>1</td>\n",
              "    </tr>\n",
              "    <tr>\n",
              "      <th>15</th>\n",
              "      <td>0.005050</td>\n",
              "      <td>0.000154</td>\n",
              "      <td>0.001644</td>\n",
              "      <td>0.000106</td>\n",
              "      <td>0.31201</td>\n",
              "      <td>3</td>\n",
              "      <td>{'max_features': 0.31200985034133977, 'max_dep...</td>\n",
              "      <td>0.6000</td>\n",
              "      <td>0.4375</td>\n",
              "      <td>0.5375</td>\n",
              "      <td>0.5625</td>\n",
              "      <td>0.5500</td>\n",
              "      <td>0.5375</td>\n",
              "      <td>0.054199</td>\n",
              "      <td>1</td>\n",
              "    </tr>\n",
              "    <tr>\n",
              "      <th>41</th>\n",
              "      <td>0.005921</td>\n",
              "      <td>0.000477</td>\n",
              "      <td>0.001776</td>\n",
              "      <td>0.000152</td>\n",
              "      <td>0.756828</td>\n",
              "      <td>2</td>\n",
              "      <td>{'max_features': 0.7568284012113433, 'max_dept...</td>\n",
              "      <td>0.5625</td>\n",
              "      <td>0.5000</td>\n",
              "      <td>0.5125</td>\n",
              "      <td>0.5375</td>\n",
              "      <td>0.5625</td>\n",
              "      <td>0.5350</td>\n",
              "      <td>0.025495</td>\n",
              "      <td>3</td>\n",
              "    </tr>\n",
              "    <tr>\n",
              "      <th>48</th>\n",
              "      <td>0.006018</td>\n",
              "      <td>0.000978</td>\n",
              "      <td>0.001726</td>\n",
              "      <td>0.000119</td>\n",
              "      <td>0.717293</td>\n",
              "      <td>2</td>\n",
              "      <td>{'max_features': 0.7172927218512393, 'max_dept...</td>\n",
              "      <td>0.5875</td>\n",
              "      <td>0.4125</td>\n",
              "      <td>0.5125</td>\n",
              "      <td>0.5375</td>\n",
              "      <td>0.6125</td>\n",
              "      <td>0.5325</td>\n",
              "      <td>0.069642</td>\n",
              "      <td>4</td>\n",
              "    </tr>\n",
              "    <tr>\n",
              "      <th>43</th>\n",
              "      <td>0.006521</td>\n",
              "      <td>0.001820</td>\n",
              "      <td>0.001674</td>\n",
              "      <td>0.000045</td>\n",
              "      <td>0.771979</td>\n",
              "      <td>2</td>\n",
              "      <td>{'max_features': 0.7719785213558078, 'max_dept...</td>\n",
              "      <td>0.5875</td>\n",
              "      <td>0.4125</td>\n",
              "      <td>0.5125</td>\n",
              "      <td>0.5375</td>\n",
              "      <td>0.6000</td>\n",
              "      <td>0.5300</td>\n",
              "      <td>0.066895</td>\n",
              "      <td>5</td>\n",
              "    </tr>\n",
              "    <tr>\n",
              "      <th>...</th>\n",
              "      <td>...</td>\n",
              "      <td>...</td>\n",
              "      <td>...</td>\n",
              "      <td>...</td>\n",
              "      <td>...</td>\n",
              "      <td>...</td>\n",
              "      <td>...</td>\n",
              "      <td>...</td>\n",
              "      <td>...</td>\n",
              "      <td>...</td>\n",
              "      <td>...</td>\n",
              "      <td>...</td>\n",
              "      <td>...</td>\n",
              "      <td>...</td>\n",
              "      <td>...</td>\n",
              "    </tr>\n",
              "    <tr>\n",
              "      <th>98</th>\n",
              "      <td>0.010326</td>\n",
              "      <td>0.000301</td>\n",
              "      <td>0.001901</td>\n",
              "      <td>0.000101</td>\n",
              "      <td>0.717293</td>\n",
              "      <td>15</td>\n",
              "      <td>{'max_features': 0.7172927218512393, 'max_dept...</td>\n",
              "      <td>0.3500</td>\n",
              "      <td>0.3500</td>\n",
              "      <td>0.4125</td>\n",
              "      <td>0.4375</td>\n",
              "      <td>0.4375</td>\n",
              "      <td>0.3975</td>\n",
              "      <td>0.039843</td>\n",
              "      <td>96</td>\n",
              "    </tr>\n",
              "    <tr>\n",
              "      <th>58</th>\n",
              "      <td>0.010091</td>\n",
              "      <td>0.000188</td>\n",
              "      <td>0.001881</td>\n",
              "      <td>0.000028</td>\n",
              "      <td>0.717293</td>\n",
              "      <td>18</td>\n",
              "      <td>{'max_features': 0.7172927218512393, 'max_dept...</td>\n",
              "      <td>0.3500</td>\n",
              "      <td>0.3500</td>\n",
              "      <td>0.4125</td>\n",
              "      <td>0.4375</td>\n",
              "      <td>0.4375</td>\n",
              "      <td>0.3975</td>\n",
              "      <td>0.039843</td>\n",
              "      <td>96</td>\n",
              "    </tr>\n",
              "    <tr>\n",
              "      <th>6</th>\n",
              "      <td>0.013717</td>\n",
              "      <td>0.002799</td>\n",
              "      <td>0.002105</td>\n",
              "      <td>0.000328</td>\n",
              "      <td>0.836986</td>\n",
              "      <td>11</td>\n",
              "      <td>{'max_features': 0.8369861137675902, 'max_dept...</td>\n",
              "      <td>0.3375</td>\n",
              "      <td>0.4250</td>\n",
              "      <td>0.3500</td>\n",
              "      <td>0.4250</td>\n",
              "      <td>0.4375</td>\n",
              "      <td>0.3950</td>\n",
              "      <td>0.042279</td>\n",
              "      <td>98</td>\n",
              "    </tr>\n",
              "    <tr>\n",
              "      <th>55</th>\n",
              "      <td>0.007239</td>\n",
              "      <td>0.000117</td>\n",
              "      <td>0.001808</td>\n",
              "      <td>0.000122</td>\n",
              "      <td>0.31201</td>\n",
              "      <td>18</td>\n",
              "      <td>{'max_features': 0.31200985034133977, 'max_dep...</td>\n",
              "      <td>0.4250</td>\n",
              "      <td>0.3750</td>\n",
              "      <td>0.4500</td>\n",
              "      <td>0.3375</td>\n",
              "      <td>0.3500</td>\n",
              "      <td>0.3875</td>\n",
              "      <td>0.043301</td>\n",
              "      <td>99</td>\n",
              "    </tr>\n",
              "    <tr>\n",
              "      <th>95</th>\n",
              "      <td>0.007209</td>\n",
              "      <td>0.000095</td>\n",
              "      <td>0.001860</td>\n",
              "      <td>0.000122</td>\n",
              "      <td>0.31201</td>\n",
              "      <td>15</td>\n",
              "      <td>{'max_features': 0.31200985034133977, 'max_dep...</td>\n",
              "      <td>0.4250</td>\n",
              "      <td>0.3750</td>\n",
              "      <td>0.4500</td>\n",
              "      <td>0.3375</td>\n",
              "      <td>0.3500</td>\n",
              "      <td>0.3875</td>\n",
              "      <td>0.043301</td>\n",
              "      <td>99</td>\n",
              "    </tr>\n",
              "  </tbody>\n",
              "</table>\n",
              "<p>100 rows × 15 columns</p>\n",
              "</div>"
            ],
            "text/plain": [
              "    mean_fit_time  std_fit_time  ...  std_test_score  rank_test_score\n",
              "35       0.005111      0.000183  ...        0.054199                1\n",
              "15       0.005050      0.000154  ...        0.054199                1\n",
              "41       0.005921      0.000477  ...        0.025495                3\n",
              "48       0.006018      0.000978  ...        0.069642                4\n",
              "43       0.006521      0.001820  ...        0.066895                5\n",
              "..            ...           ...  ...             ...              ...\n",
              "98       0.010326      0.000301  ...        0.039843               96\n",
              "58       0.010091      0.000188  ...        0.039843               96\n",
              "6        0.013717      0.002799  ...        0.042279               98\n",
              "55       0.007239      0.000117  ...        0.043301               99\n",
              "95       0.007209      0.000095  ...        0.043301               99\n",
              "\n",
              "[100 rows x 15 columns]"
            ]
          },
          "metadata": {
            "tags": []
          },
          "execution_count": 14
        }
      ]
    },
    {
      "cell_type": "code",
      "metadata": {
        "id": "vUW1NmkxBI8o",
        "colab_type": "code",
        "colab": {}
      },
      "source": [
        "# 좋은 성능이 나오는 구간으로 계속 iteration을 돌릴 필요가 있습니다.\n",
        "# 하이퍼 파라미터 튜닝을 여러 번 할수록 좋은 성능을 얻을 수 있습니다"
      ],
      "execution_count": null,
      "outputs": []
    }
  ]
}