{
  "nbformat": 4,
  "nbformat_minor": 0,
  "metadata": {
    "colab": {
      "name": "KDC_optimal_model_parameter.ipynb",
      "provenance": [],
      "collapsed_sections": [],
      "toc_visible": true,
      "mount_file_id": "1wn46cu2c4hTc_9shfJhWvaWmyl3BUggL",
      "authorship_tag": "ABX9TyPGvb6z0x50T2f3PZtnheUB",
      "include_colab_link": true
    },
    "kernelspec": {
      "name": "python3",
      "display_name": "Python 3"
    },
    "accelerator": "GPU"
  },
  "cells": [
    {
      "cell_type": "markdown",
      "metadata": {
        "id": "view-in-github",
        "colab_type": "text"
      },
      "source": [
        "<a href=\"https://colab.research.google.com/github/HyeonhoonLee/KIOM_KDC/blob/master/KDC_optimal_model_parameter.ipynb\" target=\"_parent\"><img src=\"https://colab.research.google.com/assets/colab-badge.svg\" alt=\"Open In Colab\"/></a>"
      ]
    },
    {
      "cell_type": "markdown",
      "metadata": {
        "id": "KfySr4tmy-Fp",
        "colab_type": "text"
      },
      "source": [
        "#KIOM 한의임상정보은행 data 분석하기"
      ]
    },
    {
      "cell_type": "markdown",
      "metadata": {
        "id": "xL3NjWdMzSes",
        "colab_type": "text"
      },
      "source": [
        "일단 데이터를 추출해서 상관분석을 전부 돌려보자."
      ]
    },
    {
      "cell_type": "markdown",
      "metadata": {
        "id": "Qa_ie4wOzWKO",
        "colab_type": "text"
      },
      "source": [
        "# 라이브러리 로드"
      ]
    },
    {
      "cell_type": "code",
      "metadata": {
        "id": "EwRzY8iYzViA",
        "colab_type": "code",
        "colab": {
          "base_uri": "https://localhost:8080/",
          "height": 71
        },
        "outputId": "602e2346-079f-47b5-8724-b169d570f764"
      },
      "source": [
        "# 분석에 사용할 pandas, 수치계산에 사용할 numpy, 시각화에 사용할 seaborn 을 불러옵니다.\n",
        "# 또, 구 버전의 주피터 노트북에서는 %matplotlib inline 설정을 되어야 노트북 안에서 그래프를 시각화 합니다.\n",
        "\n",
        "import pandas as pd\n",
        "import numpy as np\n",
        "import seaborn as sns\n",
        "import matplotlib.pyplot as plt\n",
        "\n",
        "%matplotlib inline"
      ],
      "execution_count": 1,
      "outputs": [
        {
          "output_type": "stream",
          "text": [
            "/usr/local/lib/python3.6/dist-packages/statsmodels/tools/_testing.py:19: FutureWarning: pandas.util.testing is deprecated. Use the functions in the public API at pandas.testing instead.\n",
            "  import pandas.util.testing as tm\n"
          ],
          "name": "stderr"
        }
      ]
    },
    {
      "cell_type": "markdown",
      "metadata": {
        "id": "f8637B8jz4Cf",
        "colab_type": "text"
      },
      "source": [
        "#한글 폰트 설정"
      ]
    },
    {
      "cell_type": "code",
      "metadata": {
        "id": "MuCE-WRyz3Zb",
        "colab_type": "code",
        "colab": {
          "base_uri": "https://localhost:8080/",
          "height": 68
        },
        "outputId": "bd9814ba-d613-4cc5-ae27-0c2b0849c2ce"
      },
      "source": [
        "# Google Colab 사용 시 아래 주석을 풀고 폰트설정을 합니다.\n",
        "# 로컬 아나콘다 사용 시에는 그대로 주석처리 해놓으시면 됩니다.\n",
        "# 나눔고딕 설치\n",
        "# 이 코드를 사용시 아래에 있는 폰트를 로드할 경우 colab에서는 오류가 발생하니\n",
        "# 아래에 있는 폰트 설정은 꼭 주석처리를 해주세요. \n",
        "!apt -qq -y install fonts-nanum > /dev/null\n",
        "\n",
        "import matplotlib.font_manager as fm\n",
        "\n",
        "fontpath = '/usr/share/fonts/truetype/nanum/NanumGothic.ttf'\n",
        "font = fm.FontProperties(fname=fontpath, size=9)\n",
        "\n",
        "fm._rebuild()\n",
        "\n",
        "# Colab 의 한글 폰트 설정\n",
        "plt.rc('font', family='NanumGothic') \n",
        "# 마이너스 폰트 깨지는 문제에 대한 대처\n",
        "plt.rc(\"axes\", unicode_minus=False)"
      ],
      "execution_count": 2,
      "outputs": [
        {
          "output_type": "stream",
          "text": [
            "\n",
            "WARNING: apt does not have a stable CLI interface. Use with caution in scripts.\n",
            "\n"
          ],
          "name": "stdout"
        }
      ]
    },
    {
      "cell_type": "code",
      "metadata": {
        "id": "Y3Vgi7uv0JY8",
        "colab_type": "code",
        "colab": {}
      },
      "source": [
        "# 레티나 설정을 해주면 글씨가 좀 더 선명하게 보입니다.\n",
        "# 폰트의 주변이 흐릿하게 보이는 것을 방지합니다.\n",
        "%config InlineBackend.figure_format = 'retina'"
      ],
      "execution_count": 3,
      "outputs": []
    },
    {
      "cell_type": "markdown",
      "metadata": {
        "id": "vvJsc7_L0SmJ",
        "colab_type": "text"
      },
      "source": [
        "#데이터 불러오기"
      ]
    },
    {
      "cell_type": "markdown",
      "metadata": {
        "id": "zW1fFVyF0adL",
        "colab_type": "text"
      },
      "source": [
        "- 데이터 로드 주소: https://www.data.go.kr/data/3072201/fileData.do\n",
        "- 임상정보은행 사이트에서 상세이용방법 확인가능 (https://kdc.kiom.re.kr/html/?pmode=subpage&MMC_pid=200&spSeq=22)"
      ]
    },
    {
      "cell_type": "code",
      "metadata": {
        "id": "2vBVJzbB0R1v",
        "colab_type": "code",
        "colab": {
          "base_uri": "https://localhost:8080/",
          "height": 34
        },
        "outputId": "bc97fd14-1237-4edf-e22b-c888d10a1350"
      },
      "source": [
        "# 다운로드 받은 파일을 판다스의 read_csv 를 통해 읽어옵니다.\n",
        "# 파일을 읽어온 후 shape 로 행과 열의 수를 출력합니다.\n",
        "\n",
        "##새로만든 csv에는 인코딩을 따로 지정하지 않아도된다.\n",
        "df = pd.read_csv(\"/content/drive/My Drive/DataCollection/KIOM_KDC/data/KDC_feature.csv\")\n",
        "df.shape"
      ],
      "execution_count": 4,
      "outputs": [
        {
          "output_type": "execute_result",
          "data": {
            "text/plain": [
              "(500, 82)"
            ]
          },
          "metadata": {
            "tags": []
          },
          "execution_count": 4
        }
      ]
    },
    {
      "cell_type": "code",
      "metadata": {
        "id": "eoa2FXhjzx4F",
        "colab_type": "code",
        "colab": {
          "base_uri": "https://localhost:8080/",
          "height": 457
        },
        "outputId": "c8150f83-ee9d-40cb-a1a5-73ac35462d73"
      },
      "source": [
        "# sample, head, tail을 통해 데이터를 미리보기 합니다.\n",
        "df.head()"
      ],
      "execution_count": 5,
      "outputs": [
        {
          "output_type": "execute_result",
          "data": {
            "text/html": [
              "<div>\n",
              "<style scoped>\n",
              "    .dataframe tbody tr th:only-of-type {\n",
              "        vertical-align: middle;\n",
              "    }\n",
              "\n",
              "    .dataframe tbody tr th {\n",
              "        vertical-align: top;\n",
              "    }\n",
              "\n",
              "    .dataframe thead th {\n",
              "        text-align: right;\n",
              "    }\n",
              "</style>\n",
              "<table border=\"1\" class=\"dataframe\">\n",
              "  <thead>\n",
              "    <tr style=\"text-align: right;\">\n",
              "      <th></th>\n",
              "      <th>대상자식별코드</th>\n",
              "      <th>성별</th>\n",
              "      <th>만나이</th>\n",
              "      <th>직업분류</th>\n",
              "      <th>학력</th>\n",
              "      <th>결혼유무</th>\n",
              "      <th>성격_대범_섬세</th>\n",
              "      <th>성격_행동빠름_행동느림</th>\n",
              "      <th>성격_적극_소극</th>\n",
              "      <th>성격_직접_간접</th>\n",
              "      <th>성격_포기빠름_포기느림</th>\n",
              "      <th>성격_외향_내성</th>\n",
              "      <th>성격_동적_정적</th>\n",
              "      <th>성격_쉽게_어렵게</th>\n",
              "      <th>성격_남성적_여성적</th>\n",
              "      <th>성격_참을성부족_잘찾음</th>\n",
              "      <th>성격_큰편_적은편</th>\n",
              "      <th>성격_잘드러냄_안드러냄</th>\n",
              "      <th>성격_잘표현_표현안하는편</th>\n",
              "      <th>성격_가끔흥분_이성적</th>\n",
              "      <th>성격_덜렁_꼼꼼</th>\n",
              "      <th>식사량</th>\n",
              "      <th>식사속도</th>\n",
              "      <th>소화여부</th>\n",
              "      <th>소화입맛</th>\n",
              "      <th>땀정도</th>\n",
              "      <th>땀기분</th>\n",
              "      <th>대변습관</th>\n",
              "      <th>대변굳기</th>\n",
              "      <th>배변시긴박감</th>\n",
              "      <th>배변후잔변감</th>\n",
              "      <th>소변야간뇨</th>\n",
              "      <th>한열민감도</th>\n",
              "      <th>한열손부위</th>\n",
              "      <th>한열발부위</th>\n",
              "      <th>한열배부위</th>\n",
              "      <th>음수정도</th>\n",
              "      <th>음수온다</th>\n",
              "      <th>한열점수</th>\n",
              "      <th>한열그룹</th>\n",
              "      <th>...</th>\n",
              "      <th>고지혈증_진단</th>\n",
              "      <th>일반건강</th>\n",
              "      <th>수면시간(시간)</th>\n",
              "      <th>수면시간(분)</th>\n",
              "      <th>피로정도</th>\n",
              "      <th>피로_기상시</th>\n",
              "      <th>피로_오전</th>\n",
              "      <th>피로_오후</th>\n",
              "      <th>피로_밤</th>\n",
              "      <th>피로_하루종일</th>\n",
              "      <th>한의사체질진단</th>\n",
              "      <th>키</th>\n",
              "      <th>몸무게</th>\n",
              "      <th>BMI</th>\n",
              "      <th>이마둘레</th>\n",
              "      <th>목둘레</th>\n",
              "      <th>겨드랑이둘레</th>\n",
              "      <th>가슴둘레</th>\n",
              "      <th>늑골둘레</th>\n",
              "      <th>허리둘레</th>\n",
              "      <th>장골둘레</th>\n",
              "      <th>곡골둘레</th>\n",
              "      <th>수축기혈합</th>\n",
              "      <th>이완기혈압</th>\n",
              "      <th>혈당</th>\n",
              "      <th>총콜레스테롤</th>\n",
              "      <th>중성지방</th>\n",
              "      <th>고밀도콜레스테롤</th>\n",
              "      <th>저밀도콜레스테롤</th>\n",
              "      <th>수면시간(시간)_부족</th>\n",
              "      <th>늑골둘레_low</th>\n",
              "      <th>늑골둘레_middle</th>\n",
              "      <th>늑골둘레_high</th>\n",
              "      <th>혈당_nan</th>\n",
              "      <th>총콜레스테롤_nan</th>\n",
              "      <th>중성지방_nan</th>\n",
              "      <th>고밀도콜레스테롤_nan</th>\n",
              "      <th>저밀도콜레스테롤_nan</th>\n",
              "      <th>혈당_log</th>\n",
              "      <th>중성지방_log</th>\n",
              "    </tr>\n",
              "  </thead>\n",
              "  <tbody>\n",
              "    <tr>\n",
              "      <th>0</th>\n",
              "      <td>KDCT00001</td>\n",
              "      <td>2</td>\n",
              "      <td>0.036746</td>\n",
              "      <td>2</td>\n",
              "      <td>5</td>\n",
              "      <td>2</td>\n",
              "      <td>2</td>\n",
              "      <td>2</td>\n",
              "      <td>1</td>\n",
              "      <td>2</td>\n",
              "      <td>1</td>\n",
              "      <td>1</td>\n",
              "      <td>1.0</td>\n",
              "      <td>2.0</td>\n",
              "      <td>2</td>\n",
              "      <td>3</td>\n",
              "      <td>2</td>\n",
              "      <td>2</td>\n",
              "      <td>2</td>\n",
              "      <td>1</td>\n",
              "      <td>1</td>\n",
              "      <td>2.000000</td>\n",
              "      <td>2.0</td>\n",
              "      <td>1</td>\n",
              "      <td>3</td>\n",
              "      <td>3</td>\n",
              "      <td>1.0</td>\n",
              "      <td>1</td>\n",
              "      <td>2</td>\n",
              "      <td>2.490637</td>\n",
              "      <td>2.314607</td>\n",
              "      <td>1.0</td>\n",
              "      <td>1</td>\n",
              "      <td>2</td>\n",
              "      <td>2</td>\n",
              "      <td>2</td>\n",
              "      <td>2.0</td>\n",
              "      <td>2</td>\n",
              "      <td>12.0</td>\n",
              "      <td>2.0</td>\n",
              "      <td>...</td>\n",
              "      <td>1</td>\n",
              "      <td>3.0</td>\n",
              "      <td>5</td>\n",
              "      <td>0</td>\n",
              "      <td>2</td>\n",
              "      <td>0</td>\n",
              "      <td>0</td>\n",
              "      <td>0</td>\n",
              "      <td>1</td>\n",
              "      <td>0</td>\n",
              "      <td>2</td>\n",
              "      <td>-0.372588</td>\n",
              "      <td>-0.551481</td>\n",
              "      <td>-0.421862</td>\n",
              "      <td>-1.411128</td>\n",
              "      <td>-0.532671</td>\n",
              "      <td>0.266128</td>\n",
              "      <td>0.606435</td>\n",
              "      <td>89.0</td>\n",
              "      <td>-0.140773</td>\n",
              "      <td>0.167260</td>\n",
              "      <td>0.414628</td>\n",
              "      <td>0.017181</td>\n",
              "      <td>0.342702</td>\n",
              "      <td>0.220807</td>\n",
              "      <td>0.964152</td>\n",
              "      <td>-0.652711</td>\n",
              "      <td>0.941597</td>\n",
              "      <td>0.672927</td>\n",
              "      <td>1.542199</td>\n",
              "      <td>-0.376235</td>\n",
              "      <td>-1.040833</td>\n",
              "      <td>1.344987</td>\n",
              "      <td>0.219656</td>\n",
              "      <td>0.963293</td>\n",
              "      <td>-0.652738</td>\n",
              "      <td>0.937537</td>\n",
              "      <td>0.671852</td>\n",
              "      <td>4.653960</td>\n",
              "      <td>4.290459</td>\n",
              "    </tr>\n",
              "    <tr>\n",
              "      <th>1</th>\n",
              "      <td>KDCT00002</td>\n",
              "      <td>2</td>\n",
              "      <td>2.013834</td>\n",
              "      <td>14</td>\n",
              "      <td>3</td>\n",
              "      <td>2</td>\n",
              "      <td>1</td>\n",
              "      <td>1</td>\n",
              "      <td>1</td>\n",
              "      <td>1</td>\n",
              "      <td>1</td>\n",
              "      <td>1</td>\n",
              "      <td>1.0</td>\n",
              "      <td>2.0</td>\n",
              "      <td>1</td>\n",
              "      <td>3</td>\n",
              "      <td>1</td>\n",
              "      <td>1</td>\n",
              "      <td>1</td>\n",
              "      <td>1</td>\n",
              "      <td>3</td>\n",
              "      <td>2.000000</td>\n",
              "      <td>2.0</td>\n",
              "      <td>1</td>\n",
              "      <td>3</td>\n",
              "      <td>1</td>\n",
              "      <td>2.0</td>\n",
              "      <td>1</td>\n",
              "      <td>2</td>\n",
              "      <td>2.490637</td>\n",
              "      <td>2.314607</td>\n",
              "      <td>1.0</td>\n",
              "      <td>2</td>\n",
              "      <td>2</td>\n",
              "      <td>2</td>\n",
              "      <td>2</td>\n",
              "      <td>2.0</td>\n",
              "      <td>3</td>\n",
              "      <td>13.0</td>\n",
              "      <td>3.0</td>\n",
              "      <td>...</td>\n",
              "      <td>1</td>\n",
              "      <td>3.0</td>\n",
              "      <td>5</td>\n",
              "      <td>0</td>\n",
              "      <td>4</td>\n",
              "      <td>0</td>\n",
              "      <td>0</td>\n",
              "      <td>1</td>\n",
              "      <td>0</td>\n",
              "      <td>0</td>\n",
              "      <td>3</td>\n",
              "      <td>-0.748940</td>\n",
              "      <td>0.221659</td>\n",
              "      <td>0.869741</td>\n",
              "      <td>1.713833</td>\n",
              "      <td>0.077630</td>\n",
              "      <td>0.774588</td>\n",
              "      <td>1.211515</td>\n",
              "      <td>93.0</td>\n",
              "      <td>0.909300</td>\n",
              "      <td>0.814851</td>\n",
              "      <td>0.871402</td>\n",
              "      <td>0.267996</td>\n",
              "      <td>-1.005102</td>\n",
              "      <td>0.453146</td>\n",
              "      <td>0.376917</td>\n",
              "      <td>-0.343301</td>\n",
              "      <td>-0.196630</td>\n",
              "      <td>0.210896</td>\n",
              "      <td>1.542199</td>\n",
              "      <td>-0.376235</td>\n",
              "      <td>-1.040833</td>\n",
              "      <td>1.344987</td>\n",
              "      <td>0.451957</td>\n",
              "      <td>0.376095</td>\n",
              "      <td>-0.343379</td>\n",
              "      <td>-0.199521</td>\n",
              "      <td>0.209862</td>\n",
              "      <td>4.709530</td>\n",
              "      <td>4.584967</td>\n",
              "    </tr>\n",
              "    <tr>\n",
              "      <th>2</th>\n",
              "      <td>KDCT00003</td>\n",
              "      <td>1</td>\n",
              "      <td>0.119384</td>\n",
              "      <td>3</td>\n",
              "      <td>3</td>\n",
              "      <td>2</td>\n",
              "      <td>3</td>\n",
              "      <td>1</td>\n",
              "      <td>1</td>\n",
              "      <td>1</td>\n",
              "      <td>1</td>\n",
              "      <td>1</td>\n",
              "      <td>1.0</td>\n",
              "      <td>1.0</td>\n",
              "      <td>1</td>\n",
              "      <td>2</td>\n",
              "      <td>1</td>\n",
              "      <td>1</td>\n",
              "      <td>1</td>\n",
              "      <td>1</td>\n",
              "      <td>3</td>\n",
              "      <td>3.000000</td>\n",
              "      <td>2.0</td>\n",
              "      <td>3</td>\n",
              "      <td>2</td>\n",
              "      <td>3</td>\n",
              "      <td>1.0</td>\n",
              "      <td>1</td>\n",
              "      <td>2</td>\n",
              "      <td>2.490637</td>\n",
              "      <td>2.314607</td>\n",
              "      <td>1.0</td>\n",
              "      <td>3</td>\n",
              "      <td>2</td>\n",
              "      <td>3</td>\n",
              "      <td>2</td>\n",
              "      <td>2.0</td>\n",
              "      <td>2</td>\n",
              "      <td>12.0</td>\n",
              "      <td>2.0</td>\n",
              "      <td>...</td>\n",
              "      <td>1</td>\n",
              "      <td>3.0</td>\n",
              "      <td>7</td>\n",
              "      <td>0</td>\n",
              "      <td>2</td>\n",
              "      <td>0</td>\n",
              "      <td>0</td>\n",
              "      <td>1</td>\n",
              "      <td>0</td>\n",
              "      <td>0</td>\n",
              "      <td>2</td>\n",
              "      <td>-0.121687</td>\n",
              "      <td>-0.164911</td>\n",
              "      <td>-0.114338</td>\n",
              "      <td>0.672179</td>\n",
              "      <td>0.687931</td>\n",
              "      <td>0.647473</td>\n",
              "      <td>-0.119661</td>\n",
              "      <td>83.0</td>\n",
              "      <td>-0.350787</td>\n",
              "      <td>-1.127923</td>\n",
              "      <td>-1.869239</td>\n",
              "      <td>0.079885</td>\n",
              "      <td>-0.106566</td>\n",
              "      <td>-0.747269</td>\n",
              "      <td>0.876066</td>\n",
              "      <td>-0.454689</td>\n",
              "      <td>0.047276</td>\n",
              "      <td>0.804936</td>\n",
              "      <td>-0.648425</td>\n",
              "      <td>-0.376235</td>\n",
              "      <td>0.960769</td>\n",
              "      <td>-0.743502</td>\n",
              "      <td>-0.748265</td>\n",
              "      <td>0.875213</td>\n",
              "      <td>-0.454748</td>\n",
              "      <td>0.044134</td>\n",
              "      <td>0.803849</td>\n",
              "      <td>4.382027</td>\n",
              "      <td>4.488636</td>\n",
              "    </tr>\n",
              "    <tr>\n",
              "      <th>3</th>\n",
              "      <td>KDCT00004</td>\n",
              "      <td>2</td>\n",
              "      <td>0.152821</td>\n",
              "      <td>14</td>\n",
              "      <td>4</td>\n",
              "      <td>2</td>\n",
              "      <td>1</td>\n",
              "      <td>1</td>\n",
              "      <td>1</td>\n",
              "      <td>1</td>\n",
              "      <td>1</td>\n",
              "      <td>1</td>\n",
              "      <td>1.0</td>\n",
              "      <td>2.0</td>\n",
              "      <td>1</td>\n",
              "      <td>1</td>\n",
              "      <td>1</td>\n",
              "      <td>2</td>\n",
              "      <td>1</td>\n",
              "      <td>1</td>\n",
              "      <td>2</td>\n",
              "      <td>2.078385</td>\n",
              "      <td>1.0</td>\n",
              "      <td>3</td>\n",
              "      <td>2</td>\n",
              "      <td>2</td>\n",
              "      <td>3.0</td>\n",
              "      <td>2</td>\n",
              "      <td>2</td>\n",
              "      <td>2.490637</td>\n",
              "      <td>2.314607</td>\n",
              "      <td>1.0</td>\n",
              "      <td>2</td>\n",
              "      <td>2</td>\n",
              "      <td>2</td>\n",
              "      <td>2</td>\n",
              "      <td>1.0</td>\n",
              "      <td>2</td>\n",
              "      <td>15.0</td>\n",
              "      <td>3.0</td>\n",
              "      <td>...</td>\n",
              "      <td>1</td>\n",
              "      <td>4.0</td>\n",
              "      <td>7</td>\n",
              "      <td>0</td>\n",
              "      <td>4</td>\n",
              "      <td>0</td>\n",
              "      <td>0</td>\n",
              "      <td>1</td>\n",
              "      <td>0</td>\n",
              "      <td>0</td>\n",
              "      <td>2</td>\n",
              "      <td>0.505566</td>\n",
              "      <td>1.478013</td>\n",
              "      <td>1.392533</td>\n",
              "      <td>1.713833</td>\n",
              "      <td>0.687931</td>\n",
              "      <td>1.283048</td>\n",
              "      <td>1.574564</td>\n",
              "      <td>90.0</td>\n",
              "      <td>0.804292</td>\n",
              "      <td>0.555815</td>\n",
              "      <td>0.871402</td>\n",
              "      <td>-0.421745</td>\n",
              "      <td>0.432555</td>\n",
              "      <td>0.065915</td>\n",
              "      <td>0.934790</td>\n",
              "      <td>0.139377</td>\n",
              "      <td>-0.359233</td>\n",
              "      <td>0.936945</td>\n",
              "      <td>-0.648425</td>\n",
              "      <td>-0.376235</td>\n",
              "      <td>-1.040833</td>\n",
              "      <td>1.344987</td>\n",
              "      <td>0.064789</td>\n",
              "      <td>0.933933</td>\n",
              "      <td>0.139222</td>\n",
              "      <td>-0.361958</td>\n",
              "      <td>0.935846</td>\n",
              "      <td>4.615121</td>\n",
              "      <td>4.919981</td>\n",
              "    </tr>\n",
              "    <tr>\n",
              "      <th>4</th>\n",
              "      <td>KDCT00005</td>\n",
              "      <td>1</td>\n",
              "      <td>0.093090</td>\n",
              "      <td>8</td>\n",
              "      <td>2</td>\n",
              "      <td>2</td>\n",
              "      <td>3</td>\n",
              "      <td>2</td>\n",
              "      <td>3</td>\n",
              "      <td>2</td>\n",
              "      <td>2</td>\n",
              "      <td>3</td>\n",
              "      <td>2.0</td>\n",
              "      <td>2.0</td>\n",
              "      <td>2</td>\n",
              "      <td>3</td>\n",
              "      <td>3</td>\n",
              "      <td>2</td>\n",
              "      <td>2</td>\n",
              "      <td>2</td>\n",
              "      <td>1</td>\n",
              "      <td>2.000000</td>\n",
              "      <td>1.0</td>\n",
              "      <td>1</td>\n",
              "      <td>3</td>\n",
              "      <td>1</td>\n",
              "      <td>2.0</td>\n",
              "      <td>1</td>\n",
              "      <td>2</td>\n",
              "      <td>2.490637</td>\n",
              "      <td>2.314607</td>\n",
              "      <td>0.0</td>\n",
              "      <td>1</td>\n",
              "      <td>3</td>\n",
              "      <td>3</td>\n",
              "      <td>2</td>\n",
              "      <td>1.0</td>\n",
              "      <td>2</td>\n",
              "      <td>11.0</td>\n",
              "      <td>2.0</td>\n",
              "      <td>...</td>\n",
              "      <td>1</td>\n",
              "      <td>2.0</td>\n",
              "      <td>5</td>\n",
              "      <td>0</td>\n",
              "      <td>4</td>\n",
              "      <td>0</td>\n",
              "      <td>0</td>\n",
              "      <td>1</td>\n",
              "      <td>0</td>\n",
              "      <td>0</td>\n",
              "      <td>1</td>\n",
              "      <td>0.505566</td>\n",
              "      <td>0.898158</td>\n",
              "      <td>0.715979</td>\n",
              "      <td>2.234660</td>\n",
              "      <td>1.603383</td>\n",
              "      <td>2.045738</td>\n",
              "      <td>1.332531</td>\n",
              "      <td>99.0</td>\n",
              "      <td>1.539343</td>\n",
              "      <td>1.073888</td>\n",
              "      <td>1.023660</td>\n",
              "      <td>0.581515</td>\n",
              "      <td>-0.376127</td>\n",
              "      <td>-0.243870</td>\n",
              "      <td>-0.004785</td>\n",
              "      <td>-0.788851</td>\n",
              "      <td>-1.253554</td>\n",
              "      <td>0.342905</td>\n",
              "      <td>1.542199</td>\n",
              "      <td>-0.376235</td>\n",
              "      <td>-1.040833</td>\n",
              "      <td>1.344987</td>\n",
              "      <td>-0.244946</td>\n",
              "      <td>-0.005584</td>\n",
              "      <td>-0.788856</td>\n",
              "      <td>-1.255361</td>\n",
              "      <td>0.341859</td>\n",
              "      <td>4.532599</td>\n",
              "      <td>4.127134</td>\n",
              "    </tr>\n",
              "  </tbody>\n",
              "</table>\n",
              "<p>5 rows × 82 columns</p>\n",
              "</div>"
            ],
            "text/plain": [
              "     대상자식별코드  성별       만나이  ...  저밀도콜레스테롤_nan    혈당_log  중성지방_log\n",
              "0  KDCT00001   2  0.036746  ...      0.671852  4.653960  4.290459\n",
              "1  KDCT00002   2  2.013834  ...      0.209862  4.709530  4.584967\n",
              "2  KDCT00003   1  0.119384  ...      0.803849  4.382027  4.488636\n",
              "3  KDCT00004   2  0.152821  ...      0.935846  4.615121  4.919981\n",
              "4  KDCT00005   1  0.093090  ...      0.341859  4.532599  4.127134\n",
              "\n",
              "[5 rows x 82 columns]"
            ]
          },
          "metadata": {
            "tags": []
          },
          "execution_count": 5
        }
      ]
    },
    {
      "cell_type": "markdown",
      "metadata": {
        "id": "MriYZbDiN63v",
        "colab_type": "text"
      },
      "source": [
        "# 학습과 예측에 사용할 데이터셋 만들기"
      ]
    },
    {
      "cell_type": "code",
      "metadata": {
        "id": "wPzxcRfLN63v",
        "colab_type": "code",
        "colab": {
          "base_uri": "https://localhost:8080/",
          "height": 255
        },
        "outputId": "109179c6-6bd5-4c51-d6ed-51b00be28767"
      },
      "source": [
        "df.columns"
      ],
      "execution_count": 6,
      "outputs": [
        {
          "output_type": "execute_result",
          "data": {
            "text/plain": [
              "Index(['대상자식별코드', '성별', '만나이', '직업분류', '학력', '결혼유무', '성격_대범_섬세',\n",
              "       '성격_행동빠름_행동느림', '성격_적극_소극', '성격_직접_간접', '성격_포기빠름_포기느림', '성격_외향_내성',\n",
              "       '성격_동적_정적', '성격_쉽게_어렵게', '성격_남성적_여성적', '성격_참을성부족_잘찾음', '성격_큰편_적은편',\n",
              "       '성격_잘드러냄_안드러냄', '성격_잘표현_표현안하는편', '성격_가끔흥분_이성적', '성격_덜렁_꼼꼼', '식사량',\n",
              "       '식사속도', '소화여부', '소화입맛', '땀정도', '땀기분', '대변습관', '대변굳기', '배변시긴박감',\n",
              "       '배변후잔변감', '소변야간뇨', '한열민감도', '한열손부위', '한열발부위', '한열배부위', '음수정도', '음수온다',\n",
              "       '한열점수', '한열그룹', '고혈압_진단', '당뇨_진단', '고지혈증_진단', '일반건강', '수면시간(시간)',\n",
              "       '수면시간(분)', '피로정도', '피로_기상시', '피로_오전', '피로_오후', '피로_밤', '피로_하루종일',\n",
              "       '한의사체질진단', '키', '몸무게', 'BMI', '이마둘레', '목둘레', '겨드랑이둘레', '가슴둘레', '늑골둘레',\n",
              "       '허리둘레', '장골둘레', '곡골둘레', '수축기혈합', '이완기혈압', '혈당', '총콜레스테롤', '중성지방',\n",
              "       '고밀도콜레스테롤', '저밀도콜레스테롤', '수면시간(시간)_부족', '늑골둘레_low', '늑골둘레_middle',\n",
              "       '늑골둘레_high', '혈당_nan', '총콜레스테롤_nan', '중성지방_nan', '고밀도콜레스테롤_nan',\n",
              "       '저밀도콜레스테롤_nan', '혈당_log', '중성지방_log'],\n",
              "      dtype='object')"
            ]
          },
          "metadata": {
            "tags": []
          },
          "execution_count": 6
        }
      ]
    },
    {
      "cell_type": "code",
      "metadata": {
        "id": "8Jj7o62GN63z",
        "colab_type": "code",
        "colab": {
          "base_uri": "https://localhost:8080/",
          "height": 34
        },
        "outputId": "a5a73796-17e5-4d6d-b38f-c5a803e32817"
      },
      "source": [
        "# 이 중 feature engineeringd에서 score가 괜찮았던 것만 고른다.\n",
        "# 즉, train에 사용할 column명만 가져온다.\n",
        "X = df[['성별', '만나이', '직업분류', '학력', '결혼유무', '성격_대범_섬세',\n",
        "       '성격_행동빠름_행동느림', '성격_적극_소극', '성격_직접_간접', '성격_포기빠름_포기느림', '성격_외향_내성',\n",
        "       '성격_동적_정적', '성격_쉽게_어렵게', '성격_남성적_여성적', '성격_참을성부족_잘찾음', '성격_큰편_적은편',\n",
        "       '성격_잘드러냄_안드러냄', '성격_잘표현_표현안하는편', '성격_가끔흥분_이성적', '성격_덜렁_꼼꼼', '식사량',\n",
        "       '식사속도', '소화여부', '소화입맛', '땀정도', '땀기분', '대변습관', '대변굳기', '배변시긴박감',\n",
        "       '배변후잔변감', '소변야간뇨', '한열민감도', '한열손부위', '한열발부위', '한열배부위', '음수정도', '음수온다',\n",
        "       '한열점수', '한열그룹', '고혈압_진단', '당뇨_진단', '고지혈증_진단', '일반건강', '피로정도', '피로_기상시', \n",
        "       '피로_오전', '피로_오후', '피로_밤', '피로_하루종일','키', '몸무게', 'BMI', '이마둘레', '목둘레', '겨드랑이둘레', \n",
        "       '가슴둘레','허리둘레', '장골둘레', '곡골둘레', '수축기혈합', '이완기혈압', '수면시간(시간)_부족', '늑골둘레_low', \n",
        "       '늑골둘레_middle', '늑골둘레_high', '총콜레스테롤_nan', '중성지방_nan', '고밀도콜레스테롤_nan',\n",
        "       '저밀도콜레스테롤_nan', '혈당_log', '중성지방_log']]\n",
        "X.shape"
      ],
      "execution_count": 7,
      "outputs": [
        {
          "output_type": "execute_result",
          "data": {
            "text/plain": [
              "(500, 71)"
            ]
          },
          "metadata": {
            "tags": []
          },
          "execution_count": 7
        }
      ]
    },
    {
      "cell_type": "code",
      "metadata": {
        "id": "yoQdQKAAN631",
        "colab_type": "code",
        "colab": {
          "base_uri": "https://localhost:8080/",
          "height": 34
        },
        "outputId": "825af48e-b21d-4789-819d-2eea3f324dd1"
      },
      "source": [
        "y = df['한의사체질진단']\n",
        "y.shape"
      ],
      "execution_count": 8,
      "outputs": [
        {
          "output_type": "execute_result",
          "data": {
            "text/plain": [
              "(500,)"
            ]
          },
          "metadata": {
            "tags": []
          },
          "execution_count": 8
        }
      ]
    },
    {
      "cell_type": "code",
      "metadata": {
        "id": "WVwLkhx1N634",
        "colab_type": "code",
        "colab": {}
      },
      "source": [
        "# 사이킷런에서 제공하는 model_selection 의 train_test_split 으로 만듭니다.\n",
        "\n",
        "from sklearn.model_selection import train_test_split\n",
        "\n",
        "X_train, X_test, y_train, y_test = train_test_split(\n",
        "    X, y, test_size=0.2, random_state=42)"
      ],
      "execution_count": 9,
      "outputs": []
    },
    {
      "cell_type": "code",
      "metadata": {
        "id": "pXC-_Ho8N638",
        "colab_type": "code",
        "colab": {
          "base_uri": "https://localhost:8080/",
          "height": 34
        },
        "outputId": "db934a1a-e7f8-4ccd-e571-0ba8c30933fa"
      },
      "source": [
        "# train 세트의 문제와 정답의 데이터 수를 확인해 주세요.\n",
        "\n",
        "X_train.shape, y_train.shape"
      ],
      "execution_count": 10,
      "outputs": [
        {
          "output_type": "execute_result",
          "data": {
            "text/plain": [
              "((400, 71), (400,))"
            ]
          },
          "metadata": {
            "tags": []
          },
          "execution_count": 10
        }
      ]
    },
    {
      "cell_type": "code",
      "metadata": {
        "id": "xddTenOpN63_",
        "colab_type": "code",
        "colab": {
          "base_uri": "https://localhost:8080/",
          "height": 34
        },
        "outputId": "875b8c74-2aaa-4341-9743-d1d51726e4af"
      },
      "source": [
        "# test 세트의 문제와 정답의 데이터 수를 확인해 주세요.\n",
        "\n",
        "X_test.shape, y_test.shape"
      ],
      "execution_count": 11,
      "outputs": [
        {
          "output_type": "execute_result",
          "data": {
            "text/plain": [
              "((100, 71), (100,))"
            ]
          },
          "metadata": {
            "tags": []
          },
          "execution_count": 11
        }
      ]
    },
    {
      "cell_type": "markdown",
      "metadata": {
        "id": "53VFvSfgN64C",
        "colab_type": "text"
      },
      "source": [
        "# 머신러닝 알고리즘 사용하기"
      ]
    },
    {
      "cell_type": "code",
      "metadata": {
        "id": "Xm1ozuuMN64C",
        "colab_type": "code",
        "colab": {
          "base_uri": "https://localhost:8080/",
          "height": 119
        },
        "outputId": "a0163031-ad1f-4b9c-bac8-0b90ad03bb19"
      },
      "source": [
        "# DecisionTree 를 불러옵니다.\n",
        "# gini 계수가 0이면 tree 그리기를 멈춥니다.\n",
        "# max_depth: 트리의 깊이 / min_samples_leaf: 마지막 노드의 최소 sample 수\n",
        "# min_samples_split: sample 나누는 최솟값\n",
        "\n",
        "from sklearn.tree import DecisionTreeClassifier\n",
        "model = DecisionTreeClassifier(max_depth=3, random_state=42)\n",
        "model"
      ],
      "execution_count": 57,
      "outputs": [
        {
          "output_type": "execute_result",
          "data": {
            "text/plain": [
              "DecisionTreeClassifier(ccp_alpha=0.0, class_weight=None, criterion='gini',\n",
              "                       max_depth=3, max_features=None, max_leaf_nodes=None,\n",
              "                       min_impurity_decrease=0.0, min_impurity_split=None,\n",
              "                       min_samples_leaf=1, min_samples_split=2,\n",
              "                       min_weight_fraction_leaf=0.0, presort='deprecated',\n",
              "                       random_state=42, splitter='best')"
            ]
          },
          "metadata": {
            "tags": []
          },
          "execution_count": 57
        }
      ]
    },
    {
      "cell_type": "markdown",
      "metadata": {
        "id": "eyNFzMmWN64E",
        "colab_type": "text"
      },
      "source": [
        "## 최적의 max_depth 값 찾기"
      ]
    },
    {
      "cell_type": "code",
      "metadata": {
        "scrolled": true,
        "id": "iXZ1iWjhN64F",
        "colab_type": "code",
        "colab": {
          "base_uri": "https://localhost:8080/",
          "height": 204
        },
        "outputId": "5d262322-936f-4a54-e781-f1f26c2fefae"
      },
      "source": [
        "# depth가 너무 길어서 끝단에 샘플 한두개로 분류를 한다면 overfitting되는 것이다.\n",
        "# 반대로 depth가 너무 적으면 학습량이 적기 때문에 underfitting된다.\n",
        "# depth갯수는 맨 처음 등장하는 Root을 제외한 node 갯수이다.\n",
        "# 아래의 loop를 이용하여 최적의 max_depth를 찾는다.\n",
        "from sklearn.metrics import accuracy_score\n",
        "\n",
        "for max_depth in range(3, 14):\n",
        "    model = DecisionTreeClassifier(max_depth=max_depth, random_state=42)\n",
        "    y_predict = model.fit(X_train, y_train).predict(X_test)\n",
        "    score = accuracy_score(y_test, y_predict) * 100\n",
        "    print(max_depth, score)"
      ],
      "execution_count": 45,
      "outputs": [
        {
          "output_type": "stream",
          "text": [
            "3 52.0\n",
            "4 46.0\n",
            "5 45.0\n",
            "6 44.0\n",
            "7 46.0\n",
            "8 43.0\n",
            "9 44.0\n",
            "10 43.0\n",
            "11 42.0\n",
            "12 49.0\n",
            "13 49.0\n"
          ],
          "name": "stdout"
        }
      ]
    },
    {
      "cell_type": "markdown",
      "metadata": {
        "id": "qc460fOdN64H",
        "colab_type": "text"
      },
      "source": [
        "## Grid Search\n",
        "\n",
        "* https://scikit-learn.org/stable/modules/cross_validation.html\n",
        "* https://scikit-learn.org/stable/modules/generated/sklearn.model_selection.GridSearchCV.html\n",
        "\n",
        "* param_grid에는 튜닝하고 싶은 파라미터 정보를 넣습니다.\n",
        "\n",
        "* max_features는 일부 feature만 사용하고 싶을 때 사용합니다. 1은 전체라는 뜻입니다.\n",
        "\n",
        "* n_jobs는 -1로 설정하여 사용 가능한 모든 장비를 학습에 이용합니다.\n",
        "\n",
        "* cv는 cross validation을 5개로 나눕니다.\n",
        "\n",
        "* verbose를 1로 하여 로그를 찍으면서 학습을 합니다. 0이면 로그를 출력하지 않습니다."
      ]
    },
    {
      "cell_type": "code",
      "metadata": {
        "id": "GyFUNZEkN64H",
        "colab_type": "code",
        "colab": {
          "base_uri": "https://localhost:8080/",
          "height": 391
        },
        "outputId": "45bacc5b-41e0-4876-8d4d-c5f45de95208"
      },
      "source": [
        "# 위와 같이 loop문이 아니라 sklearn에서 제공하는 최적의 파라미터를 찾는 방법을 사용해보자.\n",
        "# estimator: 사용할 Model\n",
        "# param_grid: 딕셔너리형태로 parameter 들을 입력./ max_features: 사용할 feature의 최대비율.\n",
        "# n_jobs: 사용할 processer 장비의 갯수. -1은 모두 다 사용함을 의미.\n",
        "# cv: 기본값 5. 5-fold cross validation\n",
        "from sklearn.model_selection import GridSearchCV\n",
        "\n",
        "\n",
        "model = DecisionTreeClassifier(random_state=42)\n",
        "param_grid = {\"max_depth\": range(3, 14), \n",
        "              \"max_features\": [0.3, 0.5, 0.7, 0.9, 1]}\n",
        "clf = GridSearchCV(model, param_grid=param_grid, n_jobs=-1, cv=5, verbose=1)\n",
        "clf.fit(X_train, y_train)\n",
        "#clf는 classification의 약자."
      ],
      "execution_count": 66,
      "outputs": [
        {
          "output_type": "stream",
          "text": [
            "Fitting 5 folds for each of 55 candidates, totalling 275 fits\n"
          ],
          "name": "stdout"
        },
        {
          "output_type": "stream",
          "text": [
            "[Parallel(n_jobs=-1)]: Using backend LokyBackend with 2 concurrent workers.\n",
            "[Parallel(n_jobs=-1)]: Done 270 tasks      | elapsed:    2.6s\n",
            "[Parallel(n_jobs=-1)]: Done 275 out of 275 | elapsed:    2.6s finished\n"
          ],
          "name": "stderr"
        },
        {
          "output_type": "execute_result",
          "data": {
            "text/plain": [
              "GridSearchCV(cv=5, error_score=nan,\n",
              "             estimator=DecisionTreeClassifier(ccp_alpha=0.0, class_weight=None,\n",
              "                                              criterion='gini', max_depth=None,\n",
              "                                              max_features=None,\n",
              "                                              max_leaf_nodes=None,\n",
              "                                              min_impurity_decrease=0.0,\n",
              "                                              min_impurity_split=None,\n",
              "                                              min_samples_leaf=1,\n",
              "                                              min_samples_split=2,\n",
              "                                              min_weight_fraction_leaf=0.0,\n",
              "                                              presort='deprecated',\n",
              "                                              random_state=42,\n",
              "                                              splitter='best'),\n",
              "             iid='deprecated', n_jobs=-1,\n",
              "             param_grid={'max_depth': range(3, 14),\n",
              "                         'max_features': [0.3, 0.5, 0.7, 0.9, 1]},\n",
              "             pre_dispatch='2*n_jobs', refit=True, return_train_score=False,\n",
              "             scoring=None, verbose=1)"
            ]
          },
          "metadata": {
            "tags": []
          },
          "execution_count": 66
        }
      ]
    },
    {
      "cell_type": "code",
      "metadata": {
        "id": "NjaMgAbgN64M",
        "colab_type": "code",
        "colab": {
          "base_uri": "https://localhost:8080/",
          "height": 34
        },
        "outputId": "1336fb66-87d8-4cd9-e5db-8fd469c434db"
      },
      "source": [
        "# 최적의 parameter가 무엇인지.\n",
        "clf.best_params_"
      ],
      "execution_count": 67,
      "outputs": [
        {
          "output_type": "execute_result",
          "data": {
            "text/plain": [
              "{'max_depth': 9, 'max_features': 0.7}"
            ]
          },
          "metadata": {
            "tags": []
          },
          "execution_count": 67
        }
      ]
    },
    {
      "cell_type": "code",
      "metadata": {
        "id": "oywR1kCdN64O",
        "colab_type": "code",
        "colab": {
          "base_uri": "https://localhost:8080/",
          "height": 119
        },
        "outputId": "48c6e11e-fc25-4089-b19c-2f15f0e44b2c"
      },
      "source": [
        "# 위의 최적의 parameter로 만든 모델\n",
        "clf.best_estimator_"
      ],
      "execution_count": 68,
      "outputs": [
        {
          "output_type": "execute_result",
          "data": {
            "text/plain": [
              "DecisionTreeClassifier(ccp_alpha=0.0, class_weight=None, criterion='gini',\n",
              "                       max_depth=9, max_features=0.7, max_leaf_nodes=None,\n",
              "                       min_impurity_decrease=0.0, min_impurity_split=None,\n",
              "                       min_samples_leaf=1, min_samples_split=2,\n",
              "                       min_weight_fraction_leaf=0.0, presort='deprecated',\n",
              "                       random_state=42, splitter='best')"
            ]
          },
          "metadata": {
            "tags": []
          },
          "execution_count": 68
        }
      ]
    },
    {
      "cell_type": "code",
      "metadata": {
        "id": "KhSNYC-JN64R",
        "colab_type": "code",
        "colab": {
          "base_uri": "https://localhost:8080/",
          "height": 34
        },
        "outputId": "8fea98ea-e0db-4eb4-cb99-65015ffd720b"
      },
      "source": [
        "clf.best_score_"
      ],
      "execution_count": 69,
      "outputs": [
        {
          "output_type": "execute_result",
          "data": {
            "text/plain": [
              "0.5125"
            ]
          },
          "metadata": {
            "tags": []
          },
          "execution_count": 69
        }
      ]
    },
    {
      "cell_type": "code",
      "metadata": {
        "id": "1ei3TPs2N64U",
        "colab_type": "code",
        "colab": {
          "base_uri": "https://localhost:8080/",
          "height": 479
        },
        "outputId": "aff2c9ce-1172-480b-e8f5-7a17be737276"
      },
      "source": [
        "#clf.cv_results_ 는 cross vaildation의 결과를 반환해준다.\n",
        "#clf.cv_results_는 딕셔녀리형태이므로 아래와 같이 df형태로 변환해준다.\n",
        "#sort_values함수를 이용하여 \"rank_test_score\"를 기준으로 정렬해준다.\n",
        "pd.DataFrame(clf.cv_results_).sort_values(by=\"rank_test_score\").head()\n",
        "#위의 best_score_ 값은 rank_test_score 1위 중에 cross-vaildation 결과인,\n",
        "#split0~4_test_score 값의 평균이다."
      ],
      "execution_count": 70,
      "outputs": [
        {
          "output_type": "execute_result",
          "data": {
            "text/html": [
              "<div>\n",
              "<style scoped>\n",
              "    .dataframe tbody tr th:only-of-type {\n",
              "        vertical-align: middle;\n",
              "    }\n",
              "\n",
              "    .dataframe tbody tr th {\n",
              "        vertical-align: top;\n",
              "    }\n",
              "\n",
              "    .dataframe thead th {\n",
              "        text-align: right;\n",
              "    }\n",
              "</style>\n",
              "<table border=\"1\" class=\"dataframe\">\n",
              "  <thead>\n",
              "    <tr style=\"text-align: right;\">\n",
              "      <th></th>\n",
              "      <th>mean_fit_time</th>\n",
              "      <th>std_fit_time</th>\n",
              "      <th>mean_score_time</th>\n",
              "      <th>std_score_time</th>\n",
              "      <th>param_max_depth</th>\n",
              "      <th>param_max_features</th>\n",
              "      <th>params</th>\n",
              "      <th>split0_test_score</th>\n",
              "      <th>split1_test_score</th>\n",
              "      <th>split2_test_score</th>\n",
              "      <th>split3_test_score</th>\n",
              "      <th>split4_test_score</th>\n",
              "      <th>mean_test_score</th>\n",
              "      <th>std_test_score</th>\n",
              "      <th>rank_test_score</th>\n",
              "    </tr>\n",
              "  </thead>\n",
              "  <tbody>\n",
              "    <tr>\n",
              "      <th>32</th>\n",
              "      <td>0.008678</td>\n",
              "      <td>0.000121</td>\n",
              "      <td>0.001416</td>\n",
              "      <td>0.000048</td>\n",
              "      <td>9</td>\n",
              "      <td>0.7</td>\n",
              "      <td>{'max_depth': 9, 'max_features': 0.7}</td>\n",
              "      <td>0.5250</td>\n",
              "      <td>0.5750</td>\n",
              "      <td>0.5000</td>\n",
              "      <td>0.4125</td>\n",
              "      <td>0.5500</td>\n",
              "      <td>0.5125</td>\n",
              "      <td>0.055902</td>\n",
              "      <td>1</td>\n",
              "    </tr>\n",
              "    <tr>\n",
              "      <th>3</th>\n",
              "      <td>0.006844</td>\n",
              "      <td>0.001502</td>\n",
              "      <td>0.001415</td>\n",
              "      <td>0.000075</td>\n",
              "      <td>3</td>\n",
              "      <td>0.9</td>\n",
              "      <td>{'max_depth': 3, 'max_features': 0.9}</td>\n",
              "      <td>0.4875</td>\n",
              "      <td>0.4500</td>\n",
              "      <td>0.5125</td>\n",
              "      <td>0.5000</td>\n",
              "      <td>0.5250</td>\n",
              "      <td>0.4950</td>\n",
              "      <td>0.025739</td>\n",
              "      <td>2</td>\n",
              "    </tr>\n",
              "    <tr>\n",
              "      <th>52</th>\n",
              "      <td>0.009067</td>\n",
              "      <td>0.000350</td>\n",
              "      <td>0.001462</td>\n",
              "      <td>0.000054</td>\n",
              "      <td>13</td>\n",
              "      <td>0.7</td>\n",
              "      <td>{'max_depth': 13, 'max_features': 0.7}</td>\n",
              "      <td>0.5375</td>\n",
              "      <td>0.5250</td>\n",
              "      <td>0.4625</td>\n",
              "      <td>0.4375</td>\n",
              "      <td>0.5125</td>\n",
              "      <td>0.4950</td>\n",
              "      <td>0.038406</td>\n",
              "      <td>3</td>\n",
              "    </tr>\n",
              "    <tr>\n",
              "      <th>47</th>\n",
              "      <td>0.009067</td>\n",
              "      <td>0.000533</td>\n",
              "      <td>0.001406</td>\n",
              "      <td>0.000031</td>\n",
              "      <td>12</td>\n",
              "      <td>0.7</td>\n",
              "      <td>{'max_depth': 12, 'max_features': 0.7}</td>\n",
              "      <td>0.5375</td>\n",
              "      <td>0.5250</td>\n",
              "      <td>0.4375</td>\n",
              "      <td>0.4375</td>\n",
              "      <td>0.5125</td>\n",
              "      <td>0.4900</td>\n",
              "      <td>0.043589</td>\n",
              "      <td>4</td>\n",
              "    </tr>\n",
              "    <tr>\n",
              "      <th>12</th>\n",
              "      <td>0.008403</td>\n",
              "      <td>0.002834</td>\n",
              "      <td>0.001447</td>\n",
              "      <td>0.000071</td>\n",
              "      <td>5</td>\n",
              "      <td>0.7</td>\n",
              "      <td>{'max_depth': 5, 'max_features': 0.7}</td>\n",
              "      <td>0.5125</td>\n",
              "      <td>0.4625</td>\n",
              "      <td>0.5375</td>\n",
              "      <td>0.4125</td>\n",
              "      <td>0.5125</td>\n",
              "      <td>0.4875</td>\n",
              "      <td>0.044721</td>\n",
              "      <td>5</td>\n",
              "    </tr>\n",
              "  </tbody>\n",
              "</table>\n",
              "</div>"
            ],
            "text/plain": [
              "    mean_fit_time  std_fit_time  ...  std_test_score  rank_test_score\n",
              "32       0.008678      0.000121  ...        0.055902                1\n",
              "3        0.006844      0.001502  ...        0.025739                2\n",
              "52       0.009067      0.000350  ...        0.038406                3\n",
              "47       0.009067      0.000533  ...        0.043589                4\n",
              "12       0.008403      0.002834  ...        0.044721                5\n",
              "\n",
              "[5 rows x 15 columns]"
            ]
          },
          "metadata": {
            "tags": []
          },
          "execution_count": 70
        }
      ]
    },
    {
      "cell_type": "code",
      "metadata": {
        "id": "pswNtGB5N64V",
        "colab_type": "code",
        "colab": {
          "base_uri": "https://localhost:8080/",
          "height": 102
        },
        "outputId": "f43a519d-1842-4d3d-9a40-1bf3ec4f3079"
      },
      "source": [
        "clf.predict(X_test)"
      ],
      "execution_count": 71,
      "outputs": [
        {
          "output_type": "execute_result",
          "data": {
            "text/plain": [
              "array([2, 1, 3, 1, 1, 1, 3, 1, 1, 1, 2, 1, 1, 2, 3, 2, 3, 1, 1, 2, 3, 1,\n",
              "       3, 2, 3, 1, 1, 1, 2, 3, 1, 3, 1, 1, 3, 3, 1, 3, 1, 1, 1, 1, 3, 1,\n",
              "       3, 2, 3, 2, 3, 1, 3, 1, 1, 1, 1, 3, 1, 3, 2, 3, 2, 1, 3, 2, 1, 3,\n",
              "       2, 1, 1, 3, 1, 3, 2, 3, 3, 3, 3, 2, 1, 1, 3, 2, 2, 3, 3, 1, 3, 1,\n",
              "       3, 3, 1, 1, 3, 3, 1, 1, 2, 2, 3, 3])"
            ]
          },
          "metadata": {
            "tags": []
          },
          "execution_count": 71
        }
      ]
    },
    {
      "cell_type": "code",
      "metadata": {
        "id": "IrD5H0PqN64X",
        "colab_type": "code",
        "colab": {
          "base_uri": "https://localhost:8080/",
          "height": 34
        },
        "outputId": "5c4f953a-3241-4ba7-ee5b-fc6087a989e4"
      },
      "source": [
        "clf.score(X_test, y_test)\n",
        "# cross-validation 결과보다 낮게 나왔다."
      ],
      "execution_count": 72,
      "outputs": [
        {
          "output_type": "execute_result",
          "data": {
            "text/plain": [
              "0.46"
            ]
          },
          "metadata": {
            "tags": []
          },
          "execution_count": 72
        }
      ]
    },
    {
      "cell_type": "markdown",
      "metadata": {
        "id": "5HdPbd7tN64Z",
        "colab_type": "text"
      },
      "source": [
        "## Random Search\n",
        "<img src=\"https://i.imgur.com/N17CPGj.png\">\n",
        "\n",
        "출처 : http://www.jmlr.org/papers/volume13/bergstra12a/bergstra12a.pdf\n",
        "\n",
        "* Grid Search는 우리가 설정한 범위 안에서만 parameter을 탐색하지만\n",
        "* Random Search는 좋은 성능을 낼 수 있는 랜덤값을 탐색합니다.\n",
        "\n",
        "https://scikit-learn.org/stable/modules/generated/sklearn.model_selection.RandomizedSearchCV.html"
      ]
    },
    {
      "cell_type": "code",
      "metadata": {
        "id": "_B6r01JKN64a",
        "colab_type": "code",
        "colab": {
          "base_uri": "https://localhost:8080/",
          "height": 119
        },
        "outputId": "a7b1e1a7-b25a-434e-bdfb-3402ad51edf7"
      },
      "source": [
        "model"
      ],
      "execution_count": 73,
      "outputs": [
        {
          "output_type": "execute_result",
          "data": {
            "text/plain": [
              "DecisionTreeClassifier(ccp_alpha=0.0, class_weight=None, criterion='gini',\n",
              "                       max_depth=None, max_features=None, max_leaf_nodes=None,\n",
              "                       min_impurity_decrease=0.0, min_impurity_split=None,\n",
              "                       min_samples_leaf=1, min_samples_split=2,\n",
              "                       min_weight_fraction_leaf=0.0, presort='deprecated',\n",
              "                       random_state=42, splitter='best')"
            ]
          },
          "metadata": {
            "tags": []
          },
          "execution_count": 73
        }
      ]
    },
    {
      "cell_type": "code",
      "metadata": {
        "id": "iBkTwz2_N64c",
        "colab_type": "code",
        "colab": {
          "base_uri": "https://localhost:8080/",
          "height": 34
        },
        "outputId": "c3f35b73-7a6f-4184-8dc3-d71530d1e0f5"
      },
      "source": [
        "max_depth = np.random.randint(3, 20, 10)\n",
        "max_depth"
      ],
      "execution_count": 74,
      "outputs": [
        {
          "output_type": "execute_result",
          "data": {
            "text/plain": [
              "array([17, 16,  3, 18,  4,  5,  4,  6, 15,  5])"
            ]
          },
          "metadata": {
            "tags": []
          },
          "execution_count": 74
        }
      ]
    },
    {
      "cell_type": "code",
      "metadata": {
        "id": "h6JQadXsN64f",
        "colab_type": "code",
        "colab": {}
      },
      "source": [
        "max_features = np.random.uniform(0.7, 1.0, 100)"
      ],
      "execution_count": 75,
      "outputs": []
    },
    {
      "cell_type": "code",
      "metadata": {
        "id": "kecxZJ9rN64h",
        "colab_type": "code",
        "colab": {
          "base_uri": "https://localhost:8080/",
          "height": 391
        },
        "outputId": "1a4d981b-8f00-4b59-cba9-930b166262c4"
      },
      "source": [
        "param_distributions = {\"max_depth\" :max_depth, \n",
        "                       \"max_features\": max_features,\n",
        "                       \"min_samples_split\" : list(range(2, 7))\n",
        "                      }\n",
        "param_distributions"
      ],
      "execution_count": 76,
      "outputs": [
        {
          "output_type": "execute_result",
          "data": {
            "text/plain": [
              "{'max_depth': array([17, 16,  3, 18,  4,  5,  4,  6, 15,  5]),\n",
              " 'max_features': array([0.83796439, 0.84624972, 0.77153891, 0.96951261, 0.74494889,\n",
              "        0.89535017, 0.96405099, 0.82772766, 0.87009468, 0.95224693,\n",
              "        0.86217363, 0.78061294, 0.97705221, 0.95268961, 0.93253121,\n",
              "        0.98939425, 0.98905741, 0.72015021, 0.70682879, 0.84962389,\n",
              "        0.90850163, 0.92333223, 0.95402581, 0.96679252, 0.76517115,\n",
              "        0.75708662, 0.77678251, 0.77662281, 0.746831  , 0.82995054,\n",
              "        0.76134005, 0.88080586, 0.75859066, 0.72170547, 0.97616797,\n",
              "        0.9892056 , 0.7427925 , 0.79683276, 0.91949351, 0.79348335,\n",
              "        0.80679497, 0.75882051, 0.86827486, 0.92195826, 0.75032839,\n",
              "        0.98609348, 0.82829455, 0.82000656, 0.90126982, 0.89223554,\n",
              "        0.78210818, 0.71750267, 0.87538232, 0.95807813, 0.95797012,\n",
              "        0.90823426, 0.93727034, 0.97634401, 0.7463636 , 0.7955319 ,\n",
              "        0.84677908, 0.89649234, 0.77897145, 0.85982332, 0.98517431,\n",
              "        0.75407012, 0.95451722, 0.78802415, 0.85126251, 0.79415919,\n",
              "        0.80342528, 0.9094372 , 0.70471775, 0.7910325 , 0.85731447,\n",
              "        0.88409007, 0.90741825, 0.88740549, 0.86031674, 0.99156758,\n",
              "        0.84387545, 0.94913136, 0.90136121, 0.89612757, 0.75681656,\n",
              "        0.9724025 , 0.94754688, 0.80471435, 0.81970004, 0.92019739,\n",
              "        0.71472412, 0.97185404, 0.95778266, 0.87835005, 0.96244374,\n",
              "        0.77493129, 0.73475199, 0.80389148, 0.85756747, 0.85228319]),\n",
              " 'min_samples_split': [2, 3, 4, 5, 6]}"
            ]
          },
          "metadata": {
            "tags": []
          },
          "execution_count": 76
        }
      ]
    },
    {
      "cell_type": "code",
      "metadata": {
        "id": "cdqdGPFVN64j",
        "colab_type": "code",
        "colab": {
          "base_uri": "https://localhost:8080/",
          "height": 408
        },
        "outputId": "d6960c09-6cf1-419b-ebfa-8b81e95b56ca"
      },
      "source": [
        "from sklearn.model_selection import RandomizedSearchCV\n",
        "\n",
        "clf = RandomizedSearchCV(model,\n",
        "                   param_distributions,\n",
        "                   n_iter=1000,\n",
        "                   scoring=\"accuracy\",\n",
        "                   n_jobs=-1,\n",
        "                   cv=5,\n",
        "                   random_state=42\n",
        "                  )\n",
        "\n",
        "clf.fit(X_train, y_train)"
      ],
      "execution_count": 77,
      "outputs": [
        {
          "output_type": "execute_result",
          "data": {
            "text/plain": [
              "RandomizedSearchCV(cv=5, error_score=nan,\n",
              "                   estimator=DecisionTreeClassifier(ccp_alpha=0.0,\n",
              "                                                    class_weight=None,\n",
              "                                                    criterion='gini',\n",
              "                                                    max_depth=None,\n",
              "                                                    max_features=None,\n",
              "                                                    max_leaf_nodes=None,\n",
              "                                                    min_impurity_decrease=0.0,\n",
              "                                                    min_impurity_split=None,\n",
              "                                                    min_samples_leaf=1,\n",
              "                                                    min_samples_split=2,\n",
              "                                                    min_weight_fraction_leaf=0.0,\n",
              "                                                    presort='deprecated',\n",
              "                                                    random_state=42,\n",
              "                                                    splitter='best'),\n",
              "                   iid...\n",
              "       0.84387545, 0.94913136, 0.90136121, 0.89612757, 0.75681656,\n",
              "       0.9724025 , 0.94754688, 0.80471435, 0.81970004, 0.92019739,\n",
              "       0.71472412, 0.97185404, 0.95778266, 0.87835005, 0.96244374,\n",
              "       0.77493129, 0.73475199, 0.80389148, 0.85756747, 0.85228319]),\n",
              "                                        'min_samples_split': [2, 3, 4, 5, 6]},\n",
              "                   pre_dispatch='2*n_jobs', random_state=42, refit=True,\n",
              "                   return_train_score=False, scoring='accuracy', verbose=0)"
            ]
          },
          "metadata": {
            "tags": []
          },
          "execution_count": 77
        }
      ]
    },
    {
      "cell_type": "code",
      "metadata": {
        "id": "SWpFJiE2N64l",
        "colab_type": "code",
        "colab": {
          "base_uri": "https://localhost:8080/",
          "height": 34
        },
        "outputId": "9acf943a-de5c-4e05-ba9b-8bfed7c8637e"
      },
      "source": [
        "clf.best_params_"
      ],
      "execution_count": 78,
      "outputs": [
        {
          "output_type": "execute_result",
          "data": {
            "text/plain": [
              "{'max_depth': 3, 'max_features': 0.8573144743915123, 'min_samples_split': 2}"
            ]
          },
          "metadata": {
            "tags": []
          },
          "execution_count": 78
        }
      ]
    },
    {
      "cell_type": "code",
      "metadata": {
        "id": "a_IQd7PsN64n",
        "colab_type": "code",
        "colab": {
          "base_uri": "https://localhost:8080/",
          "height": 34
        },
        "outputId": "f8e28216-721d-402c-fbd1-c48c7021c156"
      },
      "source": [
        "clf.best_score_"
      ],
      "execution_count": 79,
      "outputs": [
        {
          "output_type": "execute_result",
          "data": {
            "text/plain": [
              "0.5275"
            ]
          },
          "metadata": {
            "tags": []
          },
          "execution_count": 79
        }
      ]
    },
    {
      "cell_type": "code",
      "metadata": {
        "id": "LYvqPn-rN64p",
        "colab_type": "code",
        "colab": {
          "base_uri": "https://localhost:8080/",
          "height": 34
        },
        "outputId": "c1683989-046c-4c52-85ba-fad3500887d9"
      },
      "source": [
        "clf.score(X_test, y_test)"
      ],
      "execution_count": 80,
      "outputs": [
        {
          "output_type": "execute_result",
          "data": {
            "text/plain": [
              "0.5"
            ]
          },
          "metadata": {
            "tags": []
          },
          "execution_count": 80
        }
      ]
    },
    {
      "cell_type": "code",
      "metadata": {
        "id": "r9xNbQykN64r",
        "colab_type": "code",
        "colab": {
          "base_uri": "https://localhost:8080/",
          "height": 394
        },
        "outputId": "e48f08a4-f12a-4134-b528-63d2bd1fa6a8"
      },
      "source": [
        "pd.DataFrame(clf.cv_results_).sort_values(by=\"rank_test_score\").head()"
      ],
      "execution_count": 81,
      "outputs": [
        {
          "output_type": "execute_result",
          "data": {
            "text/html": [
              "<div>\n",
              "<style scoped>\n",
              "    .dataframe tbody tr th:only-of-type {\n",
              "        vertical-align: middle;\n",
              "    }\n",
              "\n",
              "    .dataframe tbody tr th {\n",
              "        vertical-align: top;\n",
              "    }\n",
              "\n",
              "    .dataframe thead th {\n",
              "        text-align: right;\n",
              "    }\n",
              "</style>\n",
              "<table border=\"1\" class=\"dataframe\">\n",
              "  <thead>\n",
              "    <tr style=\"text-align: right;\">\n",
              "      <th></th>\n",
              "      <th>mean_fit_time</th>\n",
              "      <th>std_fit_time</th>\n",
              "      <th>mean_score_time</th>\n",
              "      <th>std_score_time</th>\n",
              "      <th>param_min_samples_split</th>\n",
              "      <th>param_max_features</th>\n",
              "      <th>param_max_depth</th>\n",
              "      <th>params</th>\n",
              "      <th>split0_test_score</th>\n",
              "      <th>split1_test_score</th>\n",
              "      <th>split2_test_score</th>\n",
              "      <th>split3_test_score</th>\n",
              "      <th>split4_test_score</th>\n",
              "      <th>mean_test_score</th>\n",
              "      <th>std_test_score</th>\n",
              "      <th>rank_test_score</th>\n",
              "    </tr>\n",
              "  </thead>\n",
              "  <tbody>\n",
              "    <tr>\n",
              "      <th>630</th>\n",
              "      <td>0.006068</td>\n",
              "      <td>0.000223</td>\n",
              "      <td>0.001434</td>\n",
              "      <td>0.000084</td>\n",
              "      <td>2</td>\n",
              "      <td>0.851263</td>\n",
              "      <td>3</td>\n",
              "      <td>{'min_samples_split': 2, 'max_features': 0.851...</td>\n",
              "      <td>0.5125</td>\n",
              "      <td>0.5</td>\n",
              "      <td>0.5375</td>\n",
              "      <td>0.525</td>\n",
              "      <td>0.5625</td>\n",
              "      <td>0.5275</td>\n",
              "      <td>0.021506</td>\n",
              "      <td>1</td>\n",
              "    </tr>\n",
              "    <tr>\n",
              "      <th>956</th>\n",
              "      <td>0.005992</td>\n",
              "      <td>0.000163</td>\n",
              "      <td>0.001389</td>\n",
              "      <td>0.000115</td>\n",
              "      <td>6</td>\n",
              "      <td>0.852283</td>\n",
              "      <td>3</td>\n",
              "      <td>{'min_samples_split': 6, 'max_features': 0.852...</td>\n",
              "      <td>0.5125</td>\n",
              "      <td>0.5</td>\n",
              "      <td>0.5375</td>\n",
              "      <td>0.525</td>\n",
              "      <td>0.5625</td>\n",
              "      <td>0.5275</td>\n",
              "      <td>0.021506</td>\n",
              "      <td>1</td>\n",
              "    </tr>\n",
              "    <tr>\n",
              "      <th>789</th>\n",
              "      <td>0.005976</td>\n",
              "      <td>0.000181</td>\n",
              "      <td>0.001737</td>\n",
              "      <td>0.000838</td>\n",
              "      <td>6</td>\n",
              "      <td>0.851263</td>\n",
              "      <td>3</td>\n",
              "      <td>{'min_samples_split': 6, 'max_features': 0.851...</td>\n",
              "      <td>0.5125</td>\n",
              "      <td>0.5</td>\n",
              "      <td>0.5375</td>\n",
              "      <td>0.525</td>\n",
              "      <td>0.5625</td>\n",
              "      <td>0.5275</td>\n",
              "      <td>0.021506</td>\n",
              "      <td>1</td>\n",
              "    </tr>\n",
              "    <tr>\n",
              "      <th>718</th>\n",
              "      <td>0.005921</td>\n",
              "      <td>0.000267</td>\n",
              "      <td>0.001460</td>\n",
              "      <td>0.000123</td>\n",
              "      <td>3</td>\n",
              "      <td>0.857314</td>\n",
              "      <td>3</td>\n",
              "      <td>{'min_samples_split': 3, 'max_features': 0.857...</td>\n",
              "      <td>0.5125</td>\n",
              "      <td>0.5</td>\n",
              "      <td>0.5375</td>\n",
              "      <td>0.525</td>\n",
              "      <td>0.5625</td>\n",
              "      <td>0.5275</td>\n",
              "      <td>0.021506</td>\n",
              "      <td>1</td>\n",
              "    </tr>\n",
              "    <tr>\n",
              "      <th>195</th>\n",
              "      <td>0.007057</td>\n",
              "      <td>0.002109</td>\n",
              "      <td>0.002724</td>\n",
              "      <td>0.002643</td>\n",
              "      <td>3</td>\n",
              "      <td>0.849624</td>\n",
              "      <td>3</td>\n",
              "      <td>{'min_samples_split': 3, 'max_features': 0.849...</td>\n",
              "      <td>0.5125</td>\n",
              "      <td>0.5</td>\n",
              "      <td>0.5375</td>\n",
              "      <td>0.525</td>\n",
              "      <td>0.5625</td>\n",
              "      <td>0.5275</td>\n",
              "      <td>0.021506</td>\n",
              "      <td>1</td>\n",
              "    </tr>\n",
              "  </tbody>\n",
              "</table>\n",
              "</div>"
            ],
            "text/plain": [
              "     mean_fit_time  std_fit_time  ...  std_test_score  rank_test_score\n",
              "630       0.006068      0.000223  ...        0.021506                1\n",
              "956       0.005992      0.000163  ...        0.021506                1\n",
              "789       0.005976      0.000181  ...        0.021506                1\n",
              "718       0.005921      0.000267  ...        0.021506                1\n",
              "195       0.007057      0.002109  ...        0.021506                1\n",
              "\n",
              "[5 rows x 16 columns]"
            ]
          },
          "metadata": {
            "tags": []
          },
          "execution_count": 81
        }
      ]
    },
    {
      "cell_type": "code",
      "metadata": {
        "id": "mtlrzgSWnQP8",
        "colab_type": "code",
        "colab": {}
      },
      "source": [
        "# rank_test_score의 상위 결과를 바탕으로, max_depth, max_features등의 랜덤 값을 정하는 \n",
        "# np.random함수의 범위(최솟값, 최댓값 등)을 조절(수정)하여 RandomizedSearchCV를 다시 돌려서\n",
        "# 더 좋은 score가 나오는 parameter를 찾을 수 있다."
      ],
      "execution_count": null,
      "outputs": []
    },
    {
      "cell_type": "markdown",
      "metadata": {
        "id": "LavbzbqBN64t",
        "colab_type": "text"
      },
      "source": [
        "# 학습과 예측하기"
      ]
    },
    {
      "cell_type": "code",
      "metadata": {
        "id": "fViiyWkuN64u",
        "colab_type": "code",
        "colab": {
          "base_uri": "https://localhost:8080/",
          "height": 119
        },
        "outputId": "a67b7c50-be07-4fa6-8b52-f5e25b97bf48"
      },
      "source": [
        "# 학습을 시킵니다.\n",
        "model.fit(X_train, y_train)"
      ],
      "execution_count": 58,
      "outputs": [
        {
          "output_type": "execute_result",
          "data": {
            "text/plain": [
              "DecisionTreeClassifier(ccp_alpha=0.0, class_weight=None, criterion='gini',\n",
              "                       max_depth=3, max_features=None, max_leaf_nodes=None,\n",
              "                       min_impurity_decrease=0.0, min_impurity_split=None,\n",
              "                       min_samples_leaf=1, min_samples_split=2,\n",
              "                       min_weight_fraction_leaf=0.0, presort='deprecated',\n",
              "                       random_state=42, splitter='best')"
            ]
          },
          "metadata": {
            "tags": []
          },
          "execution_count": 58
        }
      ]
    },
    {
      "cell_type": "code",
      "metadata": {
        "id": "1qkbG72UN64w",
        "colab_type": "code",
        "colab": {}
      },
      "source": [
        "feature_names = X_train.columns.tolist()"
      ],
      "execution_count": 59,
      "outputs": []
    },
    {
      "cell_type": "code",
      "metadata": {
        "id": "OXchyL5vN64y",
        "colab_type": "code",
        "colab": {
          "base_uri": "https://localhost:8080/",
          "height": 846
        },
        "outputId": "da274967-8b71-4c05-9882-1f4278305530"
      },
      "source": [
        "#feature _names: 어떤 항목에 대해서 나눴는지 node에 '표시'하기 위해 컬럼명을 입력해줘야한다.\n",
        "#filled : 각 항목을 색깔로 구분하기 위해서 True로 입력.\n",
        "\n",
        "from sklearn.tree import plot_tree\n",
        "\n",
        "plt.figure(figsize=(15, 15))\n",
        "tree = plot_tree(model, feature_names=feature_names, fontsize=10, filled=True)"
      ],
      "execution_count": 60,
      "outputs": [
        {
          "output_type": "display_data",
          "data": {
            "image/png": "[encoded data removed]",
            "text/plain": [
              "<Figure size 1080x1080 with 1 Axes>"
            ]
          },
          "metadata": {
            "tags": [],
            "image/png": {
              "width": 871,
              "height": 829
            },
            "needs_background": "light"
          }
        }
      ]
    },
    {
      "cell_type": "code",
      "metadata": {
        "id": "9wytI6ZsYeLH",
        "colab_type": "code",
        "colab": {
          "base_uri": "https://localhost:8080/",
          "height": 538
        },
        "outputId": "d0044cb3-f759-486b-e3eb-69cbb74043da"
      },
      "source": [
        "#graphviz 를 통해 시각화 합니다.\n",
        "#graphviz 는 별도의 설치가 필요합니다. \n",
        "#graphviz 와 파이썬에서 graphviz 를 사용할 수 있게 해주는 도구 2가지를 설치해 주셔야 합니다.\n",
        "import graphviz\n",
        "from sklearn.tree import export_graphviz\n",
        "\n",
        "dot_tree = export_graphviz(model,\n",
        "                           feature_names = feature_names,\n",
        "                           filled=True)\n",
        "graphviz.Source(dot_tree)"
      ],
      "execution_count": 61,
      "outputs": [
        {
          "output_type": "execute_result",
          "data": {
            "text/plain": [
              "<graphviz.files.Source at 0x7f7efddb2b00>"
            ],
            "image/svg+xml": "<?xml version=\"1.0\" encoding=\"UTF-8\" standalone=\"no\"?>\n<!DOCTYPE svg PUBLIC \"-//W3C//DTD SVG 1.1//EN\"\n \"http://www.w3.org/Graphics/SVG/1.1/DTD/svg11.dtd\">\n<!-- Generated by graphviz version 2.40.1 (20161225.0304)\n -->\n<!-- Title: Tree Pages: 1 -->\n<svg width=\"1117pt\" height=\"373pt\"\n viewBox=\"0.00 0.00 1117.00 373.00\" xmlns=\"http://www.w3.org/2000/svg\" xmlns:xlink=\"http://www.w3.org/1999/xlink\">\n<g id=\"graph0\" class=\"graph\" transform=\"scale(1 1) rotate(0) translate(4 369)\">\n<title>Tree</title>\n<polygon fill=\"#ffffff\" stroke=\"transparent\" points=\"-4,4 -4,-369 1113,-369 1113,4 -4,4\"/>\n<!-- 0 -->\n<g id=\"node1\" class=\"node\">\n<title>0</title>\n<polygon fill=\"#fefaf7\" stroke=\"#000000\" points=\"613,-365 458,-365 458,-297 613,-297 613,-365\"/>\n<text text-anchor=\"middle\" x=\"535.5\" y=\"-349.8\" font-family=\"Times,serif\" font-size=\"14.00\" fill=\"#000000\">가슴둘레 &lt;= 0.013</text>\n<text text-anchor=\"middle\" x=\"535.5\" y=\"-334.8\" font-family=\"Times,serif\" font-size=\"14.00\" fill=\"#000000\">gini = 0.657</text>\n<text text-anchor=\"middle\" x=\"535.5\" y=\"-319.8\" font-family=\"Times,serif\" font-size=\"14.00\" fill=\"#000000\">samples = 400</text>\n<text text-anchor=\"middle\" x=\"535.5\" y=\"-304.8\" font-family=\"Times,serif\" font-size=\"14.00\" fill=\"#000000\">value = [154, 102, 144]</text>\n</g>\n<!-- 1 -->\n<g id=\"node2\" class=\"node\">\n<title>1</title>\n<polygon fill=\"#f3ecfd\" stroke=\"#000000\" points=\"520.5,-261 388.5,-261 388.5,-193 520.5,-193 520.5,-261\"/>\n<text text-anchor=\"middle\" x=\"454.5\" y=\"-245.8\" font-family=\"Times,serif\" font-size=\"14.00\" fill=\"#000000\">한열점수 &lt;= 9.5</text>\n<text text-anchor=\"middle\" x=\"454.5\" y=\"-230.8\" font-family=\"Times,serif\" font-size=\"14.00\" fill=\"#000000\">gini = 0.622</text>\n<text text-anchor=\"middle\" x=\"454.5\" y=\"-215.8\" font-family=\"Times,serif\" font-size=\"14.00\" fill=\"#000000\">samples = 206</text>\n<text text-anchor=\"middle\" x=\"454.5\" y=\"-200.8\" font-family=\"Times,serif\" font-size=\"14.00\" fill=\"#000000\">value = [34, 80, 92]</text>\n</g>\n<!-- 0&#45;&gt;1 -->\n<g id=\"edge1\" class=\"edge\">\n<title>0&#45;&gt;1</title>\n<path fill=\"none\" stroke=\"#000000\" d=\"M508.9776,-296.9465C502.0546,-288.0578 494.5106,-278.3716 487.304,-269.1188\"/>\n<polygon fill=\"#000000\" stroke=\"#000000\" points=\"489.988,-266.8688 481.082,-261.13 484.4654,-271.1701 489.988,-266.8688\"/>\n<text text-anchor=\"middle\" x=\"477.9977\" y=\"-282.239\" font-family=\"Times,serif\" font-size=\"14.00\" fill=\"#000000\">True</text>\n</g>\n<!-- 8 -->\n<g id=\"node9\" class=\"node\">\n<title>8</title>\n<polygon fill=\"#f3c3a0\" stroke=\"#000000\" points=\"719.5,-261 579.5,-261 579.5,-193 719.5,-193 719.5,-261\"/>\n<text text-anchor=\"middle\" x=\"649.5\" y=\"-245.8\" font-family=\"Times,serif\" font-size=\"14.00\" fill=\"#000000\">BMI &lt;= 0.362</text>\n<text text-anchor=\"middle\" x=\"649.5\" y=\"-230.8\" font-family=\"Times,serif\" font-size=\"14.00\" fill=\"#000000\">gini = 0.533</text>\n<text text-anchor=\"middle\" x=\"649.5\" y=\"-215.8\" font-family=\"Times,serif\" font-size=\"14.00\" fill=\"#000000\">samples = 194</text>\n<text text-anchor=\"middle\" x=\"649.5\" y=\"-200.8\" font-family=\"Times,serif\" font-size=\"14.00\" fill=\"#000000\">value = [120, 22, 52]</text>\n</g>\n<!-- 0&#45;&gt;8 -->\n<g id=\"edge8\" class=\"edge\">\n<title>0&#45;&gt;8</title>\n<path fill=\"none\" stroke=\"#000000\" d=\"M572.8279,-296.9465C582.965,-287.6986 594.0483,-277.5876 604.5583,-267.9994\"/>\n<polygon fill=\"#000000\" stroke=\"#000000\" points=\"607.0595,-270.4553 612.0883,-261.13 602.3417,-265.284 607.0595,-270.4553\"/>\n<text text-anchor=\"middle\" x=\"610.9427\" y=\"-282.4037\" font-family=\"Times,serif\" font-size=\"14.00\" fill=\"#000000\">False</text>\n</g>\n<!-- 2 -->\n<g id=\"node3\" class=\"node\">\n<title>2</title>\n<polygon fill=\"#aef4cb\" stroke=\"#000000\" points=\"312,-157 103,-157 103,-89 312,-89 312,-157\"/>\n<text text-anchor=\"middle\" x=\"207.5\" y=\"-141.8\" font-family=\"Times,serif\" font-size=\"14.00\" fill=\"#000000\">성격_행동빠름_행동느림 &lt;= 2.5</text>\n<text text-anchor=\"middle\" x=\"207.5\" y=\"-126.8\" font-family=\"Times,serif\" font-size=\"14.00\" fill=\"#000000\">gini = 0.561</text>\n<text text-anchor=\"middle\" x=\"207.5\" y=\"-111.8\" font-family=\"Times,serif\" font-size=\"14.00\" fill=\"#000000\">samples = 86</text>\n<text text-anchor=\"middle\" x=\"207.5\" y=\"-96.8\" font-family=\"Times,serif\" font-size=\"14.00\" fill=\"#000000\">value = [11, 50, 25]</text>\n</g>\n<!-- 1&#45;&gt;2 -->\n<g id=\"edge2\" class=\"edge\">\n<title>1&#45;&gt;2</title>\n<path fill=\"none\" stroke=\"#000000\" d=\"M388.3085,-199.1299C360.5855,-187.4571 327.9121,-173.6998 298.0201,-161.1137\"/>\n<polygon fill=\"#000000\" stroke=\"#000000\" points=\"298.997,-157.7275 288.4225,-157.0726 296.2806,-164.179 298.997,-157.7275\"/>\n</g>\n<!-- 5 -->\n<g id=\"node6\" class=\"node\">\n<title>5</title>\n<polygon fill=\"#cbaef4\" stroke=\"#000000\" points=\"520.5,-157 388.5,-157 388.5,-89 520.5,-89 520.5,-157\"/>\n<text text-anchor=\"middle\" x=\"454.5\" y=\"-141.8\" font-family=\"Times,serif\" font-size=\"14.00\" fill=\"#000000\">키 &lt;= &#45;1.313</text>\n<text text-anchor=\"middle\" x=\"454.5\" y=\"-126.8\" font-family=\"Times,serif\" font-size=\"14.00\" fill=\"#000000\">gini = 0.589</text>\n<text text-anchor=\"middle\" x=\"454.5\" y=\"-111.8\" font-family=\"Times,serif\" font-size=\"14.00\" fill=\"#000000\">samples = 120</text>\n<text text-anchor=\"middle\" x=\"454.5\" y=\"-96.8\" font-family=\"Times,serif\" font-size=\"14.00\" fill=\"#000000\">value = [23, 30, 67]</text>\n</g>\n<!-- 1&#45;&gt;5 -->\n<g id=\"edge5\" class=\"edge\">\n<title>1&#45;&gt;5</title>\n<path fill=\"none\" stroke=\"#000000\" d=\"M454.5,-192.9465C454.5,-184.776 454.5,-175.9318 454.5,-167.3697\"/>\n<polygon fill=\"#000000\" stroke=\"#000000\" points=\"458.0001,-167.13 454.5,-157.13 451.0001,-167.13 458.0001,-167.13\"/>\n</g>\n<!-- 3 -->\n<g id=\"node4\" class=\"node\">\n<title>3</title>\n<polygon fill=\"#d7fae6\" stroke=\"#000000\" points=\"131,-53 0,-53 0,0 131,0 131,-53\"/>\n<text text-anchor=\"middle\" x=\"65.5\" y=\"-37.8\" font-family=\"Times,serif\" font-size=\"14.00\" fill=\"#000000\">gini = 0.612</text>\n<text text-anchor=\"middle\" x=\"65.5\" y=\"-22.8\" font-family=\"Times,serif\" font-size=\"14.00\" fill=\"#000000\">samples = 70</text>\n<text text-anchor=\"middle\" x=\"65.5\" y=\"-7.8\" font-family=\"Times,serif\" font-size=\"14.00\" fill=\"#000000\">value = [11, 34, 25]</text>\n</g>\n<!-- 2&#45;&gt;3 -->\n<g id=\"edge3\" class=\"edge\">\n<title>2&#45;&gt;3</title>\n<path fill=\"none\" stroke=\"#000000\" d=\"M157.4361,-88.9777C143.1531,-79.2713 127.6287,-68.7213 113.4737,-59.1018\"/>\n<polygon fill=\"#000000\" stroke=\"#000000\" points=\"115.0986,-55.9744 104.8605,-53.2485 111.1641,-61.764 115.0986,-55.9744\"/>\n</g>\n<!-- 4 -->\n<g id=\"node5\" class=\"node\">\n<title>4</title>\n<polygon fill=\"#39e581\" stroke=\"#000000\" points=\"266,-53 149,-53 149,0 266,0 266,-53\"/>\n<text text-anchor=\"middle\" x=\"207.5\" y=\"-37.8\" font-family=\"Times,serif\" font-size=\"14.00\" fill=\"#000000\">gini = 0.0</text>\n<text text-anchor=\"middle\" x=\"207.5\" y=\"-22.8\" font-family=\"Times,serif\" font-size=\"14.00\" fill=\"#000000\">samples = 16</text>\n<text text-anchor=\"middle\" x=\"207.5\" y=\"-7.8\" font-family=\"Times,serif\" font-size=\"14.00\" fill=\"#000000\">value = [0, 16, 0]</text>\n</g>\n<!-- 2&#45;&gt;4 -->\n<g id=\"edge4\" class=\"edge\">\n<title>2&#45;&gt;4</title>\n<path fill=\"none\" stroke=\"#000000\" d=\"M207.5,-88.9777C207.5,-80.7364 207.5,-71.887 207.5,-63.5153\"/>\n<polygon fill=\"#000000\" stroke=\"#000000\" points=\"211.0001,-63.2484 207.5,-53.2485 204.0001,-63.2485 211.0001,-63.2484\"/>\n</g>\n<!-- 6 -->\n<g id=\"node7\" class=\"node\">\n<title>6</title>\n<polygon fill=\"#eeab7b\" stroke=\"#000000\" points=\"394.5,-53 284.5,-53 284.5,0 394.5,0 394.5,-53\"/>\n<text text-anchor=\"middle\" x=\"339.5\" y=\"-37.8\" font-family=\"Times,serif\" font-size=\"14.00\" fill=\"#000000\">gini = 0.375</text>\n<text text-anchor=\"middle\" x=\"339.5\" y=\"-22.8\" font-family=\"Times,serif\" font-size=\"14.00\" fill=\"#000000\">samples = 12</text>\n<text text-anchor=\"middle\" x=\"339.5\" y=\"-7.8\" font-family=\"Times,serif\" font-size=\"14.00\" fill=\"#000000\">value = [9, 0, 3]</text>\n</g>\n<!-- 5&#45;&gt;6 -->\n<g id=\"edge6\" class=\"edge\">\n<title>5&#45;&gt;6</title>\n<path fill=\"none\" stroke=\"#000000\" d=\"M413.9553,-88.9777C402.7155,-79.546 390.5264,-69.3178 379.3279,-59.9208\"/>\n<polygon fill=\"#000000\" stroke=\"#000000\" points=\"381.2866,-56.9954 371.3764,-53.2485 376.787,-62.3576 381.2866,-56.9954\"/>\n</g>\n<!-- 7 -->\n<g id=\"node8\" class=\"node\">\n<title>7</title>\n<polygon fill=\"#c8a9f4\" stroke=\"#000000\" points=\"544.5,-53 412.5,-53 412.5,0 544.5,0 544.5,-53\"/>\n<text text-anchor=\"middle\" x=\"478.5\" y=\"-37.8\" font-family=\"Times,serif\" font-size=\"14.00\" fill=\"#000000\">gini = 0.555</text>\n<text text-anchor=\"middle\" x=\"478.5\" y=\"-22.8\" font-family=\"Times,serif\" font-size=\"14.00\" fill=\"#000000\">samples = 108</text>\n<text text-anchor=\"middle\" x=\"478.5\" y=\"-7.8\" font-family=\"Times,serif\" font-size=\"14.00\" fill=\"#000000\">value = [14, 30, 64]</text>\n</g>\n<!-- 5&#45;&gt;7 -->\n<g id=\"edge7\" class=\"edge\">\n<title>5&#45;&gt;7</title>\n<path fill=\"none\" stroke=\"#000000\" d=\"M462.9615,-88.9777C465.0567,-80.5533 467.3099,-71.4934 469.4327,-62.9579\"/>\n<polygon fill=\"#000000\" stroke=\"#000000\" points=\"472.8305,-63.7976 471.8475,-53.2485 466.0374,-62.1081 472.8305,-63.7976\"/>\n</g>\n<!-- 9 -->\n<g id=\"node10\" class=\"node\">\n<title>9</title>\n<polygon fill=\"#fbeade\" stroke=\"#000000\" points=\"727,-157 572,-157 572,-89 727,-89 727,-157\"/>\n<text text-anchor=\"middle\" x=\"649.5\" y=\"-141.8\" font-family=\"Times,serif\" font-size=\"14.00\" fill=\"#000000\">성격_대범_섬세 &lt;= 2.5</text>\n<text text-anchor=\"middle\" x=\"649.5\" y=\"-126.8\" font-family=\"Times,serif\" font-size=\"14.00\" fill=\"#000000\">gini = 0.647</text>\n<text text-anchor=\"middle\" x=\"649.5\" y=\"-111.8\" font-family=\"Times,serif\" font-size=\"14.00\" fill=\"#000000\">samples = 71</text>\n<text text-anchor=\"middle\" x=\"649.5\" y=\"-96.8\" font-family=\"Times,serif\" font-size=\"14.00\" fill=\"#000000\">value = [31, 17, 23]</text>\n</g>\n<!-- 8&#45;&gt;9 -->\n<g id=\"edge9\" class=\"edge\">\n<title>8&#45;&gt;9</title>\n<path fill=\"none\" stroke=\"#000000\" d=\"M649.5,-192.9465C649.5,-184.776 649.5,-175.9318 649.5,-167.3697\"/>\n<polygon fill=\"#000000\" stroke=\"#000000\" points=\"653.0001,-167.13 649.5,-157.13 646.0001,-167.13 653.0001,-167.13\"/>\n</g>\n<!-- 12 -->\n<g id=\"node13\" class=\"node\">\n<title>12</title>\n<polygon fill=\"#eeaf81\" stroke=\"#000000\" points=\"967,-157 840,-157 840,-89 967,-89 967,-157\"/>\n<text text-anchor=\"middle\" x=\"903.5\" y=\"-141.8\" font-family=\"Times,serif\" font-size=\"14.00\" fill=\"#000000\">한열손부위 &lt;= 2.5</text>\n<text text-anchor=\"middle\" x=\"903.5\" y=\"-126.8\" font-family=\"Times,serif\" font-size=\"14.00\" fill=\"#000000\">gini = 0.419</text>\n<text text-anchor=\"middle\" x=\"903.5\" y=\"-111.8\" font-family=\"Times,serif\" font-size=\"14.00\" fill=\"#000000\">samples = 123</text>\n<text text-anchor=\"middle\" x=\"903.5\" y=\"-96.8\" font-family=\"Times,serif\" font-size=\"14.00\" fill=\"#000000\">value = [89, 5, 29]</text>\n</g>\n<!-- 8&#45;&gt;12 -->\n<g id=\"edge12\" class=\"edge\">\n<title>8&#45;&gt;12</title>\n<path fill=\"none\" stroke=\"#000000\" d=\"M719.579,-198.3062C753.9397,-184.2373 795.3096,-167.2984 830.1046,-153.0517\"/>\n<polygon fill=\"#000000\" stroke=\"#000000\" points=\"831.8048,-156.1376 839.7329,-149.1094 829.1524,-149.6596 831.8048,-156.1376\"/>\n</g>\n<!-- 10 -->\n<g id=\"node11\" class=\"node\">\n<title>10</title>\n<polygon fill=\"#f4ccaf\" stroke=\"#000000\" points=\"688,-53 563,-53 563,0 688,0 688,-53\"/>\n<text text-anchor=\"middle\" x=\"625.5\" y=\"-37.8\" font-family=\"Times,serif\" font-size=\"14.00\" fill=\"#000000\">gini = 0.586</text>\n<text text-anchor=\"middle\" x=\"625.5\" y=\"-22.8\" font-family=\"Times,serif\" font-size=\"14.00\" fill=\"#000000\">samples = 50</text>\n<text text-anchor=\"middle\" x=\"625.5\" y=\"-7.8\" font-family=\"Times,serif\" font-size=\"14.00\" fill=\"#000000\">value = [28, 9, 13]</text>\n</g>\n<!-- 9&#45;&gt;10 -->\n<g id=\"edge10\" class=\"edge\">\n<title>9&#45;&gt;10</title>\n<path fill=\"none\" stroke=\"#000000\" d=\"M641.0385,-88.9777C638.9433,-80.5533 636.6901,-71.4934 634.5673,-62.9579\"/>\n<polygon fill=\"#000000\" stroke=\"#000000\" points=\"637.9626,-62.1081 632.1525,-53.2485 631.1695,-63.7976 637.9626,-62.1081\"/>\n</g>\n<!-- 11 -->\n<g id=\"node12\" class=\"node\">\n<title>11</title>\n<polygon fill=\"#ece1fb\" stroke=\"#000000\" points=\"823,-53 706,-53 706,0 823,0 823,-53\"/>\n<text text-anchor=\"middle\" x=\"764.5\" y=\"-37.8\" font-family=\"Times,serif\" font-size=\"14.00\" fill=\"#000000\">gini = 0.608</text>\n<text text-anchor=\"middle\" x=\"764.5\" y=\"-22.8\" font-family=\"Times,serif\" font-size=\"14.00\" fill=\"#000000\">samples = 21</text>\n<text text-anchor=\"middle\" x=\"764.5\" y=\"-7.8\" font-family=\"Times,serif\" font-size=\"14.00\" fill=\"#000000\">value = [3, 8, 10]</text>\n</g>\n<!-- 9&#45;&gt;11 -->\n<g id=\"edge11\" class=\"edge\">\n<title>9&#45;&gt;11</title>\n<path fill=\"none\" stroke=\"#000000\" d=\"M690.0447,-88.9777C701.2845,-79.546 713.4736,-69.3178 724.6721,-59.9208\"/>\n<polygon fill=\"#000000\" stroke=\"#000000\" points=\"727.213,-62.3576 732.6236,-53.2485 722.7134,-56.9954 727.213,-62.3576\"/>\n</g>\n<!-- 13 -->\n<g id=\"node14\" class=\"node\">\n<title>13</title>\n<polygon fill=\"#eba069\" stroke=\"#000000\" points=\"966,-53 841,-53 841,0 966,0 966,-53\"/>\n<text text-anchor=\"middle\" x=\"903.5\" y=\"-37.8\" font-family=\"Times,serif\" font-size=\"14.00\" fill=\"#000000\">gini = 0.339</text>\n<text text-anchor=\"middle\" x=\"903.5\" y=\"-22.8\" font-family=\"Times,serif\" font-size=\"14.00\" fill=\"#000000\">samples = 93</text>\n<text text-anchor=\"middle\" x=\"903.5\" y=\"-7.8\" font-family=\"Times,serif\" font-size=\"14.00\" fill=\"#000000\">value = [74, 4, 15]</text>\n</g>\n<!-- 12&#45;&gt;13 -->\n<g id=\"edge13\" class=\"edge\">\n<title>12&#45;&gt;13</title>\n<path fill=\"none\" stroke=\"#000000\" d=\"M903.5,-88.9777C903.5,-80.7364 903.5,-71.887 903.5,-63.5153\"/>\n<polygon fill=\"#000000\" stroke=\"#000000\" points=\"907.0001,-63.2484 903.5,-53.2485 900.0001,-63.2485 907.0001,-63.2484\"/>\n</g>\n<!-- 14 -->\n<g id=\"node15\" class=\"node\">\n<title>14</title>\n<polygon fill=\"#fdf7f3\" stroke=\"#000000\" points=\"1109,-53 984,-53 984,0 1109,0 1109,-53\"/>\n<text text-anchor=\"middle\" x=\"1046.5\" y=\"-37.8\" font-family=\"Times,serif\" font-size=\"14.00\" fill=\"#000000\">gini = 0.531</text>\n<text text-anchor=\"middle\" x=\"1046.5\" y=\"-22.8\" font-family=\"Times,serif\" font-size=\"14.00\" fill=\"#000000\">samples = 30</text>\n<text text-anchor=\"middle\" x=\"1046.5\" y=\"-7.8\" font-family=\"Times,serif\" font-size=\"14.00\" fill=\"#000000\">value = [15, 1, 14]</text>\n</g>\n<!-- 12&#45;&gt;14 -->\n<g id=\"edge14\" class=\"edge\">\n<title>12&#45;&gt;14</title>\n<path fill=\"none\" stroke=\"#000000\" d=\"M953.9165,-88.9777C968.3,-79.2713 983.9337,-68.7213 998.1885,-59.1018\"/>\n<polygon fill=\"#000000\" stroke=\"#000000\" points=\"1000.531,-61.7435 1006.8624,-53.2485 996.6154,-55.941 1000.531,-61.7435\"/>\n</g>\n</g>\n</svg>\n"
          },
          "metadata": {
            "tags": []
          },
          "execution_count": 61
        }
      ]
    },
    {
      "cell_type": "code",
      "metadata": {
        "id": "wgDfqfAuN640",
        "colab_type": "code",
        "colab": {
          "base_uri": "https://localhost:8080/",
          "height": 102
        },
        "outputId": "bbb12491-699f-4443-9d47-264c401c7ddd"
      },
      "source": [
        " # 예측을 하고 결과를 y_predict에 담습니다.\n",
        "y_predict = model.predict(X_test)\n",
        "y_predict"
      ],
      "execution_count": 62,
      "outputs": [
        {
          "output_type": "execute_result",
          "data": {
            "text/plain": [
              "array([3, 1, 2, 1, 1, 3, 2, 1, 1, 3, 3, 1, 1, 1, 2, 3, 2, 1, 1, 3, 3, 1,\n",
              "       3, 2, 3, 1, 1, 1, 3, 2, 1, 3, 3, 1, 3, 3, 1, 3, 1, 1, 3, 3, 1, 1,\n",
              "       3, 3, 1, 2, 3, 1, 3, 1, 1, 1, 1, 3, 1, 1, 2, 1, 2, 3, 2, 3, 1, 3,\n",
              "       3, 1, 1, 3, 2, 3, 2, 2, 2, 3, 2, 1, 1, 2, 1, 2, 1, 1, 1, 3, 3, 2,\n",
              "       1, 3, 1, 1, 2, 1, 1, 1, 3, 3, 3, 1])"
            ]
          },
          "metadata": {
            "tags": []
          },
          "execution_count": 62
        }
      ]
    },
    {
      "cell_type": "markdown",
      "metadata": {
        "id": "p0T0zWzwN642",
        "colab_type": "text"
      },
      "source": [
        "# 정확도(Accuracy) 측정하기"
      ]
    },
    {
      "cell_type": "code",
      "metadata": {
        "id": "sfLpm2N1OHaI",
        "colab_type": "code",
        "colab": {
          "base_uri": "https://localhost:8080/",
          "height": 34
        },
        "outputId": "5db79739-a1fa-4bc5-eaeb-108d9124e4bb"
      },
      "source": [
        "# 예측의 정확도를 구해봅니다.\n",
        "y_predict_list = y_predict.tolist()\n",
        "y_test_list = y_test.tolist()\n",
        "acc = 0\n",
        "for i in range(len(y_predict_list)):\n",
        "  if y_predict_list[i] == y_test_list[i]:\n",
        "    acc += 1\n",
        "print(\"정확도 : \", acc/len(y_predict_list))"
      ],
      "execution_count": 63,
      "outputs": [
        {
          "output_type": "stream",
          "text": [
            "정확도 :  0.52\n"
          ],
          "name": "stdout"
        }
      ]
    },
    {
      "cell_type": "code",
      "metadata": {
        "id": "dvhrmbgNpdoI",
        "colab_type": "code",
        "colab": {
          "base_uri": "https://localhost:8080/",
          "height": 34
        },
        "outputId": "49ce9606-f2f3-43eb-b26a-663f0d091e1a"
      },
      "source": [
        "# 위에서 처럼 직접 구할 수도 있지만 미리 구현된 알고리즘을 가져와 사용합니다.\n",
        "\n",
        "from sklearn.metrics import accuracy_score\n",
        "\n",
        "accuracy_score(y_test, y_predict) * 100"
      ],
      "execution_count": 64,
      "outputs": [
        {
          "output_type": "execute_result",
          "data": {
            "text/plain": [
              "52.0"
            ]
          },
          "metadata": {
            "tags": []
          },
          "execution_count": 64
        }
      ]
    },
    {
      "cell_type": "code",
      "metadata": {
        "scrolled": true,
        "id": "BVmMg2uapdoJ",
        "colab_type": "code",
        "colab": {
          "base_uri": "https://localhost:8080/",
          "height": 34
        },
        "outputId": "94991155-3b80-4406-e3b2-e640d0cdcaa2"
      },
      "source": [
        "# model 의 score 로 점수를 계산합니다.\n",
        "model.score(X_test, y_test) * 100"
      ],
      "execution_count": 65,
      "outputs": [
        {
          "output_type": "execute_result",
          "data": {
            "text/plain": [
              "52.0"
            ]
          },
          "metadata": {
            "tags": []
          },
          "execution_count": 65
        }
      ]
    },
    {
      "cell_type": "code",
      "metadata": {
        "id": "FKt5-2QrQxyC",
        "colab_type": "code",
        "colab": {}
      },
      "source": [
        "#1 from sklearn.model_selection import train_test_split 을 이용하여\n",
        "#random하게 dataset 나누어 학습 및 예측: acc 49% => 이전에 순서대로 80% 나눈 dataset에 overfit되었음을 확인.\n",
        "#2 loop문을 이용하여 최적의 max_depth 값 찾기: acc 52%\n",
        "#3 GridSearchCV를 이용. model score도 Grid search를 이용해서 구함.(clf.score(X_test, y_test)): acc 46%\n",
        "#4 RandomizedSearchCV를 이용: acc 50%"
      ],
      "execution_count": null,
      "outputs": []
    }
  ]
}